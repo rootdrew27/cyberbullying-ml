{
 "cells": [
  {
   "cell_type": "code",
   "execution_count": null,
   "metadata": {},
   "outputs": [],
   "source": [
    "# Test the ability of a model trained on Dataset 1 to generalize to Dataset 2\n",
    "# Negative class (0) Non-cyberbullying/Non-hatespeech\n",
    "# Positive class (1) Cyberbullying/Hatespeech"
   ]
  },
  {
   "cell_type": "code",
   "execution_count": 104,
   "metadata": {},
   "outputs": [],
   "source": [
    "import pandas as pd\n",
    "import numpy as np\n",
    "import xgboost as xgb\n",
    "from sklearn.model_selection import train_test_split\n",
    "from sklearn.feature_extraction.text import TfidfVectorizer, CountVectorizer\n",
    "from sklearn.metrics import classification_report\n",
    "from sklearn.metrics import confusion_matrix\n",
    "from sklearn.metrics import ConfusionMatrixDisplay\n",
    "from pathlib import Path\n",
    "import json\n",
    "import random\n",
    "import sys\n",
    "sys.path.append('C:\\\\Users\\\\rooty\\\\UWEC\\\\Research\\\\CyberBullyingML\\\\venv\\\\cyberbullying-ml\\\\src')\n",
    "from utils.results import create_results_file, append_results_to_json\n",
    "from utils.data import balance_train_and_test\n",
    "from catboost import CatBoostClassifier\n",
    "\n",
    "from progress.bar import Bar\n"
   ]
  },
  {
   "cell_type": "code",
   "execution_count": 2,
   "metadata": {},
   "outputs": [],
   "source": [
    "RANDOM_SEED = 115\n",
    "random.seed(RANDOM_SEED)\n",
    "np.random.seed(RANDOM_SEED)"
   ]
  },
  {
   "cell_type": "code",
   "execution_count": 3,
   "metadata": {},
   "outputs": [],
   "source": [
    "CLEAN_DATA_PATH = Path(\"../data/en_only\")\n",
    "EXPERIMENTS_PATH = Path('C:\\\\Users\\\\rooty\\\\UWEC\\\\Research\\\\CyberBullyingML\\\\venv\\\\cyberbullying-ml\\\\experiments')\n",
    "RESULT_PATH = Path('C:\\\\Users\\\\rooty\\\\UWEC\\\\Research\\\\CyberBullyingML\\\\venv\\\\cyberbullying-ml\\\\experiments\\\\results\\\\exp1')"
   ]
  },
  {
   "cell_type": "code",
   "execution_count": 4,
   "metadata": {},
   "outputs": [],
   "source": [
    "TRAIN_DATA_NAME = '48000_cyberbullying_tweets_basic_clean.csv' \n",
    "TEST_DATA_NAME = 'hatespeech_tweets_basic_clean.csv'"
   ]
  },
  {
   "cell_type": "code",
   "execution_count": 5,
   "metadata": {},
   "outputs": [],
   "source": [
    "train_data = CLEAN_DATA_PATH / TRAIN_DATA_NAME\n",
    "test_data = CLEAN_DATA_PATH / TEST_DATA_NAME"
   ]
  },
  {
   "cell_type": "markdown",
   "metadata": {},
   "source": [
    "### Test 1 \n",
    "- Consider offensive tweets to be bullying tweets"
   ]
  },
  {
   "cell_type": "code",
   "execution_count": 63,
   "metadata": {},
   "outputs": [],
   "source": [
    "train_df = pd.read_csv(train_data)\n",
    "test_df = pd.read_csv(test_data)"
   ]
  },
  {
   "cell_type": "code",
   "execution_count": 64,
   "metadata": {},
   "outputs": [
    {
     "data": {
      "text/plain": [
       "label\n",
       "religion     7942\n",
       "age          7910\n",
       "gender       7396\n",
       "ethnicity    7319\n",
       "other        6731\n",
       "notcb        6377\n",
       "Name: count, dtype: int64"
      ]
     },
     "execution_count": 64,
     "metadata": {},
     "output_type": "execute_result"
    }
   ],
   "source": [
    "train_df.dropna(inplace=True)\n",
    "train_df['label'].value_counts()"
   ]
  },
  {
   "cell_type": "code",
   "execution_count": 65,
   "metadata": {},
   "outputs": [
    {
     "name": "stdout",
     "output_type": "stream",
     "text": [
      "Test DF: class\n",
      "1    17476\n",
      "2     3786\n",
      "0     1246\n",
      "Name: count, dtype: int64\n",
      "\n",
      "Test DF: class\n",
      "1    17476\n",
      "2     3786\n",
      "Name: count, dtype: int64\n"
     ]
    }
   ],
   "source": [
    "test_df.dropna(inplace=True)\n",
    "print(f'Test DF: {test_df[\"class\"].value_counts()}\\n')\n",
    "\n",
    "# Drop hatespeech tweets from test_df\n",
    "test_df = test_df[test_df[\"class\"] != 0]\n",
    "print(f'Test DF: {test_df[\"class\"].value_counts()}')"
   ]
  },
  {
   "cell_type": "code",
   "execution_count": 66,
   "metadata": {},
   "outputs": [
    {
     "data": {
      "text/plain": [
       "0.8539896966227819"
      ]
     },
     "execution_count": 66,
     "metadata": {},
     "output_type": "execute_result"
    }
   ],
   "source": [
    "# calculate the percentage of cyberbullying tweets in the train set\n",
    "total_cb = train_df[train_df['label'] != 'notcb'].shape[0]\n",
    "total_cb / train_df.shape[0]"
   ]
  },
  {
   "cell_type": "code",
   "execution_count": 67,
   "metadata": {},
   "outputs": [
    {
     "data": {
      "text/plain": [
       "0.8219358479917224"
      ]
     },
     "execution_count": 67,
     "metadata": {},
     "output_type": "execute_result"
    }
   ],
   "source": [
    "# calculate the percentage of offensive tweets in the test set\n",
    "test_df[test_df[\"class\"] == 1].shape[0] / test_df.shape[0]"
   ]
  },
  {
   "cell_type": "code",
   "execution_count": 68,
   "metadata": {},
   "outputs": [],
   "source": [
    "label2id = {'notcb': 0, 'cb': 1}\n",
    "id2label = {0: 'notcb', 1: 'cb'}"
   ]
  },
  {
   "cell_type": "code",
   "execution_count": 76,
   "metadata": {},
   "outputs": [],
   "source": [
    "train_df['label'] = train_df['label'].apply(lambda label : 0 if label == 'notcb' else 1)"
   ]
  },
  {
   "cell_type": "code",
   "execution_count": 77,
   "metadata": {},
   "outputs": [],
   "source": [
    "test_df['class'] = test_df['class'].apply(lambda label : 0 if label == 2 else 1) # originally, offensive = 1, non-offensive = 2 "
   ]
  },
  {
   "cell_type": "code",
   "execution_count": 78,
   "metadata": {},
   "outputs": [
    {
     "data": {
      "text/plain": [
       "0.17097431497667434"
      ]
     },
     "execution_count": 78,
     "metadata": {},
     "output_type": "execute_result"
    }
   ],
   "source": [
    "ratio = train_df[train_df[\"label\"] == 0].shape[0] / train_df[train_df[\"label\"] == 1].shape[0]\n",
    "ratio"
   ]
  },
  {
   "cell_type": "code",
   "execution_count": 175,
   "metadata": {},
   "outputs": [],
   "source": [
    "x_train, y_train = train_df['tweet'], train_df['label']\n",
    "x_test, y_test = test_df['tweet'], test_df['class']"
   ]
  },
  {
   "cell_type": "code",
   "execution_count": null,
   "metadata": {},
   "outputs": [],
   "source": [
    "vect = CountVectorizer()\n",
    "vect.fit_transform(x_train)\n",
    "feature_names = "
   ]
  },
  {
   "cell_type": "code",
   "execution_count": null,
   "metadata": {},
   "outputs": [],
   "source": [
    "def count_oov_words(text, vocabulary):\n",
    "    words = text.split()\n",
    "    return sum(1 for word in words if word not in vocabulary)\n",
    "\n",
    "# Filter the test set\n",
    "filtered_test_texts = []\n",
    "filtered_test_vectors = []\n",
    "\n",
    "for text, vector in zip(test_texts, test_vectors):\n",
    "    oov_count = count_oov_words(text, feature_names)\n",
    "    if oov_count <= 3:\n",
    "        filtered_test_texts.append(text)\n",
    "        filtered_test_vectors.append(vector)"
   ]
  },
  {
   "cell_type": "code",
   "execution_count": 80,
   "metadata": {},
   "outputs": [
    {
     "name": "stdout",
     "output_type": "stream",
     "text": [
      "0\n",
      "0\n"
     ]
    }
   ],
   "source": [
    "nan_rows_train = train_df[train_df.isna().any(axis=1)]\n",
    "nan_rows_test = test_df[test_df.isna().any(axis=1)]\n",
    "print(len(nan_rows_train))\n",
    "print(len(nan_rows_test))"
   ]
  },
  {
   "cell_type": "code",
   "execution_count": 176,
   "metadata": {},
   "outputs": [
    {
     "name": "stdout",
     "output_type": "stream",
     "text": [
      "Number of OOV features: 8614\n",
      "OOV features: ['02' '0300' '08' ... 'zulema' 'zulu' 'zzzquil']\n"
     ]
    }
   ],
   "source": [
    "# feature extraction\n",
    "vect = CountVectorizer()\n",
    "x_train = vect.fit_transform(x_train)\n",
    "vect2 = CountVectorizer()\n",
    "x_test = vect2.fit_transform(x_test)\n",
    "\n",
    "# calculate the number of OOV features in the test set\n",
    "feats_train = vect.get_feature_names_out()\n",
    "feats_test = vect2.get_feature_names_out()\n",
    "oov_feats = np.setdiff1d(feats_test, feats_train)\n",
    "print(f'Number of OOV features: {len(oov_feats)}')\n",
    "print(f'OOV features: {oov_feats}')\n"
   ]
  },
  {
   "cell_type": "code",
   "execution_count": 169,
   "metadata": {},
   "outputs": [
    {
     "data": {
      "text/plain": [
       "20348"
      ]
     },
     "execution_count": 169,
     "metadata": {},
     "output_type": "execute_result"
    }
   ],
   "source": [
    "len(feats_test)\n"
   ]
  },
  {
   "cell_type": "code",
   "execution_count": 82,
   "metadata": {},
   "outputs": [
    {
     "data": {
      "text/html": [
       "<style>#sk-container-id-1 {\n",
       "  /* Definition of color scheme common for light and dark mode */\n",
       "  --sklearn-color-text: black;\n",
       "  --sklearn-color-line: gray;\n",
       "  /* Definition of color scheme for unfitted estimators */\n",
       "  --sklearn-color-unfitted-level-0: #fff5e6;\n",
       "  --sklearn-color-unfitted-level-1: #f6e4d2;\n",
       "  --sklearn-color-unfitted-level-2: #ffe0b3;\n",
       "  --sklearn-color-unfitted-level-3: chocolate;\n",
       "  /* Definition of color scheme for fitted estimators */\n",
       "  --sklearn-color-fitted-level-0: #f0f8ff;\n",
       "  --sklearn-color-fitted-level-1: #d4ebff;\n",
       "  --sklearn-color-fitted-level-2: #b3dbfd;\n",
       "  --sklearn-color-fitted-level-3: cornflowerblue;\n",
       "\n",
       "  /* Specific color for light theme */\n",
       "  --sklearn-color-text-on-default-background: var(--sg-text-color, var(--theme-code-foreground, var(--jp-content-font-color1, black)));\n",
       "  --sklearn-color-background: var(--sg-background-color, var(--theme-background, var(--jp-layout-color0, white)));\n",
       "  --sklearn-color-border-box: var(--sg-text-color, var(--theme-code-foreground, var(--jp-content-font-color1, black)));\n",
       "  --sklearn-color-icon: #696969;\n",
       "\n",
       "  @media (prefers-color-scheme: dark) {\n",
       "    /* Redefinition of color scheme for dark theme */\n",
       "    --sklearn-color-text-on-default-background: var(--sg-text-color, var(--theme-code-foreground, var(--jp-content-font-color1, white)));\n",
       "    --sklearn-color-background: var(--sg-background-color, var(--theme-background, var(--jp-layout-color0, #111)));\n",
       "    --sklearn-color-border-box: var(--sg-text-color, var(--theme-code-foreground, var(--jp-content-font-color1, white)));\n",
       "    --sklearn-color-icon: #878787;\n",
       "  }\n",
       "}\n",
       "\n",
       "#sk-container-id-1 {\n",
       "  color: var(--sklearn-color-text);\n",
       "}\n",
       "\n",
       "#sk-container-id-1 pre {\n",
       "  padding: 0;\n",
       "}\n",
       "\n",
       "#sk-container-id-1 input.sk-hidden--visually {\n",
       "  border: 0;\n",
       "  clip: rect(1px 1px 1px 1px);\n",
       "  clip: rect(1px, 1px, 1px, 1px);\n",
       "  height: 1px;\n",
       "  margin: -1px;\n",
       "  overflow: hidden;\n",
       "  padding: 0;\n",
       "  position: absolute;\n",
       "  width: 1px;\n",
       "}\n",
       "\n",
       "#sk-container-id-1 div.sk-dashed-wrapped {\n",
       "  border: 1px dashed var(--sklearn-color-line);\n",
       "  margin: 0 0.4em 0.5em 0.4em;\n",
       "  box-sizing: border-box;\n",
       "  padding-bottom: 0.4em;\n",
       "  background-color: var(--sklearn-color-background);\n",
       "}\n",
       "\n",
       "#sk-container-id-1 div.sk-container {\n",
       "  /* jupyter's `normalize.less` sets `[hidden] { display: none; }`\n",
       "     but bootstrap.min.css set `[hidden] { display: none !important; }`\n",
       "     so we also need the `!important` here to be able to override the\n",
       "     default hidden behavior on the sphinx rendered scikit-learn.org.\n",
       "     See: https://github.com/scikit-learn/scikit-learn/issues/21755 */\n",
       "  display: inline-block !important;\n",
       "  position: relative;\n",
       "}\n",
       "\n",
       "#sk-container-id-1 div.sk-text-repr-fallback {\n",
       "  display: none;\n",
       "}\n",
       "\n",
       "div.sk-parallel-item,\n",
       "div.sk-serial,\n",
       "div.sk-item {\n",
       "  /* draw centered vertical line to link estimators */\n",
       "  background-image: linear-gradient(var(--sklearn-color-text-on-default-background), var(--sklearn-color-text-on-default-background));\n",
       "  background-size: 2px 100%;\n",
       "  background-repeat: no-repeat;\n",
       "  background-position: center center;\n",
       "}\n",
       "\n",
       "/* Parallel-specific style estimator block */\n",
       "\n",
       "#sk-container-id-1 div.sk-parallel-item::after {\n",
       "  content: \"\";\n",
       "  width: 100%;\n",
       "  border-bottom: 2px solid var(--sklearn-color-text-on-default-background);\n",
       "  flex-grow: 1;\n",
       "}\n",
       "\n",
       "#sk-container-id-1 div.sk-parallel {\n",
       "  display: flex;\n",
       "  align-items: stretch;\n",
       "  justify-content: center;\n",
       "  background-color: var(--sklearn-color-background);\n",
       "  position: relative;\n",
       "}\n",
       "\n",
       "#sk-container-id-1 div.sk-parallel-item {\n",
       "  display: flex;\n",
       "  flex-direction: column;\n",
       "}\n",
       "\n",
       "#sk-container-id-1 div.sk-parallel-item:first-child::after {\n",
       "  align-self: flex-end;\n",
       "  width: 50%;\n",
       "}\n",
       "\n",
       "#sk-container-id-1 div.sk-parallel-item:last-child::after {\n",
       "  align-self: flex-start;\n",
       "  width: 50%;\n",
       "}\n",
       "\n",
       "#sk-container-id-1 div.sk-parallel-item:only-child::after {\n",
       "  width: 0;\n",
       "}\n",
       "\n",
       "/* Serial-specific style estimator block */\n",
       "\n",
       "#sk-container-id-1 div.sk-serial {\n",
       "  display: flex;\n",
       "  flex-direction: column;\n",
       "  align-items: center;\n",
       "  background-color: var(--sklearn-color-background);\n",
       "  padding-right: 1em;\n",
       "  padding-left: 1em;\n",
       "}\n",
       "\n",
       "\n",
       "/* Toggleable style: style used for estimator/Pipeline/ColumnTransformer box that is\n",
       "clickable and can be expanded/collapsed.\n",
       "- Pipeline and ColumnTransformer use this feature and define the default style\n",
       "- Estimators will overwrite some part of the style using the `sk-estimator` class\n",
       "*/\n",
       "\n",
       "/* Pipeline and ColumnTransformer style (default) */\n",
       "\n",
       "#sk-container-id-1 div.sk-toggleable {\n",
       "  /* Default theme specific background. It is overwritten whether we have a\n",
       "  specific estimator or a Pipeline/ColumnTransformer */\n",
       "  background-color: var(--sklearn-color-background);\n",
       "}\n",
       "\n",
       "/* Toggleable label */\n",
       "#sk-container-id-1 label.sk-toggleable__label {\n",
       "  cursor: pointer;\n",
       "  display: block;\n",
       "  width: 100%;\n",
       "  margin-bottom: 0;\n",
       "  padding: 0.5em;\n",
       "  box-sizing: border-box;\n",
       "  text-align: center;\n",
       "}\n",
       "\n",
       "#sk-container-id-1 label.sk-toggleable__label-arrow:before {\n",
       "  /* Arrow on the left of the label */\n",
       "  content: \"▸\";\n",
       "  float: left;\n",
       "  margin-right: 0.25em;\n",
       "  color: var(--sklearn-color-icon);\n",
       "}\n",
       "\n",
       "#sk-container-id-1 label.sk-toggleable__label-arrow:hover:before {\n",
       "  color: var(--sklearn-color-text);\n",
       "}\n",
       "\n",
       "/* Toggleable content - dropdown */\n",
       "\n",
       "#sk-container-id-1 div.sk-toggleable__content {\n",
       "  max-height: 0;\n",
       "  max-width: 0;\n",
       "  overflow: hidden;\n",
       "  text-align: left;\n",
       "  /* unfitted */\n",
       "  background-color: var(--sklearn-color-unfitted-level-0);\n",
       "}\n",
       "\n",
       "#sk-container-id-1 div.sk-toggleable__content.fitted {\n",
       "  /* fitted */\n",
       "  background-color: var(--sklearn-color-fitted-level-0);\n",
       "}\n",
       "\n",
       "#sk-container-id-1 div.sk-toggleable__content pre {\n",
       "  margin: 0.2em;\n",
       "  border-radius: 0.25em;\n",
       "  color: var(--sklearn-color-text);\n",
       "  /* unfitted */\n",
       "  background-color: var(--sklearn-color-unfitted-level-0);\n",
       "}\n",
       "\n",
       "#sk-container-id-1 div.sk-toggleable__content.fitted pre {\n",
       "  /* unfitted */\n",
       "  background-color: var(--sklearn-color-fitted-level-0);\n",
       "}\n",
       "\n",
       "#sk-container-id-1 input.sk-toggleable__control:checked~div.sk-toggleable__content {\n",
       "  /* Expand drop-down */\n",
       "  max-height: 200px;\n",
       "  max-width: 100%;\n",
       "  overflow: auto;\n",
       "}\n",
       "\n",
       "#sk-container-id-1 input.sk-toggleable__control:checked~label.sk-toggleable__label-arrow:before {\n",
       "  content: \"▾\";\n",
       "}\n",
       "\n",
       "/* Pipeline/ColumnTransformer-specific style */\n",
       "\n",
       "#sk-container-id-1 div.sk-label input.sk-toggleable__control:checked~label.sk-toggleable__label {\n",
       "  color: var(--sklearn-color-text);\n",
       "  background-color: var(--sklearn-color-unfitted-level-2);\n",
       "}\n",
       "\n",
       "#sk-container-id-1 div.sk-label.fitted input.sk-toggleable__control:checked~label.sk-toggleable__label {\n",
       "  background-color: var(--sklearn-color-fitted-level-2);\n",
       "}\n",
       "\n",
       "/* Estimator-specific style */\n",
       "\n",
       "/* Colorize estimator box */\n",
       "#sk-container-id-1 div.sk-estimator input.sk-toggleable__control:checked~label.sk-toggleable__label {\n",
       "  /* unfitted */\n",
       "  background-color: var(--sklearn-color-unfitted-level-2);\n",
       "}\n",
       "\n",
       "#sk-container-id-1 div.sk-estimator.fitted input.sk-toggleable__control:checked~label.sk-toggleable__label {\n",
       "  /* fitted */\n",
       "  background-color: var(--sklearn-color-fitted-level-2);\n",
       "}\n",
       "\n",
       "#sk-container-id-1 div.sk-label label.sk-toggleable__label,\n",
       "#sk-container-id-1 div.sk-label label {\n",
       "  /* The background is the default theme color */\n",
       "  color: var(--sklearn-color-text-on-default-background);\n",
       "}\n",
       "\n",
       "/* On hover, darken the color of the background */\n",
       "#sk-container-id-1 div.sk-label:hover label.sk-toggleable__label {\n",
       "  color: var(--sklearn-color-text);\n",
       "  background-color: var(--sklearn-color-unfitted-level-2);\n",
       "}\n",
       "\n",
       "/* Label box, darken color on hover, fitted */\n",
       "#sk-container-id-1 div.sk-label.fitted:hover label.sk-toggleable__label.fitted {\n",
       "  color: var(--sklearn-color-text);\n",
       "  background-color: var(--sklearn-color-fitted-level-2);\n",
       "}\n",
       "\n",
       "/* Estimator label */\n",
       "\n",
       "#sk-container-id-1 div.sk-label label {\n",
       "  font-family: monospace;\n",
       "  font-weight: bold;\n",
       "  display: inline-block;\n",
       "  line-height: 1.2em;\n",
       "}\n",
       "\n",
       "#sk-container-id-1 div.sk-label-container {\n",
       "  text-align: center;\n",
       "}\n",
       "\n",
       "/* Estimator-specific */\n",
       "#sk-container-id-1 div.sk-estimator {\n",
       "  font-family: monospace;\n",
       "  border: 1px dotted var(--sklearn-color-border-box);\n",
       "  border-radius: 0.25em;\n",
       "  box-sizing: border-box;\n",
       "  margin-bottom: 0.5em;\n",
       "  /* unfitted */\n",
       "  background-color: var(--sklearn-color-unfitted-level-0);\n",
       "}\n",
       "\n",
       "#sk-container-id-1 div.sk-estimator.fitted {\n",
       "  /* fitted */\n",
       "  background-color: var(--sklearn-color-fitted-level-0);\n",
       "}\n",
       "\n",
       "/* on hover */\n",
       "#sk-container-id-1 div.sk-estimator:hover {\n",
       "  /* unfitted */\n",
       "  background-color: var(--sklearn-color-unfitted-level-2);\n",
       "}\n",
       "\n",
       "#sk-container-id-1 div.sk-estimator.fitted:hover {\n",
       "  /* fitted */\n",
       "  background-color: var(--sklearn-color-fitted-level-2);\n",
       "}\n",
       "\n",
       "/* Specification for estimator info (e.g. \"i\" and \"?\") */\n",
       "\n",
       "/* Common style for \"i\" and \"?\" */\n",
       "\n",
       ".sk-estimator-doc-link,\n",
       "a:link.sk-estimator-doc-link,\n",
       "a:visited.sk-estimator-doc-link {\n",
       "  float: right;\n",
       "  font-size: smaller;\n",
       "  line-height: 1em;\n",
       "  font-family: monospace;\n",
       "  background-color: var(--sklearn-color-background);\n",
       "  border-radius: 1em;\n",
       "  height: 1em;\n",
       "  width: 1em;\n",
       "  text-decoration: none !important;\n",
       "  margin-left: 1ex;\n",
       "  /* unfitted */\n",
       "  border: var(--sklearn-color-unfitted-level-1) 1pt solid;\n",
       "  color: var(--sklearn-color-unfitted-level-1);\n",
       "}\n",
       "\n",
       ".sk-estimator-doc-link.fitted,\n",
       "a:link.sk-estimator-doc-link.fitted,\n",
       "a:visited.sk-estimator-doc-link.fitted {\n",
       "  /* fitted */\n",
       "  border: var(--sklearn-color-fitted-level-1) 1pt solid;\n",
       "  color: var(--sklearn-color-fitted-level-1);\n",
       "}\n",
       "\n",
       "/* On hover */\n",
       "div.sk-estimator:hover .sk-estimator-doc-link:hover,\n",
       ".sk-estimator-doc-link:hover,\n",
       "div.sk-label-container:hover .sk-estimator-doc-link:hover,\n",
       ".sk-estimator-doc-link:hover {\n",
       "  /* unfitted */\n",
       "  background-color: var(--sklearn-color-unfitted-level-3);\n",
       "  color: var(--sklearn-color-background);\n",
       "  text-decoration: none;\n",
       "}\n",
       "\n",
       "div.sk-estimator.fitted:hover .sk-estimator-doc-link.fitted:hover,\n",
       ".sk-estimator-doc-link.fitted:hover,\n",
       "div.sk-label-container:hover .sk-estimator-doc-link.fitted:hover,\n",
       ".sk-estimator-doc-link.fitted:hover {\n",
       "  /* fitted */\n",
       "  background-color: var(--sklearn-color-fitted-level-3);\n",
       "  color: var(--sklearn-color-background);\n",
       "  text-decoration: none;\n",
       "}\n",
       "\n",
       "/* Span, style for the box shown on hovering the info icon */\n",
       ".sk-estimator-doc-link span {\n",
       "  display: none;\n",
       "  z-index: 9999;\n",
       "  position: relative;\n",
       "  font-weight: normal;\n",
       "  right: .2ex;\n",
       "  padding: .5ex;\n",
       "  margin: .5ex;\n",
       "  width: min-content;\n",
       "  min-width: 20ex;\n",
       "  max-width: 50ex;\n",
       "  color: var(--sklearn-color-text);\n",
       "  box-shadow: 2pt 2pt 4pt #999;\n",
       "  /* unfitted */\n",
       "  background: var(--sklearn-color-unfitted-level-0);\n",
       "  border: .5pt solid var(--sklearn-color-unfitted-level-3);\n",
       "}\n",
       "\n",
       ".sk-estimator-doc-link.fitted span {\n",
       "  /* fitted */\n",
       "  background: var(--sklearn-color-fitted-level-0);\n",
       "  border: var(--sklearn-color-fitted-level-3);\n",
       "}\n",
       "\n",
       ".sk-estimator-doc-link:hover span {\n",
       "  display: block;\n",
       "}\n",
       "\n",
       "/* \"?\"-specific style due to the `<a>` HTML tag */\n",
       "\n",
       "#sk-container-id-1 a.estimator_doc_link {\n",
       "  float: right;\n",
       "  font-size: 1rem;\n",
       "  line-height: 1em;\n",
       "  font-family: monospace;\n",
       "  background-color: var(--sklearn-color-background);\n",
       "  border-radius: 1rem;\n",
       "  height: 1rem;\n",
       "  width: 1rem;\n",
       "  text-decoration: none;\n",
       "  /* unfitted */\n",
       "  color: var(--sklearn-color-unfitted-level-1);\n",
       "  border: var(--sklearn-color-unfitted-level-1) 1pt solid;\n",
       "}\n",
       "\n",
       "#sk-container-id-1 a.estimator_doc_link.fitted {\n",
       "  /* fitted */\n",
       "  border: var(--sklearn-color-fitted-level-1) 1pt solid;\n",
       "  color: var(--sklearn-color-fitted-level-1);\n",
       "}\n",
       "\n",
       "/* On hover */\n",
       "#sk-container-id-1 a.estimator_doc_link:hover {\n",
       "  /* unfitted */\n",
       "  background-color: var(--sklearn-color-unfitted-level-3);\n",
       "  color: var(--sklearn-color-background);\n",
       "  text-decoration: none;\n",
       "}\n",
       "\n",
       "#sk-container-id-1 a.estimator_doc_link.fitted:hover {\n",
       "  /* fitted */\n",
       "  background-color: var(--sklearn-color-fitted-level-3);\n",
       "}\n",
       "</style><div id=\"sk-container-id-1\" class=\"sk-top-container\"><div class=\"sk-text-repr-fallback\"><pre>XGBClassifier(base_score=None, booster=None, callbacks=None,\n",
       "              colsample_bylevel=None, colsample_bynode=None,\n",
       "              colsample_bytree=None, device=None, early_stopping_rounds=None,\n",
       "              enable_categorical=False, eval_metric=None, feature_types=None,\n",
       "              gamma=None, grow_policy=None, importance_type=None,\n",
       "              interaction_constraints=None, learning_rate=None, max_bin=None,\n",
       "              max_cat_threshold=None, max_cat_to_onehot=None,\n",
       "              max_delta_step=None, max_depth=None, max_leaves=None,\n",
       "              min_child_weight=None, missing=nan, monotone_constraints=None,\n",
       "              multi_strategy=None, n_estimators=None, n_jobs=None,\n",
       "              num_parallel_tree=None, random_state=115, ...)</pre><b>In a Jupyter environment, please rerun this cell to show the HTML representation or trust the notebook. <br />On GitHub, the HTML representation is unable to render, please try loading this page with nbviewer.org.</b></div><div class=\"sk-container\" hidden><div class=\"sk-item\"><div class=\"sk-estimator fitted sk-toggleable\"><input class=\"sk-toggleable__control sk-hidden--visually\" id=\"sk-estimator-id-1\" type=\"checkbox\" checked><label for=\"sk-estimator-id-1\" class=\"sk-toggleable__label fitted sk-toggleable__label-arrow fitted\">&nbsp;XGBClassifier<span class=\"sk-estimator-doc-link fitted\">i<span>Fitted</span></span></label><div class=\"sk-toggleable__content fitted\"><pre>XGBClassifier(base_score=None, booster=None, callbacks=None,\n",
       "              colsample_bylevel=None, colsample_bynode=None,\n",
       "              colsample_bytree=None, device=None, early_stopping_rounds=None,\n",
       "              enable_categorical=False, eval_metric=None, feature_types=None,\n",
       "              gamma=None, grow_policy=None, importance_type=None,\n",
       "              interaction_constraints=None, learning_rate=None, max_bin=None,\n",
       "              max_cat_threshold=None, max_cat_to_onehot=None,\n",
       "              max_delta_step=None, max_depth=None, max_leaves=None,\n",
       "              min_child_weight=None, missing=nan, monotone_constraints=None,\n",
       "              multi_strategy=None, n_estimators=None, n_jobs=None,\n",
       "              num_parallel_tree=None, random_state=115, ...)</pre></div> </div></div></div></div>"
      ],
      "text/plain": [
       "XGBClassifier(base_score=None, booster=None, callbacks=None,\n",
       "              colsample_bylevel=None, colsample_bynode=None,\n",
       "              colsample_bytree=None, device=None, early_stopping_rounds=None,\n",
       "              enable_categorical=False, eval_metric=None, feature_types=None,\n",
       "              gamma=None, grow_policy=None, importance_type=None,\n",
       "              interaction_constraints=None, learning_rate=None, max_bin=None,\n",
       "              max_cat_threshold=None, max_cat_to_onehot=None,\n",
       "              max_delta_step=None, max_depth=None, max_leaves=None,\n",
       "              min_child_weight=None, missing=nan, monotone_constraints=None,\n",
       "              multi_strategy=None, n_estimators=None, n_jobs=None,\n",
       "              num_parallel_tree=None, random_state=115, ...)"
      ]
     },
     "execution_count": 82,
     "metadata": {},
     "output_type": "execute_result"
    }
   ],
   "source": [
    "m = xgb.XGBClassifier(random_state=RANDOM_SEED, scale_pos_weight=ratio)\n",
    "m.fit(x_train, y_train)"
   ]
  },
  {
   "cell_type": "code",
   "execution_count": 83,
   "metadata": {},
   "outputs": [
    {
     "name": "stdout",
     "output_type": "stream",
     "text": [
      "              precision    recall  f1-score   support\n",
      "\n",
      "       notcb       0.34      0.94      0.50      3786\n",
      "          cb       0.98      0.61      0.75     17476\n",
      "\n",
      "    accuracy                           0.67     21262\n",
      "   macro avg       0.66      0.77      0.63     21262\n",
      "weighted avg       0.86      0.67      0.71     21262\n",
      "\n"
     ]
    }
   ],
   "source": [
    "preds = m.predict(x_test)\n",
    "print(classification_report(y_test, preds, target_names=['notcb', 'cb']))"
   ]
  },
  {
   "cell_type": "code",
   "execution_count": 85,
   "metadata": {},
   "outputs": [
    {
     "data": {
      "text/plain": [
       "<sklearn.metrics._plot.confusion_matrix.ConfusionMatrixDisplay at 0x2250c8c8610>"
      ]
     },
     "execution_count": 85,
     "metadata": {},
     "output_type": "execute_result"
    },
    {
     "data": {
      "image/png": "[encoded data removed]",
      "text/plain": [
       "<Figure size 640x480 with 1 Axes>"
      ]
     },
     "metadata": {},
     "output_type": "display_data"
    }
   ],
   "source": [
    "ConfusionMatrixDisplay.from_estimator(m, x_test, y_test, display_labels=['notcb', 'cb'], colorbar=False)"
   ]
  },
  {
   "cell_type": "code",
   "execution_count": 86,
   "metadata": {},
   "outputs": [
    {
     "data": {
      "text/plain": [
       "<catboost.core.CatBoostClassifier at 0x2250e3a6e30>"
      ]
     },
     "execution_count": 86,
     "metadata": {},
     "output_type": "execute_result"
    }
   ],
   "source": [
    "m = CatBoostClassifier(random_state=RANDOM_SEED, logging_level='Silent', class_weights=[1, ratio])\n",
    "m.fit(x_train, y_train)"
   ]
  },
  {
   "cell_type": "code",
   "execution_count": null,
   "metadata": {},
   "outputs": [],
   "source": [
    "preds = m.predict(x_test)"
   ]
  },
  {
   "cell_type": "markdown",
   "metadata": {},
   "source": [
    "### Test 2\n",
    "- Consider hate speech to be bullying tweets"
   ]
  },
  {
   "cell_type": "code",
   "execution_count": 7,
   "metadata": {},
   "outputs": [],
   "source": [
    "train_df = pd.read_csv(train_data)\n",
    "test_df = pd.read_csv(test_data)\n",
    "\n",
    "# remove duplicates\n",
    "train_df = train_df.drop_duplicates()\n",
    "test_df = test_df.drop_duplicates()\n",
    "# remove rows with missing values\n",
    "train_df = train_df.dropna()\n",
    "test_df = test_df.dropna()"
   ]
  },
  {
   "cell_type": "code",
   "execution_count": 216,
   "metadata": {},
   "outputs": [
    {
     "name": "stdout",
     "output_type": "stream",
     "text": [
      "37298\n"
     ]
    }
   ],
   "source": [
    "total_cb = train_df[train_df['label'] != 'notcb'].shape[0]\n",
    "print(total_cb)\n"
   ]
  },
  {
   "cell_type": "code",
   "execution_count": 8,
   "metadata": {},
   "outputs": [],
   "source": [
    "# add offensive rows and neither rows to the train_df\n",
    "# Add offensive rows to the train_df\n",
    "offensive_data = test_df[test_df['class'] == 1]\n",
    "neither_rows = test_df[test_df['class'] == 2]\n",
    "hatespeech_data = test_df[test_df['class'] == 0]\n",
    "\n",
    "non_cb_data = pd.concat([offensive_data, neither_rows])"
   ]
  },
  {
   "cell_type": "code",
   "execution_count": 9,
   "metadata": {},
   "outputs": [],
   "source": [
    "# convert all cyberbullying tweets to cb\n",
    "train_df['label'] = train_df['label'].apply(\n",
    "    lambda label : 'notcb' if label == 'notcb' else 'cb'\n",
    ")"
   ]
  },
  {
   "cell_type": "code",
   "execution_count": 10,
   "metadata": {},
   "outputs": [
    {
     "name": "stdout",
     "output_type": "stream",
     "text": [
      "20368.522571606474\n"
     ]
    }
   ],
   "source": [
    "# Balance the ratio of cb to non-cb for both datasets\n",
    "# calculate the number of noncb tweets to move from the test set so that the ratio of cb to non-cbset\n",
    "\n",
    "x1 = non_cb_data.shape[0] # num of non-cb tweets in the test set\n",
    "y1 = train_df[train_df['label'] == 'notcb'].shape[0] # num of non-cb tweets in the train set\n",
    "x2_hat = hatespeech_data.shape[0] # num of cb in test set\n",
    "y2_hat = train_df[train_df['label'] == 'cb'].shape[0] # num of cb tweets in the train set\n",
    "x12 = None # num of non-cb tweets to move from the test set to the train set\n",
    "\n",
    "x12 = (y2_hat * x1 - x2_hat * y1) / (y2_hat + x2_hat) \n",
    "print(x12)"
   ]
  },
  {
   "cell_type": "code",
   "execution_count": 30,
   "metadata": {},
   "outputs": [
    {
     "data": {
      "text/plain": [
       "0.7170765877957659"
      ]
     },
     "execution_count": 30,
     "metadata": {},
     "output_type": "execute_result"
    }
   ],
   "source": [
    "# check\n",
    "np.testing.assert_allclose(ratio:=(y1 + x12)/(y2_hat), (x1 - x12)/(x2_hat), atol=1e-5)\n",
    "ratio # ratio of non-cb to cb data"
   ]
  },
  {
   "cell_type": "code",
   "execution_count": 12,
   "metadata": {},
   "outputs": [],
   "source": [
    "non_cb_data = non_cb_data.sample(frac=1, random_state=RANDOM_SEED)\n",
    "data_to_move = non_cb_data.iloc[:int(x12)]\n",
    "data_to_move = data_to_move.rename(columns={'class': 'label'})\n",
    "data_to_move['label'] = 'notcb'\n",
    "train_df = pd.concat([train_df, data_to_move])\n",
    "test_df = pd.concat([hatespeech_data, non_cb_data.iloc[int(x12):]])"
   ]
  },
  {
   "cell_type": "code",
   "execution_count": 13,
   "metadata": {},
   "outputs": [
    {
     "name": "stdout",
     "output_type": "stream",
     "text": [
      "Train DF:\n",
      "label\n",
      "cb       37298\n",
      "notcb    26745\n",
      "Name: count, dtype: int64 \n",
      "\n",
      "Test DF:\n",
      "class\n",
      "0    1246\n",
      "1     744\n",
      "2     150\n",
      "Name: count, dtype: int64\n"
     ]
    }
   ],
   "source": [
    "print(f'Train DF:\\n{train_df[\"label\"].value_counts()} \\n')\n",
    "print(f\"Test DF:\\n{test_df['class'].value_counts()}\")"
   ]
  },
  {
   "cell_type": "code",
   "execution_count": 17,
   "metadata": {},
   "outputs": [],
   "source": [
    "# 0 is the positive class\n",
    "# 1 is the negative class\n",
    "train_df['label'] = train_df['label'].apply(lambda label : 0 if label == 'cb' else 1)\n",
    "test_df['class'] = test_df['class'].apply(lambda label : 0 if label == 0 else 1)"
   ]
  },
  {
   "cell_type": "code",
   "execution_count": 18,
   "metadata": {},
   "outputs": [
    {
     "data": {
      "text/plain": [
       "0.4177570093457944"
      ]
     },
     "execution_count": 18,
     "metadata": {},
     "output_type": "execute_result"
    }
   ],
   "source": [
    "test_df['class'].value_counts()[1] / test_df['class'].shape[0]"
   ]
  },
  {
   "cell_type": "code",
   "execution_count": null,
   "metadata": {},
   "outputs": [],
   "source": []
  },
  {
   "cell_type": "code",
   "execution_count": 21,
   "metadata": {},
   "outputs": [],
   "source": [
    "VECTS = [\n",
    "    CountVectorizer(),\n",
    "    TfidfVectorizer(),\n",
    "    CountVectorizer(ngram_range=(1, 2)),\n",
    "    TfidfVectorizer(ngram_range=(1, 2)),\n",
    "]"
   ]
  },
  {
   "cell_type": "code",
   "execution_count": 26,
   "metadata": {},
   "outputs": [
    {
     "name": "stdout",
     "output_type": "stream",
     "text": [
      "{'cb': {'precision': 0.8257142857142857, 'recall': 0.2319422150882825, 'f1-score': 0.36215538847117795, 'support': 1246.0}, 'notcb': {'precision': 0.4653631284916201, 'recall': 0.9317673378076062, 'f1-score': 0.620715350223547, 'support': 894.0}, 'accuracy': 0.5242990654205607, 'macro avg': {'precision': 0.6455387071029529, 'recall': 0.5818547764479444, 'f1-score': 0.4914353693473624, 'support': 2140.0}, 'weighted avg': {'precision': 0.6751750639586488, 'recall': 0.5242990654205607, 'f1-score': 0.47017062482941063, 'support': 2140.0}}\n",
      "{'cb': {'precision': 0.8381962864721485, 'recall': 0.2536115569823435, 'f1-score': 0.3894023413431916, 'support': 1246.0}, 'notcb': {'precision': 0.47249007373794666, 'recall': 0.9317673378076062, 'f1-score': 0.6270229582235604, 'support': 894.0}, 'accuracy': 0.5369158878504673, 'macro avg': {'precision': 0.6553431801050476, 'recall': 0.5926894473949749, 'f1-score': 0.508212649783376, 'support': 2140.0}, 'weighted avg': {'precision': 0.6854199527411314, 'recall': 0.5369158878504673, 'f1-score': 0.48867001961003725, 'support': 2140.0}}\n",
      "{'cb': {'precision': 0.8247126436781609, 'recall': 0.2303370786516854, 'f1-score': 0.3601003764115433, 'support': 1246.0}, 'notcb': {'precision': 0.46484375, 'recall': 0.9317673378076062, 'f1-score': 0.620253164556962, 'support': 894.0}, 'accuracy': 0.5233644859813084, 'macro avg': {'precision': 0.6447781968390804, 'recall': 0.5810522082296459, 'f1-score': 0.4901767704842527, 'support': 2140.0}, 'weighted avg': {'precision': 0.6743748908985927, 'recall': 0.5233644859813084, 'f1-score': 0.4687810271601434, 'support': 2140.0}}\n",
      "{'cb': {'precision': 0.8355795148247979, 'recall': 0.24879614767255218, 'f1-score': 0.383426097711812, 'support': 1246.0}, 'notcb': {'precision': 0.4708875070661391, 'recall': 0.9317673378076062, 'f1-score': 0.6256102140443109, 'support': 894.0}, 'accuracy': 0.5341121495327102, 'macro avg': {'precision': 0.6532335109454684, 'recall': 0.5902817427400792, 'f1-score': 0.5045181558780615, 'support': 2140.0}, 'weighted avg': {'precision': 0.6832268723312274, 'recall': 0.5341121495327102, 'f1-score': 0.48460020986193075, 'support': 2140.0}}\n"
     ]
    }
   ],
   "source": [
    "create_results_file(RESULT_PATH / 'exp3_1.json')\n",
    "\n",
    "for vect in VECTS:\n",
    "    x_train, y_train = train_df['tweet'], train_df['label']\n",
    "    x_test, y_test = test_df['tweet'], test_df['class']\n",
    "    x_train = vect.fit_transform(x_train)\n",
    "    x_test = vect.transform(x_test)\n",
    "    m = xgb.XGBClassifier(verbosity=0, random_state=RANDOM_SEED, scale_pos_weight=(ratio))\n",
    "    m.fit(x_train, y_train)\n",
    "    preds = m.predict(x_test)\n",
    "    print(result:=classification_report(y_test, preds, target_names=['cb', 'notcb'], output_dict=True))\n",
    "    result['model_name'] = vect.__class__.__name__\n",
    "    result['model_params'] = {k: str(v) if isinstance(v, type) else v for k, v in m.get_params().items()}\n",
    "    result['vectorizer_params'] = {k: str(v) if isinstance(v, type) else v for k, v in vect.get_params().items()}\n",
    "    append_results_to_json(result, RESULT_PATH / 'exp3_1.json')\n"
   ]
  },
  {
   "cell_type": "code",
   "execution_count": 29,
   "metadata": {},
   "outputs": [
    {
     "name": "stdout",
     "output_type": "stream",
     "text": [
      "{'cb': {'precision': 0.9078014184397163, 'recall': 0.10272873194221509, 'f1-score': 0.18457101658255226, 'support': 1246.0}, 'notcb': {'precision': 0.44072036018009003, 'recall': 0.9854586129753915, 'f1-score': 0.6090563428966471, 'support': 894.0}, 'accuracy': 0.47149532710280373, 'macro avg': {'precision': 0.6742608893099031, 'recall': 0.5440936724588032, 'f1-score': 0.3968136797395997, 'support': 2140.0}, 'weighted avg': {'precision': 0.7126750324191061, 'recall': 0.47149532710280373, 'f1-score': 0.36190273701470216, 'support': 2140.0}}\n",
      "{'cb': {'precision': 0.9020979020979021, 'recall': 0.10353130016051364, 'f1-score': 0.1857451403887689, 'support': 1246.0}, 'notcb': {'precision': 0.44066099148723087, 'recall': 0.9843400447427293, 'f1-score': 0.6087858872362504, 'support': 894.0}, 'accuracy': 0.47149532710280373, 'macro avg': {'precision': 0.6713794467925664, 'recall': 0.5439356724516214, 'f1-score': 0.39726551381250963, 'support': 2140.0}, 'weighted avg': {'precision': 0.7093293983194254, 'recall': 0.47149532710280373, 'f1-score': 0.3624733776231841, 'support': 2140.0}}\n",
      "{'cb': {'precision': 0.9047619047619048, 'recall': 0.10674157303370786, 'f1-score': 0.19095477386934673, 'support': 1246.0}, 'notcb': {'precision': 0.44154540893125943, 'recall': 0.9843400447427293, 'f1-score': 0.6096293730516107, 'support': 894.0}, 'accuracy': 0.4733644859813084, 'macro avg': {'precision': 0.6731536568465821, 'recall': 0.5455408088882185, 'f1-score': 0.4002920734604787, 'support': 2140.0}, 'weighted avg': {'precision': 0.7112499667840556, 'recall': 0.4733644859813084, 'f1-score': 0.3658590223127785, 'support': 2140.0}}\n",
      "{'cb': {'precision': 0.8904109589041096, 'recall': 0.1043338683788122, 'f1-score': 0.1867816091954023, 'support': 1246.0}, 'notcb': {'precision': 0.440320962888666, 'recall': 0.9821029082774049, 'f1-score': 0.6080332409972299, 'support': 894.0}, 'accuracy': 0.47102803738317756, 'macro avg': {'precision': 0.6653659608963878, 'recall': 0.5432183883281085, 'f1-score': 0.3974074250963161, 'support': 2140.0}, 'weighted avg': {'precision': 0.7023827082322374, 'recall': 0.47102803738317756, 'f1-score': 0.36276243107896955, 'support': 2140.0}}\n"
     ]
    }
   ],
   "source": [
    "for vect in VECTS:\n",
    "    x_train, y_train = train_df['tweet'], train_df['label']\n",
    "    x_test, y_test = test_df['tweet'], test_df['class']\n",
    "    x_train = vect.fit_transform(x_train)\n",
    "    x_test = vect.transform(x_test)\n",
    "    m = CatBoostClassifier(random_state=RANDOM_SEED, logging_level='Silent', class_weights=[ratio, 1])\n",
    "    m.fit(x_train, y_train)\n",
    "    preds = m.predict(x_test)\n",
    "    print(result:=classification_report(y_test, preds, target_names=['cb', 'notcb'], output_dict=True))\n",
    "    result['model_name'] = \"CatBoostClassifier\"\n",
    "    result['model_params'] = {k: str(v) if isinstance(v, type) else v for k, v in m.get_params().items()}\n",
    "    result['vectorizer_name'] = vect.__class__.__name__\n",
    "    result['vectorizer_params'] = {k: str(v) if isinstance(v, type) else v for k, v in vect.get_params().items()}\n",
    "    append_results_to_json(result, RESULT_PATH / 'exp3_1.json')"
   ]
  },
  {
   "cell_type": "code",
   "execution_count": null,
   "metadata": {},
   "outputs": [],
   "source": []
  }
 ],
 "metadata": {
  "kernelspec": {
   "display_name": "venv",
   "language": "python",
   "name": "python3"
  },
  "language_info": {
   "codemirror_mode": {
    "name": "ipython",
    "version": 3
   },
   "file_extension": ".py",
   "mimetype": "text/x-python",
   "name": "python",
   "nbconvert_exporter": "python",
   "pygments_lexer": "ipython3",
   "version": "3.10.6"
  }
 },
 "nbformat": 4,
 "nbformat_minor": 2
}
