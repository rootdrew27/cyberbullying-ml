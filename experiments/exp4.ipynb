{
 "cells": [
  {
   "cell_type": "code",
   "execution_count": null,
   "metadata": {},
   "outputs": [],
   "source": [
    "# Test the ability of a model trained on Dataset 1 to generalize to Dataset 3\n"
   ]
  },
  {
   "cell_type": "code",
   "execution_count": null,
   "metadata": {},
   "outputs": [],
   "source": [
    "import pandas as pd\n",
    "import numpy as np\n",
    "from pathlib import Path\n",
    "from sklearn.model_selection import train_test_split\n",
    "\n"
   ]
  },
  {
   "cell_type": "code",
   "execution_count": null,
   "metadata": {},
   "outputs": [],
   "source": [
    "TRAIN_DATA_NAME = '48000_cyberbullying_tweets_basic_clean.csv'\n",
    "TEST_DATA_NAME = 'onlineHarassmentDataset_basic_clean.csv'\n",
    "\n",
    "CLEAN_DATA_PATH = Path(\"../data/clean\")"
   ]
  },
  {
   "cell_type": "code",
   "execution_count": null,
   "metadata": {},
   "outputs": [],
   "source": [
    "train_data = CLEAN_DATA_PATH / TRAIN_DATA_NAME\n",
    "test_data = CLEAN_DATA_PATH / TEST_DATA_NAME"
   ]
  },
  {
   "cell_type": "code",
   "execution_count": null,
   "metadata": {},
   "outputs": [],
   "source": []
  },
  {
   "cell_type": "code",
   "execution_count": 1,
   "metadata": {},
   "outputs": [
    {
     "ename": "NameError",
     "evalue": "name 'test_code_counts' is not defined",
     "output_type": "error",
     "traceback": [
      "\u001b[1;31m---------------------------------------------------------------------------\u001b[0m",
      "\u001b[1;31mNameError\u001b[0m                                 Traceback (most recent call last)",
      "Cell \u001b[1;32mIn[1], line 1\u001b[0m\n\u001b[1;32m----> 1\u001b[0m test_N_count \u001b[38;5;241m=\u001b[39m \u001b[43mtest_code_counts\u001b[49m\u001b[38;5;241m.\u001b[39mget(\u001b[38;5;124m'\u001b[39m\u001b[38;5;124mN\u001b[39m\u001b[38;5;124m'\u001b[39m, \u001b[38;5;28;01mNone\u001b[39;00m)\n\u001b[0;32m      2\u001b[0m test_H_count \u001b[38;5;241m=\u001b[39m test_code_counts\u001b[38;5;241m.\u001b[39mget(\u001b[38;5;124m'\u001b[39m\u001b[38;5;124mH\u001b[39m\u001b[38;5;124m'\u001b[39m, \u001b[38;5;28;01mNone\u001b[39;00m)\n",
      "\u001b[1;31mNameError\u001b[0m: name 'test_code_counts' is not defined"
     ]
    }
   ],
   "source": [
    "train_label_counts = train_df['label'].value_counts()\n",
    "test_label_counts = test_df['class'].value_counts()\n",
    "\n",
    "train_notcb_count = train_label_counts.get('notcb', None)\n",
    "train_age_count = train_label_counts.get('age', None)\n",
    "train_gender_count = train_label_counts.get('gender', None)\n",
    "train_ethnicity_count = train_label_counts.get('ethnicity', None)\n",
    "train_religion_count = train_label_counts.get('religion', None)\n",
    "train_other_count = train_label_counts.get('other', None)\n",
    "\n",
    "test_N_count = test_code_counts.get('N', None)\n",
    "test_H_count = test_code_counts.get('H', None)"
   ]
  },
  {
   "cell_type": "code",
   "execution_count": null,
   "metadata": {},
   "outputs": [],
   "source": [
    "train_df['label'] = train_df['label'].map({\n",
    "    'notcb': 0,\n",
    "    'age': 1,\n",
    "    'gender': 2,\n",
    "    'ethnicity': 3,\n",
    "    'religion': 4,\n",
    "    'other': 5\n",
    "})\n",
    "test_df['label'] = test_df['Code'].map({\n",
    "    'N': 0,\n",
    "    'H': 1\n",
    "})"
   ]
  }
 ],
 "metadata": {
  "kernelspec": {
   "display_name": "venv",
   "language": "python",
   "name": "python3"
  },
  "language_info": {
   "codemirror_mode": {
    "name": "ipython",
    "version": 3
   },
   "file_extension": ".py",
   "mimetype": "text/x-python",
   "name": "python",
   "nbconvert_exporter": "python",
   "pygments_lexer": "ipython3",
   "version": "3.10.6"
  }
 },
 "nbformat": 4,
 "nbformat_minor": 2
}
