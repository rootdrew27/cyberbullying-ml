{
 "cells": [
  {
   "cell_type": "markdown",
   "id": "0e01ddf5",
   "metadata": {},
   "source": [
    "**Random Forest**"
   ]
  },
  {
   "cell_type": "code",
   "execution_count": 1,
   "id": "410af3f2",
   "metadata": {},
   "outputs": [],
   "source": [
    "# !pip install tensorflow_addons\n",
    "# !pip install pandas\n",
    "# !pip install scikit-learn"
   ]
  },
  {
   "cell_type": "code",
   "execution_count": 2,
   "id": "67dd0917",
   "metadata": {},
   "outputs": [],
   "source": [
    "# data management\n",
    "import pandas as pd\n",
    "import numpy as np\n",
    "\n",
    "# preprocessing\n",
    "import re\n",
    "\n",
    "import sklearn\n",
    "from sklearn.metrics import classification_report\n",
    "from sklearn.metrics import accuracy_score"
   ]
  },
  {
   "cell_type": "code",
   "execution_count": 22,
   "id": "ddb0b2c4",
   "metadata": {},
   "outputs": [
    {
     "data": {
      "text/html": [
       "<div>\n",
       "<style scoped>\n",
       "    .dataframe tbody tr th:only-of-type {\n",
       "        vertical-align: middle;\n",
       "    }\n",
       "\n",
       "    .dataframe tbody tr th {\n",
       "        vertical-align: top;\n",
       "    }\n",
       "\n",
       "    .dataframe thead th {\n",
       "        text-align: right;\n",
       "    }\n",
       "</style>\n",
       "<table border=\"1\" class=\"dataframe\">\n",
       "  <thead>\n",
       "    <tr style=\"text-align: right;\">\n",
       "      <th></th>\n",
       "      <th>tweet_text</th>\n",
       "      <th>cyberbullying_type</th>\n",
       "    </tr>\n",
       "  </thead>\n",
       "  <tbody>\n",
       "    <tr>\n",
       "      <th>0</th>\n",
       "      <td>in other words your food was crapilicious</td>\n",
       "      <td>0</td>\n",
       "    </tr>\n",
       "    <tr>\n",
       "      <th>1</th>\n",
       "      <td>why is so white</td>\n",
       "      <td>0</td>\n",
       "    </tr>\n",
       "    <tr>\n",
       "      <th>2</th>\n",
       "      <td>&lt;@&gt; a classy whore or more red velvet cupcakes</td>\n",
       "      <td>0</td>\n",
       "    </tr>\n",
       "    <tr>\n",
       "      <th>3</th>\n",
       "      <td>&lt;@&gt; gio meh p thanks for the heads up but not ...</td>\n",
       "      <td>0</td>\n",
       "    </tr>\n",
       "    <tr>\n",
       "      <th>4</th>\n",
       "      <td>&lt;@&gt; this is an isis account pretending to be a...</td>\n",
       "      <td>0</td>\n",
       "    </tr>\n",
       "  </tbody>\n",
       "</table>\n",
       "</div>"
      ],
      "text/plain": [
       "                                          tweet_text  cyberbullying_type\n",
       "0         in other words your food was crapilicious                    0\n",
       "1                                   why is so white                    0\n",
       "2    <@> a classy whore or more red velvet cupcakes                    0\n",
       "3  <@> gio meh p thanks for the heads up but not ...                   0\n",
       "4  <@> this is an isis account pretending to be a...                   0"
      ]
     },
     "execution_count": 22,
     "metadata": {},
     "output_type": "execute_result"
    }
   ],
   "source": [
    "# use cleaned data\n",
    "df = pd.read_csv(\"./clean_data_2.csv\", dtype={'index': 'int', 'tweet_text': 'string', 'cyberbullying_type': 'int'})\n",
    "df = df.drop(columns='Unnamed: 0')\n",
    "df.head()"
   ]
  },
  {
   "cell_type": "code",
   "execution_count": 23,
   "id": "0e5ba8ea",
   "metadata": {},
   "outputs": [],
   "source": [
    "df.dropna(axis=0, inplace=True) # drop rows that contain any null values\n",
    "df = df[~df.duplicated()] # drop duplicates\n",
    "df.reset_index(inplace=True, drop=True) # reset indexes of dataframe for readability"
   ]
  },
  {
   "cell_type": "code",
   "execution_count": 24,
   "id": "c74dd6b8",
   "metadata": {},
   "outputs": [],
   "source": [
    "def remove_mentions(text):\n",
    "  return re.sub(r'<@>', r'', text)\n",
    "\n",
    "df['tweet_text'] = df['tweet_text'].apply(remove_mentions) "
   ]
  },
  {
   "cell_type": "code",
   "execution_count": 25,
   "id": "3f5e5b02",
   "metadata": {},
   "outputs": [
    {
     "data": {
      "text/plain": [
       "cyberbullying_type\n",
       "2    7737\n",
       "1    7639\n",
       "3    7463\n",
       "4    7362\n",
       "5    6816\n",
       "0    6568\n",
       "Name: count, dtype: int64"
      ]
     },
     "execution_count": 25,
     "metadata": {},
     "output_type": "execute_result"
    }
   ],
   "source": [
    "df.cyberbullying_type.value_counts()"
   ]
  },
  {
   "cell_type": "code",
   "execution_count": 26,
   "id": "d85873ba",
   "metadata": {},
   "outputs": [],
   "source": [
    "df = df.drop(df[df.cyberbullying_type == 5].index)"
   ]
  },
  {
   "cell_type": "code",
   "execution_count": 28,
   "id": "c89971e2",
   "metadata": {},
   "outputs": [],
   "source": [
    "from sklearn.model_selection import train_test_split\n",
    "\n",
    "#Split 1\n",
    "x_Train_1, x_Test_1, y_Train_1, y_Test_1 = train_test_split(\n",
    "    df.tweet_text,\n",
    "    df.cyberbullying_type,\n",
    "    test_size=.2,\n",
    "    random_state=100,\n",
    "    shuffle=True\n",
    ")\n",
    "\n",
    "#Split 2\n",
    "x_Train_2, x_Test_2, y_Train_2, y_Test_2 = train_test_split(\n",
    "    df.tweet_text,\n",
    "    df.cyberbullying_type,\n",
    "    test_size=.3,\n",
    "    random_state=100,\n",
    "    shuffle=True\n",
    ")\n",
    "\n",
    "#Split 3\n",
    "x_Train_3, x_Test_3, y_Train_3, y_Test_3 = train_test_split(\n",
    "    df.tweet_text,\n",
    "    df.cyberbullying_type,\n",
    "    test_size=.4,\n",
    "    random_state=100,\n",
    "    shuffle=True\n",
    ")"
   ]
  },
  {
   "cell_type": "code",
   "execution_count": 29,
   "id": "87eaf322",
   "metadata": {},
   "outputs": [],
   "source": [
    "from sklearn.feature_extraction.text import CountVectorizer\n",
    "\n",
    "vect1 = CountVectorizer()\n",
    "vect1.fit(x_Train_1)\n",
    "x_train_BOW_1 = vect1.transform(x_Train_1)\n",
    "x_test_BOW_1 = vect1.transform(x_Test_1)\n",
    "# vocab1 = vect1.vocabulary_\n",
    "\n",
    "vect2 = CountVectorizer()\n",
    "vect2.fit(x_Train_2)\n",
    "x_train_BOW_2 = vect2.transform(x_Train_2)\n",
    "x_test_BOW_2 = vect2.transform(x_Test_2)\n",
    "\n",
    "vect3 = CountVectorizer()\n",
    "vect3.fit(x_Train_3)\n",
    "x_train_BOW_3 = vect3.transform(x_Train_3)\n",
    "x_test_BOW_3 = vect3.transform(x_Test_3)"
   ]
  },
  {
   "cell_type": "code",
   "execution_count": 30,
   "id": "86bc9614",
   "metadata": {},
   "outputs": [
    {
     "data": {
      "text/html": [
       "<style>#sk-container-id-2 {color: black;background-color: white;}#sk-container-id-2 pre{padding: 0;}#sk-container-id-2 div.sk-toggleable {background-color: white;}#sk-container-id-2 label.sk-toggleable__label {cursor: pointer;display: block;width: 100%;margin-bottom: 0;padding: 0.3em;box-sizing: border-box;text-align: center;}#sk-container-id-2 label.sk-toggleable__label-arrow:before {content: \"▸\";float: left;margin-right: 0.25em;color: #696969;}#sk-container-id-2 label.sk-toggleable__label-arrow:hover:before {color: black;}#sk-container-id-2 div.sk-estimator:hover label.sk-toggleable__label-arrow:before {color: black;}#sk-container-id-2 div.sk-toggleable__content {max-height: 0;max-width: 0;overflow: hidden;text-align: left;background-color: #f0f8ff;}#sk-container-id-2 div.sk-toggleable__content pre {margin: 0.2em;color: black;border-radius: 0.25em;background-color: #f0f8ff;}#sk-container-id-2 input.sk-toggleable__control:checked~div.sk-toggleable__content {max-height: 200px;max-width: 100%;overflow: auto;}#sk-container-id-2 input.sk-toggleable__control:checked~label.sk-toggleable__label-arrow:before {content: \"▾\";}#sk-container-id-2 div.sk-estimator input.sk-toggleable__control:checked~label.sk-toggleable__label {background-color: #d4ebff;}#sk-container-id-2 div.sk-label input.sk-toggleable__control:checked~label.sk-toggleable__label {background-color: #d4ebff;}#sk-container-id-2 input.sk-hidden--visually {border: 0;clip: rect(1px 1px 1px 1px);clip: rect(1px, 1px, 1px, 1px);height: 1px;margin: -1px;overflow: hidden;padding: 0;position: absolute;width: 1px;}#sk-container-id-2 div.sk-estimator {font-family: monospace;background-color: #f0f8ff;border: 1px dotted black;border-radius: 0.25em;box-sizing: border-box;margin-bottom: 0.5em;}#sk-container-id-2 div.sk-estimator:hover {background-color: #d4ebff;}#sk-container-id-2 div.sk-parallel-item::after {content: \"\";width: 100%;border-bottom: 1px solid gray;flex-grow: 1;}#sk-container-id-2 div.sk-label:hover label.sk-toggleable__label {background-color: #d4ebff;}#sk-container-id-2 div.sk-serial::before {content: \"\";position: absolute;border-left: 1px solid gray;box-sizing: border-box;top: 0;bottom: 0;left: 50%;z-index: 0;}#sk-container-id-2 div.sk-serial {display: flex;flex-direction: column;align-items: center;background-color: white;padding-right: 0.2em;padding-left: 0.2em;position: relative;}#sk-container-id-2 div.sk-item {position: relative;z-index: 1;}#sk-container-id-2 div.sk-parallel {display: flex;align-items: stretch;justify-content: center;background-color: white;position: relative;}#sk-container-id-2 div.sk-item::before, #sk-container-id-2 div.sk-parallel-item::before {content: \"\";position: absolute;border-left: 1px solid gray;box-sizing: border-box;top: 0;bottom: 0;left: 50%;z-index: -1;}#sk-container-id-2 div.sk-parallel-item {display: flex;flex-direction: column;z-index: 1;position: relative;background-color: white;}#sk-container-id-2 div.sk-parallel-item:first-child::after {align-self: flex-end;width: 50%;}#sk-container-id-2 div.sk-parallel-item:last-child::after {align-self: flex-start;width: 50%;}#sk-container-id-2 div.sk-parallel-item:only-child::after {width: 0;}#sk-container-id-2 div.sk-dashed-wrapped {border: 1px dashed gray;margin: 0 0.4em 0.5em 0.4em;box-sizing: border-box;padding-bottom: 0.4em;background-color: white;}#sk-container-id-2 div.sk-label label {font-family: monospace;font-weight: bold;display: inline-block;line-height: 1.2em;}#sk-container-id-2 div.sk-label-container {text-align: center;}#sk-container-id-2 div.sk-container {/* jupyter's `normalize.less` sets `[hidden] { display: none; }` but bootstrap.min.css set `[hidden] { display: none !important; }` so we also need the `!important` here to be able to override the default hidden behavior on the sphinx rendered scikit-learn.org. See: https://github.com/scikit-learn/scikit-learn/issues/21755 */display: inline-block !important;position: relative;}#sk-container-id-2 div.sk-text-repr-fallback {display: none;}</style><div id=\"sk-container-id-2\" class=\"sk-top-container\"><div class=\"sk-text-repr-fallback\"><pre>RandomForestClassifier(max_depth=100, min_samples_leaf=20)</pre><b>In a Jupyter environment, please rerun this cell to show the HTML representation or trust the notebook. <br />On GitHub, the HTML representation is unable to render, please try loading this page with nbviewer.org.</b></div><div class=\"sk-container\" hidden><div class=\"sk-item\"><div class=\"sk-estimator sk-toggleable\"><input class=\"sk-toggleable__control sk-hidden--visually\" id=\"sk-estimator-id-2\" type=\"checkbox\" checked><label for=\"sk-estimator-id-2\" class=\"sk-toggleable__label sk-toggleable__label-arrow\">RandomForestClassifier</label><div class=\"sk-toggleable__content\"><pre>RandomForestClassifier(max_depth=100, min_samples_leaf=20)</pre></div></div></div></div></div>"
      ],
      "text/plain": [
       "RandomForestClassifier(max_depth=100, min_samples_leaf=20)"
      ]
     },
     "execution_count": 30,
     "metadata": {},
     "output_type": "execute_result"
    }
   ],
   "source": [
    "from sklearn.ensemble import RandomForestClassifier\n",
    "\n",
    "n_estimators=100\n",
    "criterion='gini'\n",
    "max_depth=100\n",
    "min_samples_leaf=20\n",
    "\n",
    "#Random Forest 1\n",
    "model1 = RandomForestClassifier(\n",
    "    n_estimators=n_estimators,\n",
    "    criterion=criterion,\n",
    "    max_depth=max_depth,\n",
    "    min_samples_leaf=min_samples_leaf\n",
    ")\n",
    "model1.fit(x_train_BOW_1, y_Train_1)\n",
    "\n",
    "#Random Forest 2\n",
    "model2 = RandomForestClassifier(\n",
    "    n_estimators=n_estimators,\n",
    "    criterion=criterion,\n",
    "    max_depth=max_depth,\n",
    "    min_samples_leaf=min_samples_leaf\n",
    ")\n",
    "model2.fit(x_train_BOW_2, y_Train_2)\n",
    "\n",
    "#Random Forest 3\n",
    "model3 = RandomForestClassifier(\n",
    "    n_estimators=n_estimators,\n",
    "    criterion=criterion,\n",
    "    max_depth=max_depth,\n",
    "    min_samples_leaf=min_samples_leaf\n",
    ")\n",
    "model3.fit(x_train_BOW_3, y_Train_3)"
   ]
  },
  {
   "cell_type": "code",
   "execution_count": 31,
   "id": "4bb40cd1",
   "metadata": {},
   "outputs": [],
   "source": [
    "y_pred_1 = model1.predict(x_test_BOW_1)\n",
    "y_pred_2 = model2.predict(x_test_BOW_2)\n",
    "y_pred_3 = model3.predict(x_test_BOW_3)"
   ]
  },
  {
   "cell_type": "code",
   "execution_count": 32,
   "id": "4f4a046b",
   "metadata": {},
   "outputs": [],
   "source": [
    "Model_1_Results = 'Model 1 Accuracy : {0:0.4f}\\n'. format(accuracy_score(y_Test_1, y_pred_1)) + '\\nModel 1 Classification Report:\\n' + classification_report(y_Test_1, y_pred_1) + '\\n\\n'\n",
    "\n",
    "Model_2_Results = 'Model 2 Accuracy : {0:0.4f}\\n'. format(accuracy_score(y_Test_2, y_pred_2)) + '\\nModel 2 Classification Report:\\n' + classification_report(y_Test_2, y_pred_2) + '\\n\\n'\n",
    "\n",
    "Model_3_Results = 'Model 3 Accuracy : {0:0.4f}\\n'. format(accuracy_score(y_Test_3, y_pred_3)) + '\\nModel 3 Classification Report:\\n' + classification_report(y_Test_3, y_pred_3) + '\\n\\n'"
   ]
  },
  {
   "cell_type": "code",
   "execution_count": 33,
   "id": "cf58d055",
   "metadata": {},
   "outputs": [
    {
     "data": {
      "text/plain": [
       "<sklearn.metrics._plot.confusion_matrix.ConfusionMatrixDisplay at 0x7f1765200910>"
      ]
     },
     "execution_count": 33,
     "metadata": {},
     "output_type": "execute_result"
    },
    {
     "data": {
      "image/png": "[encoded data removed]",
      "text/plain": [
       "<Figure size 640x480 with 2 Axes>"
      ]
     },
     "metadata": {},
     "output_type": "display_data"
    }
   ],
   "source": [
    "from sklearn.metrics import confusion_matrix\n",
    "from sklearn.metrics import ConfusionMatrixDisplay\n",
    "\n",
    "conf1 = confusion_matrix(y_Test_1, y_pred_1, normalize='pred')\n",
    "ConfusionMatrixDisplay(conf1).plot()"
   ]
  },
  {
   "cell_type": "code",
   "execution_count": 34,
   "id": "81cc9036",
   "metadata": {},
   "outputs": [],
   "source": [
    "filename = \"randomforest_results_2.txt\"\n",
    "\n",
    "with open(filename, 'w') as f:\n",
    "  f.write('Model 1 Params:\\n' + str(model1.get_params())+ '\\n\\n')\n",
    "  f.write(Model_1_Results + '\\n\\n')\n",
    "  f.write('Model 2 Params:\\n' + str(model2.get_params())+ '\\n\\n')\n",
    "  f.write(Model_2_Results + '\\n\\n')\n",
    "  f.write('Model 3 Params:\\n' + str(model3.get_params())+ '\\n\\n')\n",
    "  f.write(Model_3_Results + '\\n\\n')\n",
    "  f.close()"
   ]
  }
 ],
 "metadata": {
  "kernelspec": {
   "display_name": "Python [conda env:tensorflow-2.11-gpu]",
   "language": "python",
   "name": "conda-env-tensorflow-2.11-gpu-py"
  },
  "language_info": {
   "codemirror_mode": {
    "name": "ipython",
    "version": 3
   },
   "file_extension": ".py",
   "mimetype": "text/x-python",
   "name": "python",
   "nbconvert_exporter": "python",
   "pygments_lexer": "ipython3",
   "version": "3.9.16"
  }
 },
 "nbformat": 4,
 "nbformat_minor": 5
}
