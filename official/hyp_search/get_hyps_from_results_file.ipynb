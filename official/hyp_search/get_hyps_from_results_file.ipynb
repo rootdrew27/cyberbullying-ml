{
 "cells": [
  {
   "cell_type": "code",
   "execution_count": 27,
   "metadata": {},
   "outputs": [
    {
     "name": "stdout",
     "output_type": "stream",
     "text": [
      "[('0.7144848361800628\\n', 3222), ('0.7209284365581352\\n', 3522), ('0.7305538037635511\\n', 2556), ('0.7455107517477982\\n', 3378), ('0.7572309661182653\\n', 4176)]\n",
      "\"{'booster': 'dart', 'n_estimators': 400, 'learning_rate': np.float64(0.03345), 'max_depth': np.int64(22), 'min_child_weight': np.int64(34), 'subsample': np.float64(0.137), 'colsample_bytree': np.float64(0.002), 'colsample_bylevel': np.float64(0.896), 'colsample_bynode': np.float64(0.222), 'alpha': np.float64(10.75), 'lambda': np.float64(4.575), 'gamma': np.float64(12.998)}\"\n",
      "\n",
      "\"{'booster': 'dart', 'n_estimators': 400, 'learning_rate': np.float64(0.00081), 'max_depth': np.int64(42), 'min_child_weight': np.int64(10), 'subsample': np.float64(0.656), 'colsample_bytree': np.float64(0.878), 'colsample_bylevel': np.float64(0.669), 'colsample_bynode': np.float64(0.994), 'alpha': np.float64(2.772), 'lambda': np.float64(3.873), 'gamma': np.float64(12.306)}\"\n",
      "\n",
      "\"{'booster': 'gbtree', 'n_estimators': 500, 'learning_rate': np.float64(0.01054), 'max_depth': np.int64(45), 'min_child_weight': np.int64(16), 'subsample': np.float64(0.664), 'colsample_bytree': np.float64(0.322), 'colsample_bylevel': np.float64(0.883), 'colsample_bynode': np.float64(0.368), 'alpha': np.float64(5.411), 'lambda': np.float64(9.142), 'gamma': np.float64(2.988)}\"\n",
      "\n",
      "\"{'booster': 'dart', 'n_estimators': 200, 'learning_rate': np.float64(0.00575), 'max_depth': np.int64(45), 'min_child_weight': np.int64(38), 'subsample': np.float64(0.537), 'colsample_bytree': np.float64(0.057), 'colsample_bylevel': np.float64(0.875), 'colsample_bynode': np.float64(0.96), 'alpha': np.float64(14.002), 'lambda': np.float64(7.166), 'gamma': np.float64(6.601)}\"\n",
      "\n",
      "\"{'booster': 'gbtree', 'n_estimators': 700, 'learning_rate': np.float64(0.00811), 'max_depth': np.int64(39), 'min_child_weight': np.int64(8), 'subsample': np.float64(0.872), 'colsample_bytree': np.float64(0.056), 'colsample_bylevel': np.float64(0.977), 'colsample_bynode': np.float64(0.857), 'alpha': np.float64(12.274), 'lambda': np.float64(11.876), 'gamma': np.float64(0.018)}\"\n",
      "\n"
     ]
    }
   ],
   "source": [
    "BFILENAME = './results/co_w_re.csv'\n",
    "\n",
    "scores = []\n",
    "lines = []\n",
    "\n",
    "with open(FILENAME, 'r') as f:\n",
    "    lines = f.readlines()\n",
    "    for i in range(len(lines) // 6):\n",
    "        scores.append((lines[i*6], i*6))\n",
    "\n",
    "top_5 = sorted(scores, key=lambda x : x[0])[-5:]\n",
    "\n",
    "print(top_5)\n",
    "\n",
    "for score, i in top_5:\n",
    "\n",
    "    print(lines[i+4])\n",
    "\n"
   ]
  },
  {
   "cell_type": "code",
   "execution_count": 29,
   "metadata": {},
   "outputs": [
    {
     "name": "stdout",
     "output_type": "stream",
     "text": [
      "[('0.7308119635445008\\n', 4032), ('0.7354187694168416\\n', 1422), ('0.7458725584009553\\n', 3966), ('0.7721106124562035\\n', 3756), ('0.7842209102426188\\n', 438)]\n",
      "\"{'booster': 'dart', 'n_estimators': 600, 'learning_rate': np.float64(0.22151), 'max_depth': np.int64(7), 'min_child_weight': np.int64(28), 'subsample': np.float64(0.6), 'colsample_bytree': np.float64(0.797), 'colsample_bylevel': np.float64(0.824), 'colsample_bynode': np.float64(0.003), 'alpha': np.float64(14.748), 'lambda': np.float64(12.322), 'gamma': np.float64(9.215)}\"\n",
      "\n",
      "\"{'booster': 'gbtree', 'n_estimators': 700, 'learning_rate': np.float64(0.07616), 'max_depth': np.int64(24), 'min_child_weight': np.int64(10), 'subsample': np.float64(0.56), 'colsample_bytree': np.float64(0.802), 'colsample_bylevel': np.float64(0.018), 'colsample_bynode': np.float64(0.081), 'alpha': np.float64(0.744), 'lambda': np.float64(8.253), 'gamma': np.float64(1.869)}\"\n",
      "\n",
      "\"{'booster': 'dart', 'n_estimators': 700, 'learning_rate': np.float64(0.27362), 'max_depth': np.int64(3), 'min_child_weight': np.int64(25), 'subsample': np.float64(0.921), 'colsample_bytree': np.float64(0.6), 'colsample_bylevel': np.float64(0.034), 'colsample_bynode': np.float64(0.046), 'alpha': np.float64(13.56), 'lambda': np.float64(1.598), 'gamma': np.float64(2.889)}\"\n",
      "\n",
      "\"{'booster': 'dart', 'n_estimators': 600, 'learning_rate': np.float64(0.16411), 'max_depth': np.int64(10), 'min_child_weight': np.int64(9), 'subsample': np.float64(0.476), 'colsample_bytree': np.float64(0.099), 'colsample_bylevel': np.float64(0.523), 'colsample_bynode': np.float64(0.033), 'alpha': np.float64(2.662), 'lambda': np.float64(9.187), 'gamma': np.float64(13.668)}\"\n",
      "\n",
      "\"{'booster': 'dart', 'n_estimators': 400, 'learning_rate': np.float64(0.09002), 'max_depth': np.int64(6), 'min_child_weight': np.int64(39), 'subsample': np.float64(0.566), 'colsample_bytree': np.float64(0.182), 'colsample_bylevel': np.float64(0.114), 'colsample_bynode': np.float64(0.229), 'alpha': np.float64(14.869), 'lambda': np.float64(11.521), 'gamma': np.float64(13.942)}\"\n",
      "\n"
     ]
    }
   ],
   "source": [
    "FILENAME = './results/co_wo_re.csv'\n",
    "\n",
    "scores = []\n",
    "lines = []\n",
    "\n",
    "with open(FILENAME, 'r') as f:\n",
    "    lines = f.readlines()\n",
    "    for i in range(len(lines) // 6):\n",
    "        scores.append((lines[i*6], i*6))\n",
    "\n",
    "top_5 = sorted(scores, key=lambda x : x[0])[-5:]\n",
    "\n",
    "print(top_5)\n",
    "\n",
    "for score, i in top_5:\n",
    "\n",
    "    print(lines[i+4])\n",
    "\n"
   ]
  }
 ],
 "metadata": {
  "kernelspec": {
   "display_name": "venv",
   "language": "python",
   "name": "python3"
  },
  "language_info": {
   "codemirror_mode": {
    "name": "ipython",
    "version": 3
   },
   "file_extension": ".py",
   "mimetype": "text/x-python",
   "name": "python",
   "nbconvert_exporter": "python",
   "pygments_lexer": "ipython3",
   "version": "3.10.6"
  }
 },
 "nbformat": 4,
 "nbformat_minor": 2
}
