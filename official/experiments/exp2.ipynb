{
 "cells": [
  {
   "cell_type": "markdown",
   "metadata": {},
   "source": [
    "### Experiment 2 - **NEEDS WORK**\n",
    "- Test the ability of a model trained on Dataset 2 to generalize to Dataset 3"
   ]
  },
  {
   "cell_type": "code",
   "execution_count": 2,
   "metadata": {},
   "outputs": [],
   "source": [
    "import pandas as pd\n",
    "import numpy as np\n",
    "import xgboost as xgb\n",
    "from sklearn.feature_extraction.text import TfidfVectorizer, CountVectorizer\n",
    "from sklearn.metrics import classification_report\n",
    "from sklearn.metrics import confusion_matrix\n",
    "from sklearn.metrics import ConfusionMatrixDisplay\n",
    "from sklearn.model_selection import StratifiedKFold, cross_val_score\n",
    "from pathlib import Path\n",
    "import json\n",
    "import cupy as cp\n"
   ]
  },
  {
   "cell_type": "code",
   "execution_count": 3,
   "metadata": {},
   "outputs": [],
   "source": [
    "RANDOM_SEED = 115\n",
    "np.random.seed(RANDOM_SEED)"
   ]
  },
  {
   "cell_type": "code",
   "execution_count": 4,
   "metadata": {},
   "outputs": [],
   "source": [
    "TRAIN_DATA_PATH = 'hatespeech_tweets_basic_clean.csv'\n",
    "TEST_DATA_PATH = 'onlineHarassmentDataset_basic_clean.csv'\n",
    "\n",
    "CLEAN_DATA_PATH = Path(\"../data/clean\")"
   ]
  },
  {
   "cell_type": "code",
   "execution_count": 5,
   "metadata": {},
   "outputs": [],
   "source": [
    "train_data = CLEAN_DATA_PATH / TRAIN_DATA_PATH\n",
    "test_data = CLEAN_DATA_PATH / TEST_DATA_PATH"
   ]
  },
  {
   "cell_type": "code",
   "execution_count": 6,
   "metadata": {},
   "outputs": [],
   "source": [
    "train_df = pd.read_csv(train_data, usecols=['class', 'tweet'])\n",
    "test_df = pd.read_csv(test_data)"
   ]
  },
  {
   "cell_type": "code",
   "execution_count": 7,
   "metadata": {},
   "outputs": [],
   "source": [
    "# remove duplicates\n",
    "train_df = train_df.drop_duplicates()\n",
    "test_df = test_df.drop_duplicates()\n",
    "# remove rows with missing values\n",
    "train_df = train_df.dropna()\n",
    "test_df = test_df.dropna()"
   ]
  },
  {
   "cell_type": "code",
   "execution_count": 8,
   "metadata": {},
   "outputs": [
    {
     "name": "stdout",
     "output_type": "stream",
     "text": [
      "Hate count: 1367\n",
      "Not hate count: 22440\n",
      "Hate ratio: 0.05742008652917209\n"
     ]
    }
   ],
   "source": [
    "# hate speech is 0, offenseive speech is 1, neither is 2\n",
    "\n",
    "train_df['class'] = train_df['class'].apply(lambda label : 0 if label == 0 else 1)\n",
    "\n",
    "train_label_counts = train_df['class'].value_counts()\n",
    "\n",
    "hate_count = train_label_counts.get(0, None)\n",
    "not_hate_count = train_label_counts.get(1, None)\n",
    "hate_ratio = hate_count / (hate_count + not_hate_count)\n",
    "\n",
    "print(f\"Hate count: {hate_count}\")\n",
    "print(f\"Not hate count: {not_hate_count}\")\n",
    "print(f\"Hate ratio: {hate_ratio}\")\n"
   ]
  },
  {
   "cell_type": "code",
   "execution_count": 9,
   "metadata": {},
   "outputs": [
    {
     "name": "stdout",
     "output_type": "stream",
     "text": [
      "Harassment count: 4991\n",
      "Not harassment count: 14502\n",
      "Harassment ratio: 0.2560406299697327\n"
     ]
    }
   ],
   "source": [
    "test_df['Code'] = test_df['Code'].map({'H': 0, 'N':1})\n",
    "\n",
    "test_label_counts = test_df['Code'].value_counts()\n",
    "\n",
    "harassment_count = test_label_counts.get(0, None)\n",
    "not_harassment_count = test_label_counts.get(1, None)\n",
    "harassment_ratio = harassment_count / (harassment_count + not_harassment_count)\n",
    "\n",
    "print(f\"Harassment count: {harassment_count}\")\n",
    "print(f\"Not harassment count: {not_harassment_count}\")\n",
    "print(f\"Harassment ratio: {harassment_ratio}\")"
   ]
  },
  {
   "cell_type": "code",
   "execution_count": 10,
   "metadata": {},
   "outputs": [
    {
     "name": "stdout",
     "output_type": "stream",
     "text": [
      "Sample size: 3971\n"
     ]
    },
    {
     "data": {
      "text/plain": [
       "class\n",
       "1    3971\n",
       "0    1367\n",
       "Name: count, dtype: int64"
      ]
     },
     "execution_count": 10,
     "metadata": {},
     "output_type": "execute_result"
    }
   ],
   "source": [
    "# Focusing on hate speech, we will adjust dataset to match the ratio of dataset 2\n",
    "\n",
    "hate = train_df[train_df['class'] == 0]\n",
    "not_hate = train_df[train_df['class'] == 1]\n",
    "\n",
    "sample_size = int(hate_count / harassment_ratio - hate_count)\n",
    "print(f\"Sample size: {sample_size}\")\n",
    "\n",
    "not_hate_samples = not_hate.sample(sample_size, random_state=RANDOM_SEED)\n",
    "\n",
    "train_df_augmented = pd.concat([hate, not_hate_samples])\n",
    "train_df_augmented['class'].value_counts()\n"
   ]
  },
  {
   "cell_type": "code",
   "execution_count": 11,
   "metadata": {},
   "outputs": [],
   "source": [
    "x_train = train_df_augmented['tweet'].to_numpy()\n",
    "y_train = train_df_augmented['class'].to_numpy()\n",
    "x_test = test_df['Tweet'].to_numpy()\n",
    "y_test = test_df['Code'].to_numpy()"
   ]
  },
  {
   "cell_type": "code",
   "execution_count": 12,
   "metadata": {},
   "outputs": [],
   "source": [
    "# encode data with tfidf\n",
    "vectorizer = TfidfVectorizer()\n",
    "x_train = vectorizer.fit_transform(x_train)\n",
    "x_test = vectorizer.transform(x_test)"
   ]
  },
  {
   "cell_type": "code",
   "execution_count": 13,
   "metadata": {},
   "outputs": [],
   "source": [
    "import cupyx.scipy.sparse as cusp\n",
    "x_train_gpu = cp.array(x_train.todense())\n",
    "x_test_gpu = cp.array(x_test.todense())\n",
    "\n",
    "dtrain = xgb.DMatrix(x_train_gpu, label=y_train)\n",
    "dtest = xgb.DMatrix(x_test_gpu, label=y_test)"
   ]
  },
  {
   "cell_type": "code",
   "execution_count": 14,
   "metadata": {},
   "outputs": [],
   "source": [
    "# encode data with count\n",
    "# vectorizer = CountVectorizer()\n",
    "# x_train = vectorizer.fit_transform(x_train)\n",
    "# x_test = vectorizer.transform(x_test)"
   ]
  },
  {
   "cell_type": "code",
   "execution_count": 16,
   "metadata": {},
   "outputs": [],
   "source": [
    "N_FOLDS = 5\n",
    "def objective(params, data):\n",
    "    \n",
    "    skf = StratifiedKFold(n_splits=N_FOLDS, shuffle=True, random_state=115)\n",
    "    res = cv_results = xgb.cv(\n",
    "        params=params,\n",
    "        nfold=N_FOLDS,\n",
    "        dtrain=data,\n",
    "        metrics={\"error\"},\n",
    "        num_boost_round=1000,\n",
    "        early_stopping_rounds=50,\n",
    "    )\n",
    "    #cv_results = cross_val_score(model, data, labels, cv=skf, error_score='raise') # NOTE : use xgb's internal scoring method\n",
    "\n",
    "    return res#cv_results.mean(), cv_results.std(), cv_results"
   ]
  },
  {
   "cell_type": "code",
   "execution_count": 19,
   "metadata": {},
   "outputs": [
    {
     "name": "stderr",
     "output_type": "stream",
     "text": [
      "c:\\Users\\rooty\\UWEC\\Research\\CyberBullyingML\\venv\\lib\\site-packages\\xgboost\\core.py:160: UserWarning: [22:41:35] WARNING: C:\\buildkite-agent\\builds\\buildkite-windows-cpu-autoscaling-group-i-0b3782d1791676daf-1\\xgboost\\xgboost-ci-windows\\src\\learner.cc:742: \n",
      "Parameters: { \"n_estimators\" } are not used.\n",
      "\n",
      "  warnings.warn(smsg, UserWarning)\n",
      "c:\\Users\\rooty\\UWEC\\Research\\CyberBullyingML\\venv\\lib\\site-packages\\xgboost\\core.py:160: UserWarning: [22:41:36] WARNING: C:\\buildkite-agent\\builds\\buildkite-windows-cpu-autoscaling-group-i-0b3782d1791676daf-1\\xgboost\\xgboost-ci-windows\\src\\learner.cc:742: \n",
      "Parameters: { \"n_estimators\" } are not used.\n",
      "\n",
      "  warnings.warn(smsg, UserWarning)\n",
      "c:\\Users\\rooty\\UWEC\\Research\\CyberBullyingML\\venv\\lib\\site-packages\\xgboost\\core.py:160: UserWarning: [22:41:38] WARNING: C:\\buildkite-agent\\builds\\buildkite-windows-cpu-autoscaling-group-i-0b3782d1791676daf-1\\xgboost\\xgboost-ci-windows\\src\\learner.cc:742: \n",
      "Parameters: { \"n_estimators\" } are not used.\n",
      "\n",
      "  warnings.warn(smsg, UserWarning)\n",
      "c:\\Users\\rooty\\UWEC\\Research\\CyberBullyingML\\venv\\lib\\site-packages\\xgboost\\core.py:160: UserWarning: [22:41:39] WARNING: C:\\buildkite-agent\\builds\\buildkite-windows-cpu-autoscaling-group-i-0b3782d1791676daf-1\\xgboost\\xgboost-ci-windows\\src\\learner.cc:742: \n",
      "Parameters: { \"n_estimators\" } are not used.\n",
      "\n",
      "  warnings.warn(smsg, UserWarning)\n"
     ]
    },
    {
     "name": "stdout",
     "output_type": "stream",
     "text": [
      "Run 0: Result:{'results':    train-error-mean  train-error-std  test-error-mean  test-error-std\n",
      "0          0.256088         0.004973         0.256086        0.019882, 'params': {'objective': 'binary:logistic', 'device': 'cuda', 'n_jobs': -1, 'random_state': 115, 'booster': 'dart', 'n_estimators': 400, 'learning_rate': 0.03345, 'max_depth': 22, 'min_child_weight': 34, 'subsample': 0.137, 'colsample_bytree': 0.002, 'colsample_bylevel': 0.896, 'colsample_bynode': 0.222, 'alpha': 10.75, 'lambda': 4.575, 'gamma': 12.998}}\n"
     ]
    },
    {
     "name": "stderr",
     "output_type": "stream",
     "text": [
      "c:\\Users\\rooty\\UWEC\\Research\\CyberBullyingML\\venv\\lib\\site-packages\\xgboost\\core.py:160: UserWarning: [22:41:57] WARNING: C:\\buildkite-agent\\builds\\buildkite-windows-cpu-autoscaling-group-i-0b3782d1791676daf-1\\xgboost\\xgboost-ci-windows\\src\\learner.cc:742: \n",
      "Parameters: { \"n_estimators\" } are not used.\n",
      "\n",
      "  warnings.warn(smsg, UserWarning)\n",
      "c:\\Users\\rooty\\UWEC\\Research\\CyberBullyingML\\venv\\lib\\site-packages\\xgboost\\core.py:160: UserWarning: [22:41:58] WARNING: C:\\buildkite-agent\\builds\\buildkite-windows-cpu-autoscaling-group-i-0b3782d1791676daf-1\\xgboost\\xgboost-ci-windows\\src\\learner.cc:742: \n",
      "Parameters: { \"n_estimators\" } are not used.\n",
      "\n",
      "  warnings.warn(smsg, UserWarning)\n",
      "c:\\Users\\rooty\\UWEC\\Research\\CyberBullyingML\\venv\\lib\\site-packages\\xgboost\\core.py:160: UserWarning: [22:41:59] WARNING: C:\\buildkite-agent\\builds\\buildkite-windows-cpu-autoscaling-group-i-0b3782d1791676daf-1\\xgboost\\xgboost-ci-windows\\src\\learner.cc:742: \n",
      "Parameters: { \"n_estimators\" } are not used.\n",
      "\n",
      "  warnings.warn(smsg, UserWarning)\n",
      "c:\\Users\\rooty\\UWEC\\Research\\CyberBullyingML\\venv\\lib\\site-packages\\xgboost\\core.py:160: UserWarning: [22:42:00] WARNING: C:\\buildkite-agent\\builds\\buildkite-windows-cpu-autoscaling-group-i-0b3782d1791676daf-1\\xgboost\\xgboost-ci-windows\\src\\learner.cc:742: \n",
      "Parameters: { \"n_estimators\" } are not used.\n",
      "\n",
      "  warnings.warn(smsg, UserWarning)\n"
     ]
    },
    {
     "name": "stdout",
     "output_type": "stream",
     "text": [
      "Run 1: Result:{'results':    train-error-mean  train-error-std  test-error-mean  test-error-std\n",
      "0          0.256088         0.004973         0.256086        0.019882, 'params': {'objective': 'binary:logistic', 'device': 'cuda', 'n_jobs': -1, 'random_state': 115, 'booster': 'dart', 'n_estimators': 400, 'learning_rate': 0.00081, 'max_depth': 42, 'min_child_weight': 10, 'subsample': 0.656, 'colsample_bytree': 0.878, 'colsample_bylevel': 0.669, 'colsample_bynode': 0.994, 'alpha': 2.772, 'lambda': 3.873, 'gamma': 12.306}}\n"
     ]
    },
    {
     "name": "stderr",
     "output_type": "stream",
     "text": [
      "c:\\Users\\rooty\\UWEC\\Research\\CyberBullyingML\\venv\\lib\\site-packages\\xgboost\\core.py:160: UserWarning: [22:42:26] WARNING: C:\\buildkite-agent\\builds\\buildkite-windows-cpu-autoscaling-group-i-0b3782d1791676daf-1\\xgboost\\xgboost-ci-windows\\src\\learner.cc:742: \n",
      "Parameters: { \"n_estimators\" } are not used.\n",
      "\n",
      "  warnings.warn(smsg, UserWarning)\n",
      "c:\\Users\\rooty\\UWEC\\Research\\CyberBullyingML\\venv\\lib\\site-packages\\xgboost\\core.py:160: UserWarning: [22:42:27] WARNING: C:\\buildkite-agent\\builds\\buildkite-windows-cpu-autoscaling-group-i-0b3782d1791676daf-1\\xgboost\\xgboost-ci-windows\\src\\learner.cc:742: \n",
      "Parameters: { \"n_estimators\" } are not used.\n",
      "\n",
      "  warnings.warn(smsg, UserWarning)\n",
      "c:\\Users\\rooty\\UWEC\\Research\\CyberBullyingML\\venv\\lib\\site-packages\\xgboost\\core.py:160: UserWarning: [22:42:28] WARNING: C:\\buildkite-agent\\builds\\buildkite-windows-cpu-autoscaling-group-i-0b3782d1791676daf-1\\xgboost\\xgboost-ci-windows\\src\\learner.cc:742: \n",
      "Parameters: { \"n_estimators\" } are not used.\n",
      "\n",
      "  warnings.warn(smsg, UserWarning)\n"
     ]
    },
    {
     "name": "stdout",
     "output_type": "stream",
     "text": [
      "Run 2: Result:{'results':    train-error-mean  train-error-std  test-error-mean  test-error-std\n",
      "0          0.256088         0.004973         0.256086        0.019882, 'params': {'objective': 'binary:logistic', 'device': 'cuda', 'n_jobs': -1, 'random_state': 115, 'booster': 'gbtree', 'n_estimators': 500, 'learning_rate': 0.01054, 'max_depth': 45, 'min_child_weight': 16, 'subsample': 0.664, 'colsample_bytree': 0.322, 'colsample_bylevel': 0.883, 'colsample_bynode': 0.368, 'alpha': 5.411, 'lambda': 9.142, 'gamma': 2.988}}\n"
     ]
    },
    {
     "name": "stderr",
     "output_type": "stream",
     "text": [
      "c:\\Users\\rooty\\UWEC\\Research\\CyberBullyingML\\venv\\lib\\site-packages\\xgboost\\core.py:160: UserWarning: [22:42:33] WARNING: C:\\buildkite-agent\\builds\\buildkite-windows-cpu-autoscaling-group-i-0b3782d1791676daf-1\\xgboost\\xgboost-ci-windows\\src\\learner.cc:742: \n",
      "Parameters: { \"n_estimators\" } are not used.\n",
      "\n",
      "  warnings.warn(smsg, UserWarning)\n",
      "c:\\Users\\rooty\\UWEC\\Research\\CyberBullyingML\\venv\\lib\\site-packages\\xgboost\\core.py:160: UserWarning: [22:42:34] WARNING: C:\\buildkite-agent\\builds\\buildkite-windows-cpu-autoscaling-group-i-0b3782d1791676daf-1\\xgboost\\xgboost-ci-windows\\src\\learner.cc:742: \n",
      "Parameters: { \"n_estimators\" } are not used.\n",
      "\n",
      "  warnings.warn(smsg, UserWarning)\n",
      "c:\\Users\\rooty\\UWEC\\Research\\CyberBullyingML\\venv\\lib\\site-packages\\xgboost\\core.py:160: UserWarning: [22:42:35] WARNING: C:\\buildkite-agent\\builds\\buildkite-windows-cpu-autoscaling-group-i-0b3782d1791676daf-1\\xgboost\\xgboost-ci-windows\\src\\learner.cc:742: \n",
      "Parameters: { \"n_estimators\" } are not used.\n",
      "\n",
      "  warnings.warn(smsg, UserWarning)\n",
      "c:\\Users\\rooty\\UWEC\\Research\\CyberBullyingML\\venv\\lib\\site-packages\\xgboost\\core.py:160: UserWarning: [22:42:36] WARNING: C:\\buildkite-agent\\builds\\buildkite-windows-cpu-autoscaling-group-i-0b3782d1791676daf-1\\xgboost\\xgboost-ci-windows\\src\\learner.cc:742: \n",
      "Parameters: { \"n_estimators\" } are not used.\n",
      "\n",
      "  warnings.warn(smsg, UserWarning)\n"
     ]
    },
    {
     "name": "stdout",
     "output_type": "stream",
     "text": [
      "Run 3: Result:{'results':    train-error-mean  train-error-std  test-error-mean  test-error-std\n",
      "0          0.256088         0.004973         0.256086        0.019882, 'params': {'objective': 'binary:logistic', 'device': 'cuda', 'n_jobs': -1, 'random_state': 115, 'booster': 'dart', 'n_estimators': 200, 'learning_rate': 0.00575, 'max_depth': 45, 'min_child_weight': 38, 'subsample': 0.537, 'colsample_bytree': 0.057, 'colsample_bylevel': 0.875, 'colsample_bynode': 0.96, 'alpha': 14.002, 'lambda': 7.166, 'gamma': 6.601}}\n"
     ]
    },
    {
     "name": "stderr",
     "output_type": "stream",
     "text": [
      "c:\\Users\\rooty\\UWEC\\Research\\CyberBullyingML\\venv\\lib\\site-packages\\xgboost\\core.py:160: UserWarning: [22:42:52] WARNING: C:\\buildkite-agent\\builds\\buildkite-windows-cpu-autoscaling-group-i-0b3782d1791676daf-1\\xgboost\\xgboost-ci-windows\\src\\learner.cc:742: \n",
      "Parameters: { \"n_estimators\" } are not used.\n",
      "\n",
      "  warnings.warn(smsg, UserWarning)\n",
      "c:\\Users\\rooty\\UWEC\\Research\\CyberBullyingML\\venv\\lib\\site-packages\\xgboost\\core.py:160: UserWarning: [22:42:53] WARNING: C:\\buildkite-agent\\builds\\buildkite-windows-cpu-autoscaling-group-i-0b3782d1791676daf-1\\xgboost\\xgboost-ci-windows\\src\\learner.cc:742: \n",
      "Parameters: { \"n_estimators\" } are not used.\n",
      "\n",
      "  warnings.warn(smsg, UserWarning)\n",
      "c:\\Users\\rooty\\UWEC\\Research\\CyberBullyingML\\venv\\lib\\site-packages\\xgboost\\core.py:160: UserWarning: [22:42:54] WARNING: C:\\buildkite-agent\\builds\\buildkite-windows-cpu-autoscaling-group-i-0b3782d1791676daf-1\\xgboost\\xgboost-ci-windows\\src\\learner.cc:742: \n",
      "Parameters: { \"n_estimators\" } are not used.\n",
      "\n",
      "  warnings.warn(smsg, UserWarning)\n"
     ]
    },
    {
     "name": "stdout",
     "output_type": "stream",
     "text": [
      "Run 4: Result:{'results':    train-error-mean  train-error-std  test-error-mean  test-error-std\n",
      "0          0.256088         0.004973         0.256086        0.019882, 'params': {'objective': 'binary:logistic', 'device': 'cuda', 'n_jobs': -1, 'random_state': 115, 'booster': 'gbtree', 'n_estimators': 700, 'learning_rate': 0.00811, 'max_depth': 39, 'min_child_weight': 8, 'subsample': 0.872, 'colsample_bytree': 0.056, 'colsample_bylevel': 0.977, 'colsample_bynode': 0.857, 'alpha': 12.274, 'lambda': 11.876, 'gamma': 0.018}}\n"
     ]
    }
   ],
   "source": [
    "params = json.load(open('params.json'))\n",
    "\n",
    "results = []\n",
    "\n",
    "for i, params in enumerate(params['params']):\n",
    "\n",
    "    # model = xgb.XGBClassifier(\n",
    "    #     objective='binary:logistic',\n",
    "    #     device='cuda',\n",
    "    #     n_jobs=-1,\n",
    "    #     verbosity=1,\n",
    "    #     random_state=RANDOM_SEED,\n",
    "    #     **eval(params)\n",
    "    # )\n",
    "\n",
    "    params = {\n",
    "        \"objective\":'binary:logistic',\n",
    "        \"device\":'cuda',\n",
    "        \"n_jobs\":-1,\n",
    "        \"random_state\":RANDOM_SEED,\n",
    "        **eval(params)\n",
    "    }\n",
    "\n",
    "    res = objective(params, dtrain)\n",
    "    result = {\n",
    "        'results': res,\n",
    "        'params': params\n",
    "    }\n",
    "    results.append(result)\n",
    "    print(f\"Run {i}: Result:{result}\")\n",
    "\n",
    "\n"
   ]
  },
  {
   "cell_type": "code",
   "execution_count": 24,
   "metadata": {},
   "outputs": [
    {
     "name": "stdout",
     "output_type": "stream",
     "text": [
      "{'objective': 'binary:logistic', 'device': 'cuda', 'n_jobs': -1, 'random_state': 115, 'booster': 'dart', 'n_estimators': 400, 'learning_rate': 0.03345, 'max_depth': 22, 'min_child_weight': 34, 'subsample': 0.137, 'colsample_bytree': 0.002, 'colsample_bylevel': 0.896, 'colsample_bynode': 0.222, 'alpha': 10.75, 'lambda': 4.575, 'gamma': 12.998}\n"
     ]
    }
   ],
   "source": [
    "# Pick the best parameters to train a model and test it on the test set\n",
    "# Find the best parameters based on the lowest mean loss\n",
    "best_params = None\n",
    "best_score = float('inf')\n",
    "\n",
    "for result in results:\n",
    "    if result['results']['test-error-mean'].iloc[-1] < best_score:\n",
    "        best_score = result['results']['test-error-mean'].iloc[-1]\n",
    "        best_params = result['params']\n",
    "\n",
    "print(best_params)\n"
   ]
  },
  {
   "cell_type": "code",
   "execution_count": 61,
   "metadata": {},
   "outputs": [],
   "source": [
    "sample_weights = np.zeros(y_train.shape) == y_train"
   ]
  },
  {
   "cell_type": "code",
   "execution_count": 62,
   "metadata": {},
   "outputs": [],
   "source": [
    "sample_weights = sample_weights.astype(int)\n",
    "sample_weights = np.where(sample_weights == 1, 4, 1)"
   ]
  },
  {
   "cell_type": "code",
   "execution_count": 63,
   "metadata": {},
   "outputs": [
    {
     "data": {
      "text/plain": [
       "array([4, 4, 4, ..., 1, 1, 1])"
      ]
     },
     "execution_count": 63,
     "metadata": {},
     "output_type": "execute_result"
    }
   ],
   "source": [
    "sample_weights"
   ]
  },
  {
   "cell_type": "code",
   "execution_count": 67,
   "metadata": {},
   "outputs": [
    {
     "name": "stdout",
     "output_type": "stream",
     "text": [
      "              precision    recall  f1-score   support\n",
      "\n",
      "           0       0.39      0.15      0.22      4991\n",
      "           1       0.76      0.92      0.83     14502\n",
      "\n",
      "    accuracy                           0.72     19493\n",
      "   macro avg       0.57      0.53      0.52     19493\n",
      "weighted avg       0.66      0.72      0.67     19493\n",
      "\n"
     ]
    }
   ],
   "source": [
    "# Train the final model with the best parameters on the entire training set\n",
    "\n",
    "final_model = xgb.XGBClassifier(objective='binary:logistic', device='cuda', n_jobs=-1, random_state=RANDOM_SEED, scale_pos_weight=3)\n",
    "final_model.fit(x_train_gpu, y_train)\n",
    "\n",
    "# Test the final model on the test set\n",
    "y_pred = final_model.predict(x_test_gpu)\n",
    "cls_report = classification_report(y_test, y_pred)\n",
    "print(cls_report)"
   ]
  },
  {
   "cell_type": "code",
   "execution_count": 35,
   "metadata": {},
   "outputs": [
    {
     "name": "stderr",
     "output_type": "stream",
     "text": [
      "c:\\Users\\rooty\\UWEC\\Research\\CyberBullyingML\\venv\\lib\\site-packages\\sklearn\\metrics\\_classification.py:1531: UndefinedMetricWarning: Precision is ill-defined and being set to 0.0 in labels with no predicted samples. Use `zero_division` parameter to control this behavior.\n",
      "  _warn_prf(average, modifier, f\"{metric.capitalize()} is\", len(result))\n",
      "c:\\Users\\rooty\\UWEC\\Research\\CyberBullyingML\\venv\\lib\\site-packages\\sklearn\\metrics\\_classification.py:1531: UndefinedMetricWarning: Precision is ill-defined and being set to 0.0 in labels with no predicted samples. Use `zero_division` parameter to control this behavior.\n",
      "  _warn_prf(average, modifier, f\"{metric.capitalize()} is\", len(result))\n",
      "c:\\Users\\rooty\\UWEC\\Research\\CyberBullyingML\\venv\\lib\\site-packages\\sklearn\\metrics\\_classification.py:1531: UndefinedMetricWarning: Precision is ill-defined and being set to 0.0 in labels with no predicted samples. Use `zero_division` parameter to control this behavior.\n",
      "  _warn_prf(average, modifier, f\"{metric.capitalize()} is\", len(result))\n"
     ]
    },
    {
     "name": "stdout",
     "output_type": "stream",
     "text": [
      "              precision    recall  f1-score   support\n",
      "\n",
      "           0       0.00      0.00      0.00      4991\n",
      "           1       0.74      1.00      0.85     14502\n",
      "\n",
      "    accuracy                           0.74     19493\n",
      "   macro avg       0.37      0.50      0.43     19493\n",
      "weighted avg       0.55      0.74      0.63     19493\n",
      "\n"
     ]
    },
    {
     "name": "stderr",
     "output_type": "stream",
     "text": [
      "c:\\Users\\rooty\\UWEC\\Research\\CyberBullyingML\\venv\\lib\\site-packages\\sklearn\\metrics\\_classification.py:1531: UndefinedMetricWarning: Precision is ill-defined and being set to 0.0 in labels with no predicted samples. Use `zero_division` parameter to control this behavior.\n",
      "  _warn_prf(average, modifier, f\"{metric.capitalize()} is\", len(result))\n",
      "c:\\Users\\rooty\\UWEC\\Research\\CyberBullyingML\\venv\\lib\\site-packages\\sklearn\\metrics\\_classification.py:1531: UndefinedMetricWarning: Precision is ill-defined and being set to 0.0 in labels with no predicted samples. Use `zero_division` parameter to control this behavior.\n",
      "  _warn_prf(average, modifier, f\"{metric.capitalize()} is\", len(result))\n",
      "c:\\Users\\rooty\\UWEC\\Research\\CyberBullyingML\\venv\\lib\\site-packages\\sklearn\\metrics\\_classification.py:1531: UndefinedMetricWarning: Precision is ill-defined and being set to 0.0 in labels with no predicted samples. Use `zero_division` parameter to control this behavior.\n",
      "  _warn_prf(average, modifier, f\"{metric.capitalize()} is\", len(result))\n"
     ]
    },
    {
     "name": "stdout",
     "output_type": "stream",
     "text": [
      "              precision    recall  f1-score   support\n",
      "\n",
      "           0       0.00      0.00      0.00      4991\n",
      "           1       0.74      1.00      0.85     14502\n",
      "\n",
      "    accuracy                           0.74     19493\n",
      "   macro avg       0.37      0.50      0.43     19493\n",
      "weighted avg       0.55      0.74      0.63     19493\n",
      "\n",
      "              precision    recall  f1-score   support\n",
      "\n",
      "           0       0.50      0.05      0.09      4991\n",
      "           1       0.75      0.98      0.85     14502\n",
      "\n",
      "    accuracy                           0.74     19493\n",
      "   macro avg       0.63      0.52      0.47     19493\n",
      "weighted avg       0.69      0.74      0.66     19493\n",
      "\n"
     ]
    },
    {
     "name": "stderr",
     "output_type": "stream",
     "text": [
      "c:\\Users\\rooty\\UWEC\\Research\\CyberBullyingML\\venv\\lib\\site-packages\\sklearn\\metrics\\_classification.py:1531: UndefinedMetricWarning: Precision is ill-defined and being set to 0.0 in labels with no predicted samples. Use `zero_division` parameter to control this behavior.\n",
      "  _warn_prf(average, modifier, f\"{metric.capitalize()} is\", len(result))\n",
      "c:\\Users\\rooty\\UWEC\\Research\\CyberBullyingML\\venv\\lib\\site-packages\\sklearn\\metrics\\_classification.py:1531: UndefinedMetricWarning: Precision is ill-defined and being set to 0.0 in labels with no predicted samples. Use `zero_division` parameter to control this behavior.\n",
      "  _warn_prf(average, modifier, f\"{metric.capitalize()} is\", len(result))\n",
      "c:\\Users\\rooty\\UWEC\\Research\\CyberBullyingML\\venv\\lib\\site-packages\\sklearn\\metrics\\_classification.py:1531: UndefinedMetricWarning: Precision is ill-defined and being set to 0.0 in labels with no predicted samples. Use `zero_division` parameter to control this behavior.\n",
      "  _warn_prf(average, modifier, f\"{metric.capitalize()} is\", len(result))\n"
     ]
    },
    {
     "name": "stdout",
     "output_type": "stream",
     "text": [
      "              precision    recall  f1-score   support\n",
      "\n",
      "           0       0.00      0.00      0.00      4991\n",
      "           1       0.74      1.00      0.85     14502\n",
      "\n",
      "    accuracy                           0.74     19493\n",
      "   macro avg       0.37      0.50      0.43     19493\n",
      "weighted avg       0.55      0.74      0.63     19493\n",
      "\n",
      "              precision    recall  f1-score   support\n",
      "\n",
      "           0       1.00      0.00      0.00      4991\n",
      "           1       0.74      1.00      0.85     14502\n",
      "\n",
      "    accuracy                           0.74     19493\n",
      "   macro avg       0.87      0.50      0.43     19493\n",
      "weighted avg       0.81      0.74      0.64     19493\n",
      "\n"
     ]
    }
   ],
   "source": [
    "for result in results:\n",
    "    params = result['params']\n",
    "    model = xgb.XGBClassifier(**params)\n",
    "    model.fit(x_train_gpu, y_train)\n",
    "    y_pred = model.predict(x_test_gpu)\n",
    "    cls_report = classification_report(y_test, y_pred)\n",
    "    print(cls_report)"
   ]
  }
 ],
 "metadata": {
  "kernelspec": {
   "display_name": "venv",
   "language": "python",
   "name": "python3"
  },
  "language_info": {
   "codemirror_mode": {
    "name": "ipython",
    "version": 3
   },
   "file_extension": ".py",
   "mimetype": "text/x-python",
   "name": "python",
   "nbconvert_exporter": "python",
   "pygments_lexer": "ipython3",
   "version": "3.10.6"
  }
 },
 "nbformat": 4,
 "nbformat_minor": 2
}
