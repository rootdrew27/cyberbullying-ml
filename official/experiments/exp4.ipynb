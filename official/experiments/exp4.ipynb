{
 "cells": [
  {
   "cell_type": "markdown",
   "metadata": {},
   "source": [
    "### Experiment 4 - **NOT STARTED**\n",
    "- Test the ability of a model trained on Dataset 1 to generalize to Dataset 3\n",
    "- Negative Class (0) Non-Cyberbullying\n",
    "- Positive Class (1) Cyberbullying"
   ]
  },
  {
   "cell_type": "code",
   "execution_count": 2,
   "metadata": {},
   "outputs": [],
   "source": [
    "import pandas as pd\n",
    "import numpy as np\n",
    "import xgboost as xgb\n",
    "from sklearn.model_selection import train_test_split\n",
    "from sklearn.feature_extraction.text import TfidfVectorizer, CountVectorizer\n",
    "from sklearn.metrics import classification_report\n",
    "from sklearn.metrics import confusion_matrix\n",
    "from sklearn.metrics import ConfusionMatrixDisplay\n",
    "from pathlib import Path\n",
    "import json\n",
    "import random\n",
    "import sys\n",
    "sys.path.append('C:\\\\Users\\\\rooty\\\\UWEC\\\\Research\\\\CyberBullyingML\\\\venv\\\\cyberbullying-ml\\\\src')\n",
    "from utils.results import create_results_file, append_results_to_json\n",
    "from utils.data import balance_train_and_test\n",
    "from catboost import CatBoostClassifier\n"
   ]
  },
  {
   "cell_type": "code",
   "execution_count": 3,
   "metadata": {},
   "outputs": [],
   "source": [
    "RANDOM_SEED = 115\n",
    "random.seed(RANDOM_SEED)\n",
    "np.random.seed(RANDOM_SEED)"
   ]
  },
  {
   "cell_type": "code",
   "execution_count": 6,
   "metadata": {},
   "outputs": [],
   "source": [
    "CLEAN_DATA_PATH = Path(\"../data/en_only\")\n",
    "\n",
    "EXPERIMENTS_PATH = Path('C:\\\\Users\\\\rooty\\\\UWEC\\\\Research\\\\CyberBullyingML\\\\venv\\\\cyberbullying-ml\\\\experiments')\n",
    "RESULT_PATH = Path('C:\\\\Users\\\\rooty\\\\UWEC\\\\Research\\\\CyberBullyingML\\\\venv\\\\cyberbullying-ml\\\\experiments\\\\results\\\\exp4')"
   ]
  },
  {
   "cell_type": "code",
   "execution_count": 24,
   "metadata": {},
   "outputs": [],
   "source": [
    "TRAIN_DATA_NAME = '48000_cyberbullying_tweets_basic_clean.csv'\n",
    "TEST_DATA_NAME = 'onlineHarassmentDataset_basic_clean.csv'\n",
    "\n",
    "train_data = CLEAN_DATA_PATH / TRAIN_DATA_NAME\n",
    "test_data = CLEAN_DATA_PATH / TEST_DATA_NAME"
   ]
  },
  {
   "cell_type": "code",
   "execution_count": 27,
   "metadata": {},
   "outputs": [],
   "source": [
    "train_df = pd.read_csv(train_data)\n",
    "test_df = pd.read_csv(test_data)\n",
    "\n",
    "test_df.rename(columns={'Code': 'label', 'Tweet': \"tweet\"}, inplace=True)\n",
    "\n",
    "train_df['label'] = train_df['label'].apply(lambda x : 0 if x == 'notcb' else 1)\n",
    "test_df['label'] = test_df['label'].apply(lambda x : 0 if x == 'N' else 1)"
   ]
  },
  {
   "cell_type": "code",
   "execution_count": 28,
   "metadata": {},
   "outputs": [
    {
     "data": {
      "text/plain": [
       "label\n",
       "1    37170\n",
       "0     6377\n",
       "Name: count, dtype: int64"
      ]
     },
     "execution_count": 28,
     "metadata": {},
     "output_type": "execute_result"
    }
   ],
   "source": [
    "train_df.dropna(axis=0, inplace=True)\n",
    "train_df.drop_duplicates(inplace=True)\n",
    "train_df.reset_index(drop=True, inplace=True)\n",
    "train_df['label'].value_counts()"
   ]
  },
  {
   "cell_type": "code",
   "execution_count": 29,
   "metadata": {},
   "outputs": [
    {
     "data": {
      "text/plain": [
       "label\n",
       "0    14202\n",
       "1     4855\n",
       "Name: count, dtype: int64"
      ]
     },
     "execution_count": 29,
     "metadata": {},
     "output_type": "execute_result"
    }
   ],
   "source": [
    "test_df.dropna(axis=0, inplace=True)\n",
    "test_df.drop_duplicates(inplace=True)\n",
    "test_df.reset_index(drop=True, inplace=True)\n",
    "test_df['label'].value_counts()"
   ]
  },
  {
   "cell_type": "code",
   "execution_count": 31,
   "metadata": {},
   "outputs": [],
   "source": [
    "# balance the datasets\n",
    "notcb_train, cb_train = train_df[train_df['label'] == 0], train_df[train_df['label'] == 1]\n",
    "notcb_test, cb_test = test_df[test_df['label'] == 0], test_df[test_df['label'] == 1]\n",
    "tr_df, te_df, ratio = balance_train_and_test(notcb_train, cb_train, notcb_test, cb_test, random_state=RANDOM_SEED)"
   ]
  },
  {
   "cell_type": "code",
   "execution_count": 35,
   "metadata": {},
   "outputs": [
    {
     "name": "stdout",
     "output_type": "stream",
     "text": [
      "0.17156308851224106\n",
      "2.925231719876416\n"
     ]
    },
    {
     "data": {
      "text/plain": [
       "0.48968471148126125"
      ]
     },
     "execution_count": 35,
     "metadata": {},
     "output_type": "execute_result"
    }
   ],
   "source": [
    "print(notcb_train.shape[0] / cb_train.shape[0])\n",
    "print(notcb_test.shape[0] / cb_test.shape[0])\n",
    "ratio"
   ]
  }
 ],
 "metadata": {
  "kernelspec": {
   "display_name": "venv",
   "language": "python",
   "name": "python3"
  },
  "language_info": {
   "codemirror_mode": {
    "name": "ipython",
    "version": 3
   },
   "file_extension": ".py",
   "mimetype": "text/x-python",
   "name": "python",
   "nbconvert_exporter": "python",
   "pygments_lexer": "ipython3",
   "version": "3.10.6"
  }
 },
 "nbformat": 4,
 "nbformat_minor": 2
}
