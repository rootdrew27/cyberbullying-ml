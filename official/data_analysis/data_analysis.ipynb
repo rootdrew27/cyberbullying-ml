{
 "cells": [
  {
   "cell_type": "code",
   "execution_count": 4,
   "metadata": {},
   "outputs": [],
   "source": [
    "import numpy as np\n",
    "import pandas as pd\n",
    "import scipy.stats as stats\n",
    "from scipy.stats import binom, hypergeom\n",
    "import matplotlib.pyplot as plt"
   ]
  },
  {
   "cell_type": "code",
   "execution_count": null,
   "metadata": {},
   "outputs": [],
   "source": [
    "N = 25\n",
    "n = 10\n",
    "K = 12\n",
    "\n",
    "rv = hypergeom(N, n, K)\n",
    "x = np.arange(0, n+1)\n",
    "pmf_dogs = rv.pmf(x)\n",
    "\n",
    "fig = plt.figure()\n",
    "ax = fig.add_subplot(111)\n",
    "ax.plot(x, pmf_dogs, 'bo')\n",
    "ax.vlines(x, 0, pmf_dogs, lw=2)\n",
    "ax.set_xlabel('# of dogs in our group of chosen animals')\n",
    "ax.set_ylabel('hypergeom PMF')\n",
    "plt.show()"
   ]
  },
  {
   "cell_type": "code",
   "execution_count": null,
   "metadata": {},
   "outputs": [],
   "source": [
    "n, p = 15, 0.5  # parameters for the binomial distribution\n",
    "x = np.arange(0, n+1)\n",
    "pmf = binom.cdf(x, n, p)\n",
    "\n",
    "fig, ax = plt.subplots(1, 1, figsize=(8, 6))\n",
    "ax.plot(x, pmf, 'bo', ms=8, label='binom cdf')\n",
    "ax.vlines(x, 0, pmf, colors='b', lw=5)\n",
    "ax.set_xlabel('Number of successes')\n",
    "ax.set_ylabel('Probability')\n",
    "ax.set_title('Binomial Distribution CDF')\n",
    "plt.legend()\n",
    "plt.show()"
   ]
  },
  {
   "cell_type": "code",
   "execution_count": null,
   "metadata": {},
   "outputs": [],
   "source": [
    "binom.cdf(500, n, p)"
   ]
  },
  {
   "cell_type": "code",
   "execution_count": null,
   "metadata": {},
   "outputs": [],
   "source": [
    "binom.ppf(.51261, n, p)"
   ]
  },
  {
   "cell_type": "code",
   "execution_count": 2,
   "metadata": {},
   "outputs": [
    {
     "name": "stdout",
     "output_type": "stream",
     "text": [
      "Expected number of samples from DQE: 25358.20\n"
     ]
    }
   ],
   "source": [
    "# determine the expected value (of tweets grabbed with DQE) for each\n",
    "\n",
    "Ns = [10010, 12730, 10277, 9367, 8084]\n",
    "Ss = [10010 - 165, 12730 - 272, 10277 - 6489, 9367 - 1933, 8084 - 7717]\n",
    "\n",
    "n = 8000\n",
    "\n",
    "Ex_S = 0\n",
    "\n",
    "for N, S in zip(Ns, Ss):\n",
    "    Ex_S += n * (S / N)\n",
    "\n",
    "print(f'Expected number of samples from DQE: {Ex_S:.2f}')"
   ]
  },
  {
   "cell_type": "code",
   "execution_count": 9,
   "metadata": {},
   "outputs": [
    {
     "data": {
      "image/png": "[encoded data removed]",
      "text/plain": [
       "<Figure size 640x480 with 1 Axes>"
      ]
     },
     "metadata": {},
     "output_type": "display_data"
    }
   ],
   "source": [
    "tot_N = sum(Ns)\n",
    "tot_S = sum(Ss)\n",
    "\n",
    "n = 8000 * 5\n",
    "\n",
    "rv = hypergeom(tot_N, n, tot_S)\n",
    "x = np.arange(0, n+1)\n",
    "pmf = rv.pmf(x)\n",
    "\n",
    "fig = plt.figure()\n",
    "ax = fig.add_subplot()\n",
    "ax.plot(x, pmf, 'bo')\n",
    "ax.vlines(x, 0, pmf)\n",
    "ax.set_xlabel('# of samples from DQE')\n",
    "ax.set_ylabel('hypergeom PMF')\n",
    "plt.show()"
   ]
  },
  {
   "cell_type": "code",
   "execution_count": 11,
   "metadata": {},
   "outputs": [
    {
     "data": {
      "text/plain": [
       "26862.17008797654"
      ]
     },
     "execution_count": 11,
     "metadata": {},
     "output_type": "execute_result"
    }
   ],
   "source": [
    "rv.mean()"
   ]
  }
 ],
 "metadata": {
  "kernelspec": {
   "display_name": "cyberbullyingml",
   "language": "python",
   "name": "python3"
  },
  "language_info": {
   "codemirror_mode": {
    "name": "ipython",
    "version": 3
   },
   "file_extension": ".py",
   "mimetype": "text/x-python",
   "name": "python",
   "nbconvert_exporter": "python",
   "pygments_lexer": "ipython3",
   "version": "3.10.6"
  }
 },
 "nbformat": 4,
 "nbformat_minor": 2
}
