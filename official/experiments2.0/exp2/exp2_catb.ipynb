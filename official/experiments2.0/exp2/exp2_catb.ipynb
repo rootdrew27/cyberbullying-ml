{
 "cells": [
  {
   "cell_type": "code",
   "execution_count": 1,
   "metadata": {},
   "outputs": [],
   "source": [
    "from xgboost import XGBClassifier\n",
    "from catboost import CatBoostClassifier\n",
    "\n",
    "from sklearn.model_selection import train_test_split\n",
    "from sklearn.metrics import f1_score\n",
    "from sklearn.metrics import classification_report\n",
    "from sklearn.feature_extraction.text import TfidfVectorizer, CountVectorizer\n",
    "\n",
    "from nltk.stem.snowball import SnowballStemmer\n",
    "\n",
    "import pandas as pd\n",
    "import numpy as np\n",
    "\n",
    "import random\n",
    "import sys\n",
    "from pathlib import Path\n",
    "\n",
    "sys.path.append('C:\\\\Users\\\\rooty\\\\UWEC\\\\Research\\\\CyberBullyingML\\\\cyberbullyingml\\\\cyberbullying-ml\\\\official\\\\src\\\\utils\\\\')\n",
    "\n",
    "from params import get_topn_param_sets\n",
    "from results import append_results, create_results_file\n"
   ]
  },
  {
   "cell_type": "code",
   "execution_count": 7,
   "metadata": {},
   "outputs": [],
   "source": [
    "DATA_PATH = Path('C:\\\\Users\\\\rooty\\\\UWEC\\\\Research\\\\CyberBullyingML\\\\cyberbullyingml\\\\cyberbullying-ml\\\\data\\\\en_only')\n",
    "RESULT_PATH = Path.cwd()\n",
    "PATH_TO_PARAMS =  Path(r'C:\\Users\\rooty\\UWEC\\Research\\CyberBullyingML\\cyberbullyingml\\cyberbullying-ml\\official\\hyp_search\\results')\n",
    "\n",
    "TRAIN_DATA_NAME = 'hatespeech_tweets_basic_clean.csv'\n",
    "TEST_DATA_NAME = '48000_cyberbullying_tweets_basic_clean.csv'\n",
    "\n",
    "RANDOM_SEED = 115\n",
    "random.seed(RANDOM_SEED)\n",
    "np.random.seed(RANDOM_SEED)"
   ]
  },
  {
   "cell_type": "code",
   "execution_count": 4,
   "metadata": {},
   "outputs": [],
   "source": [
    "train_df = pd.read_csv(DATA_PATH / TRAIN_DATA_NAME)\n",
    "test_df = pd.read_csv(DATA_PATH / TEST_DATA_NAME)\n",
    "\n",
    "train_df.dropna(axis=0, inplace=True)\n",
    "train_df.drop_duplicates(inplace=True)\n",
    "train_df.reset_index(drop=True, inplace=True)\n",
    "\n",
    "test_df.dropna(axis=0, inplace=True)\n",
    "test_df.drop_duplicates(inplace=True)\n",
    "test_df.reset_index(drop=True, inplace=True)"
   ]
  },
  {
   "cell_type": "code",
   "execution_count": 5,
   "metadata": {},
   "outputs": [],
   "source": [
    "train_df['class'] = train_df['class'].apply(lambda label: 1 if label == 0 else 0)\n",
    "test_df['label'] =  test_df['label'].apply(lambda label: 0 if label == 'notcb' else 1)"
   ]
  },
  {
   "cell_type": "code",
   "execution_count": 18,
   "metadata": {},
   "outputs": [
    {
     "name": "stdout",
     "output_type": "stream",
     "text": [
      "Negative to positive ratio: 17.064205457463885\n"
     ]
    }
   ],
   "source": [
    "catb_param_results:pd.DataFrame = get_topn_param_sets(PATH_TO_PARAMS, algo='catb', dataset='d2', n=10, sort_condition='f1_macro_mean')\n",
    "\n",
    "catb_param_sets = catb_param_results['params']\n",
    "\n",
    "neg_to_pos_ratio = (train_df['class'] == 0).sum() / (train_df['class'] == 1).sum() \n",
    "\n",
    "print(f'Negative to positive ratio: {neg_to_pos_ratio}')"
   ]
  },
  {
   "cell_type": "code",
   "execution_count": 14,
   "metadata": {},
   "outputs": [
    {
     "data": {
      "text/html": [
       "<div>\n",
       "<style scoped>\n",
       "    .dataframe tbody tr th:only-of-type {\n",
       "        vertical-align: middle;\n",
       "    }\n",
       "\n",
       "    .dataframe tbody tr th {\n",
       "        vertical-align: top;\n",
       "    }\n",
       "\n",
       "    .dataframe thead th {\n",
       "        text-align: right;\n",
       "    }\n",
       "</style>\n",
       "<table border=\"1\" class=\"dataframe\">\n",
       "  <thead>\n",
       "    <tr style=\"text-align: right;\">\n",
       "      <th></th>\n",
       "      <th>fit_time_mean</th>\n",
       "      <th>fit_time_std_dev</th>\n",
       "      <th>f1_macro_mean</th>\n",
       "      <th>f1_macro_std_dev</th>\n",
       "      <th>f1_weighted_mean</th>\n",
       "      <th>f1_weighted_std_dev</th>\n",
       "      <th>params</th>\n",
       "    </tr>\n",
       "  </thead>\n",
       "  <tbody>\n",
       "    <tr>\n",
       "      <th>29</th>\n",
       "      <td>17.206544</td>\n",
       "      <td>2.317648</td>\n",
       "      <td>0.620820</td>\n",
       "      <td>0.022864</td>\n",
       "      <td>0.878512</td>\n",
       "      <td>0.014970</td>\n",
       "      <td>{'vectorizer': '&lt;class 'sklearn.feature_extrac...</td>\n",
       "    </tr>\n",
       "    <tr>\n",
       "      <th>21</th>\n",
       "      <td>17.520678</td>\n",
       "      <td>2.125428</td>\n",
       "      <td>0.620820</td>\n",
       "      <td>0.022864</td>\n",
       "      <td>0.878512</td>\n",
       "      <td>0.014970</td>\n",
       "      <td>{'vectorizer': '&lt;class 'sklearn.feature_extrac...</td>\n",
       "    </tr>\n",
       "    <tr>\n",
       "      <th>22</th>\n",
       "      <td>4.960802</td>\n",
       "      <td>0.895083</td>\n",
       "      <td>0.627348</td>\n",
       "      <td>0.022577</td>\n",
       "      <td>0.882511</td>\n",
       "      <td>0.017173</td>\n",
       "      <td>{'vectorizer': '&lt;class 'sklearn.feature_extrac...</td>\n",
       "    </tr>\n",
       "    <tr>\n",
       "      <th>30</th>\n",
       "      <td>4.906490</td>\n",
       "      <td>0.802834</td>\n",
       "      <td>0.627348</td>\n",
       "      <td>0.022577</td>\n",
       "      <td>0.882511</td>\n",
       "      <td>0.017173</td>\n",
       "      <td>{'vectorizer': '&lt;class 'sklearn.feature_extrac...</td>\n",
       "    </tr>\n",
       "    <tr>\n",
       "      <th>39</th>\n",
       "      <td>64.185356</td>\n",
       "      <td>9.331979</td>\n",
       "      <td>0.616654</td>\n",
       "      <td>0.022198</td>\n",
       "      <td>0.873059</td>\n",
       "      <td>0.016423</td>\n",
       "      <td>{'vectorizer': '&lt;class 'sklearn.feature_extrac...</td>\n",
       "    </tr>\n",
       "  </tbody>\n",
       "</table>\n",
       "</div>"
      ],
      "text/plain": [
       "    fit_time_mean  fit_time_std_dev  f1_macro_mean  f1_macro_std_dev  \\\n",
       "29      17.206544          2.317648       0.620820          0.022864   \n",
       "21      17.520678          2.125428       0.620820          0.022864   \n",
       "22       4.960802          0.895083       0.627348          0.022577   \n",
       "30       4.906490          0.802834       0.627348          0.022577   \n",
       "39      64.185356          9.331979       0.616654          0.022198   \n",
       "\n",
       "    f1_weighted_mean  f1_weighted_std_dev  \\\n",
       "29          0.878512             0.014970   \n",
       "21          0.878512             0.014970   \n",
       "22          0.882511             0.017173   \n",
       "30          0.882511             0.017173   \n",
       "39          0.873059             0.016423   \n",
       "\n",
       "                                               params  \n",
       "29  {'vectorizer': '<class 'sklearn.feature_extrac...  \n",
       "21  {'vectorizer': '<class 'sklearn.feature_extrac...  \n",
       "22  {'vectorizer': '<class 'sklearn.feature_extrac...  \n",
       "30  {'vectorizer': '<class 'sklearn.feature_extrac...  \n",
       "39  {'vectorizer': '<class 'sklearn.feature_extrac...  "
      ]
     },
     "execution_count": 14,
     "metadata": {},
     "output_type": "execute_result"
    }
   ],
   "source": [
    "catb_param_results.head()"
   ]
  },
  {
   "cell_type": "code",
   "execution_count": null,
   "metadata": {},
   "outputs": [],
   "source": []
  }
 ],
 "metadata": {
  "kernelspec": {
   "display_name": "cyberbullyingml",
   "language": "python",
   "name": "python3"
  },
  "language_info": {
   "codemirror_mode": {
    "name": "ipython",
    "version": 3
   },
   "file_extension": ".py",
   "mimetype": "text/x-python",
   "name": "python",
   "nbconvert_exporter": "python",
   "pygments_lexer": "ipython3",
   "version": "3.10.6"
  }
 },
 "nbformat": 4,
 "nbformat_minor": 2
}
