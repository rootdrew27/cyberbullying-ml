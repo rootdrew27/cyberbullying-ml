{
  "nbformat": 4,
  "nbformat_minor": 0,
  "metadata": {
    "colab": {
      "provenance": [],
      "authorship_tag": "ABX9TyPj/Ghie7sVjf+tw+jKou+E",
      "include_colab_link": true
    },
    "kernelspec": {
      "name": "python3",
      "display_name": "Python 3"
    },
    "language_info": {
      "name": "python"
    }
  },
  "cells": [
    {
      "cell_type": "markdown",
      "metadata": {
        "id": "view-in-github",
        "colab_type": "text"
      },
      "source": [
        "<a href=\"https://colab.research.google.com/github/rootdrew27/cyberbullying-ml/blob/main/RNN_working.ipynb\" target=\"_parent\"><img src=\"https://colab.research.google.com/assets/colab-badge.svg\" alt=\"Open In Colab\"/></a>"
      ]
    },
    {
      "cell_type": "code",
      "source": [
        "!pip install langdetect\n",
        "!pip install nltk\n",
        "!pip install contractions"
      ],
      "metadata": {
        "id": "99KEs4GUmbpV"
      },
      "execution_count": null,
      "outputs": []
    },
    {
      "cell_type": "code",
      "source": [
        "# data management\n",
        "import pandas as pd\n",
        "import numpy as np\n",
        "\n",
        "# model\n",
        "import tensorflow as tf\n",
        "import keras\n",
        "from keras import layers\n",
        "from keras.models import Sequential\n",
        "from keras.layers import Dense, LSTM"
      ],
      "metadata": {
        "id": "lnrVQR4pnyNu"
      },
      "execution_count": 3,
      "outputs": []
    },
    {
      "cell_type": "code",
      "execution_count": null,
      "metadata": {
        "id": "B6q9LSWBJyU4"
      },
      "outputs": [],
      "source": [
        "df = pd.read_csv('./cyberbullying_tweets (1).csv', header=0)\n",
        "pd.set_option('display.max_colwidth', None)\n",
        "df.sample(200, random_state=20)"
      ]
    },
    {
      "cell_type": "code",
      "source": [
        "df.duplicated().sum()\n",
        "df = df[~df.duplicated()]"
      ],
      "metadata": {
        "id": "yfvLk44ZmzqH"
      },
      "execution_count": null,
      "outputs": []
    },
    {
      "cell_type": "code",
      "source": [
        "class_labels = {\n",
        "    'not_cyberbullying':0,\n",
        "    'religion':1,\n",
        "    'age':2,\n",
        "    'gender':3,\n",
        "    'ethnicity':4,\n",
        "    'other_cyberbullying':5\n",
        "}\n",
        "df['cyberbullying_type'] = df['cyberbullying_type'].replace(class_labels).astype(int)\n",
        "\n",
        "# Convert the target labels to a list for the purpose of making a list of predictions\n",
        "target_labels = tf.keras.utils.to_categorical(df['cyberbullying_type'], 6, 'int')"
      ],
      "metadata": {
        "colab": {
          "base_uri": "https://localhost:8080/"
        },
        "id": "azlqtuZ8J4Cz",
        "outputId": "39ff07f0-8904-4eb0-ee84-20c096d0f638"
      },
      "execution_count": null,
      "outputs": [
        {
          "output_type": "execute_result",
          "data": {
            "text/plain": [
              "6"
            ]
          },
          "metadata": {},
          "execution_count": 3
        }
      ]
    },
    {
      "cell_type": "markdown",
      "source": [
        "# Preprocessing"
      ],
      "metadata": {
        "id": "kYOOA0f5Afes"
      }
    },
    {
      "cell_type": "code",
      "source": [
        "import re\n",
        "from langdetect import detect, DetectorFactory, LangDetectException\n",
        "import nltk\n",
        "from nltk.corpus import stopwords\n",
        "from nltk.stem import WordNetLemmatizer, PorterStemmer\n",
        "import contractions\n",
        "\n",
        "nltk.download('stopwords')\n",
        "\n",
        "stopWords = stopwords.words('english')\n",
        "customStopWords = ['rt']\n",
        "stopWords = stopWords + customStopWords\n",
        "stopWords.remove('no')\n",
        "stopWords.remove('not')\n",
        "stopWords.remove('nor')\n",
        "\n",
        "DetectorFactory.seed = 0 #seed for the lang detector"
      ],
      "metadata": {
        "id": "5Lh_g2psJ5h5",
        "colab": {
          "base_uri": "https://localhost:8080/"
        },
        "outputId": "5bfcac54-8cee-434a-c531-46853593d810"
      },
      "execution_count": null,
      "outputs": [
        {
          "output_type": "stream",
          "name": "stdout",
          "text": [
            "['i', 'me', 'my', 'myself', 'we', 'our', 'ours', 'ourselves', 'you', \"you're\", \"you've\", \"you'll\", \"you'd\", 'your', 'yours', 'yourself', 'yourselves', 'he', 'him', 'his', 'himself', 'she', \"she's\", 'her', 'hers', 'herself', 'it', \"it's\", 'its', 'itself', 'they', 'them', 'their', 'theirs', 'themselves', 'what', 'which', 'who', 'whom', 'this', 'that', \"that'll\", 'these', 'those', 'am', 'is', 'are', 'was', 'were', 'be', 'been', 'being', 'have', 'has', 'had', 'having', 'do', 'does', 'did', 'doing', 'a', 'an', 'the', 'and', 'but', 'if', 'or', 'because', 'as', 'until', 'while', 'of', 'at', 'by', 'for', 'with', 'about', 'against', 'between', 'into', 'through', 'during', 'before', 'after', 'above', 'below', 'to', 'from', 'up', 'down', 'in', 'out', 'on', 'off', 'over', 'under', 'again', 'further', 'then', 'once', 'here', 'there', 'when', 'where', 'why', 'how', 'all', 'any', 'both', 'each', 'few', 'more', 'most', 'other', 'some', 'such', 'no', 'nor', 'not', 'only', 'own', 'same', 'so', 'than', 'too', 'very', 's', 't', 'can', 'will', 'just', 'don', \"don't\", 'should', \"should've\", 'now', 'd', 'll', 'm', 'o', 're', 've', 'y', 'ain', 'aren', \"aren't\", 'couldn', \"couldn't\", 'didn', \"didn't\", 'doesn', \"doesn't\", 'hadn', \"hadn't\", 'hasn', \"hasn't\", 'haven', \"haven't\", 'isn', \"isn't\", 'ma', 'mightn', \"mightn't\", 'mustn', \"mustn't\", 'needn', \"needn't\", 'shan', \"shan't\", 'shouldn', \"shouldn't\", 'wasn', \"wasn't\", 'weren', \"weren't\", 'won', \"won't\", 'wouldn', \"wouldn't\"]\n"
          ]
        },
        {
          "output_type": "stream",
          "name": "stderr",
          "text": [
            "[nltk_data] Downloading package stopwords to /root/nltk_data...\n",
            "[nltk_data]   Unzipping corpora/stopwords.zip.\n"
          ]
        }
      ]
    },
    {
      "cell_type": "code",
      "source": [
        "def standardize(text):\n",
        "    return text.lower()\n",
        "\n",
        "# Function to check if the text is in English, and return an empty string if it's not\n",
        "def remove_non_english(text):\n",
        "    try:\n",
        "        lang = detect(text)\n",
        "    except LangDetectException:\n",
        "        lang = \"unknown\"\n",
        "    return text if lang == \"en\" else \"\"\n",
        "\n",
        "# Expand contractions\n",
        "def expand_contractions(text):\n",
        "    return contractions.fix(text)\n",
        "\n",
        "def remove_entities(text):\n",
        "    text = re.sub(r'&[a-z]+;', r' ', text) #remove html entities\n",
        "    text = re.sub(r'https?\\://S*', r' ', text) # remove links\n",
        "    text = re.sub(r'(?:http[s]?://)?(?:www\\.)?(?:bit\\.ly|goo\\.gl|t\\.co|tinyurl\\.com|tr\\.im|is\\.gd|cli\\.gs|u\\.nu|url\\.ie|tiny\\.cc|alturl\\.com|ow\\.ly|bit\\.do|adoro\\.to)\\S+', '', text) #remove url shorteners\n",
        "    text = re.sub(r'#\\S*', r'', text) #remove hastags\n",
        "    text = re.sub(r'[^\\x00-\\x7F]+', r'', text) #remove non-ascii characters\n",
        "    text = re.sub(r'[!$%^&*+=\\-_()[\\]\\\\;|:`~\\'\",./?<>}{]', r' ', text) #remove punctuation and special chars\n",
        "    text = re.sub(r'[0-9]', r' ', text) #remove numbers\n",
        "    text = re.sub(r'@\\S*', r'@', text) # normalize mentions\n",
        "    text = re.sub(r'\\s', r' ', text) #replace whitespace chars with a single space\n",
        "    return text\n",
        "\n",
        "# Lemmatize words\n",
        "# def lemmatize(text):\n",
        "#     words = word_tokenize(text)\n",
        "#     lemmatized_words = [lemmatizer.lemmatize(word) for word in words]\n",
        "#     return ' '.join(lemmatized_words)\n",
        "\n",
        "def remove_stop_words(text):\n",
        "    text = \" \".join([word for word in text.split(\" \") if word not in stopWords])\n",
        "    return text\n",
        "\n",
        "def remove_excess_spaces(text):\n",
        "    return re.sub(\"\\s\\s+\" , \" \", text)\n",
        "\n",
        "def remove_blank_chars(text):\n",
        "    return \" \".join([char for char in text if char != ''])\n",
        "\n",
        "def remove_tweets_with_few_words(text):\n",
        "    if len(text.split(\" \")) < 4:\n",
        "        text = \"\"\n",
        "    return text\n",
        "\n",
        "elo_word_re_pattern = r'\\b(\\w+)((\\w)\\3{2,})(\\w*)\\b'\n",
        "\n",
        "#Naive impl of elongated word replacer\n",
        "def replace_elongated_words(text):\n",
        "    return re.sub(elo_word_re_pattern, r'\\1\\3\\4', text)\n",
        "\n",
        "def preprocess(text):\n",
        "    text = remove_non_english(text)\n",
        "    text = standardize(text)\n",
        "    text = replace_elongated_words(text)\n",
        "    text = expand_contractions(text)\n",
        "    text = remove_entities(text)\n",
        "    #text = remove_stop_words(text)\n",
        "    text = remove_excess_spaces(text)\n",
        "    text = remove_tweets_with_few_words(text)\n",
        "    return text\n",
        ""
      ],
      "metadata": {
        "id": "dvoY6hotJ8Vj"
      },
      "execution_count": 2,
      "outputs": []
    },
    {
      "cell_type": "code",
      "source": [
        "df.tweet_text = df.tweet_text.apply(preprocess)"
      ],
      "metadata": {
        "id": "UQ-n1kTnJ-rf"
      },
      "execution_count": null,
      "outputs": []
    },
    {
      "cell_type": "code",
      "source": [
        "# use cleaned data\n",
        "clean_df = pd.read_csv(\"./cleaned_data1\")"
      ],
      "metadata": {
        "id": "JdTr76uRr9fT"
      },
      "execution_count": null,
      "outputs": []
    },
    {
      "cell_type": "code",
      "source": [
        "class_labels = {\n",
        "    'not_cyberbullying':0,\n",
        "    'religion':1,\n",
        "    'age':2,\n",
        "    'gender':3,\n",
        "    'ethnicity':4,\n",
        "    'other_cyberbullying':5\n",
        "}\n",
        "df['cyberbullying_type'] = df['cyberbullying_type'].replace(class_labels).astype(int)\n",
        "\n",
        "# Convert the target labels to a list for the purpose of making a list of predictions\n",
        "target_labels = tf.keras.utils.to_categorical(df['cyberbullying_type'], 6, 'int')"
      ],
      "metadata": {
        "id": "nkaXbeJgsMEQ"
      },
      "execution_count": null,
      "outputs": []
    },
    {
      "cell_type": "code",
      "source": [
        "from sklearn.model_selection import train_test_split\n",
        "\n",
        "#Split 1\n",
        "x_Train_1, x_Test_1, y_Train_1, y_Test_1 = train_test_split(\n",
        "    df.tweet_text,\n",
        "    df.cyberbullying_type,\n",
        "    test_size=.2,\n",
        "    random_state=100,\n",
        "    shuffle=True\n",
        ")\n",
        "\n",
        "#Split 2\n",
        "x_Train_2, x_Test_2, y_Train_2, y_Test_2 = train_test_split(\n",
        "    df.tweet_text,\n",
        "    df.cyberbullying_type,\n",
        "    test_size=.3,\n",
        "    random_state=100,\n",
        "    shuffle=True\n",
        ")\n",
        "\n",
        "#Split 3\n",
        "x_Train_3, x_Test_3, y_Train_3, y_Test_3 = train_test_split(\n",
        "    df.tweet_text,\n",
        "    df.cyberbullying_type,\n",
        "    test_size=.4,\n",
        "    random_state=100,\n",
        "    shuffle=True\n",
        ")"
      ],
      "metadata": {
        "id": "7qdxrx9-KOco"
      },
      "execution_count": null,
      "outputs": []
    },
    {
      "cell_type": "code",
      "source": [
        "tfds_train_1 = tf.data.Dataset.from_tensor_slices((x_Train_1, y_Train_1))\n",
        "tfds_test_1 = tf.data.Dataset.from_tensor_slices((x_Test_1, y_Test_1))\n",
        "\n",
        "tfds_train_2 = tf.data.Dataset.from_tensor_slices((x_Train_2, y_Train_2))\n",
        "tfds_test_2 = tf.data.Dataset.from_tensor_slices((x_Test_2, y_Test_2))\n",
        "\n",
        "tfds_train_3 = tf.data.Dataset.from_tensor_slices((x_Train_3, y_Train_3))\n",
        "tfds_test_3 = tf.data.Dataset.from_tensor_slices((x_Test_3, y_Test_3))"
      ],
      "metadata": {
        "id": "aSlVHrLliMQp"
      },
      "execution_count": null,
      "outputs": []
    },
    {
      "cell_type": "code",
      "source": [
        "BATCH_SIZE = 64\n",
        "\n",
        "batched_train_1 = tfds_train_1.batch(BATCH_SIZE).prefetch(tf.data.AUTOTUNE)\n",
        "batched_test_1 = tfds_test_1.batch(BATCH_SIZE).prefetch(tf.data.AUTOTUNE)\n",
        "\n",
        "batched_train_2 = tfds_train_2.batch(BATCH_SIZE).prefetch(tf.data.AUTOTUNE)\n",
        "batched_test_2 = tfds_test_2.batch(BATCH_SIZE).prefetch(tf.data.AUTOTUNE)\n",
        "\n",
        "batched_train_3 = tfds_train_3.batch(BATCH_SIZE).prefetch(tf.data.AUTOTUNE)\n",
        "batched_test_3 = tfds_test_3.batch(BATCH_SIZE).prefetch(tf.data.AUTOTUNE)"
      ],
      "metadata": {
        "id": "96F3kKABk8wX"
      },
      "execution_count": null,
      "outputs": []
    },
    {
      "cell_type": "code",
      "source": [
        "VOCAB_SIZE = 35000\n",
        "encoder = layers.TextVectorization(max_tokens=VOCAB_SIZE)\n",
        "encoder.adapt(batched_train_1.map(lambda text, label: text))\n",
        "n_vocab = [word for word in encoder.get_vocabulary() if re.match('nig[ae]', word) != None]"
      ],
      "metadata": {
        "id": "6M8Y3AMyMscq",
        "colab": {
          "base_uri": "https://localhost:8080/",
          "height": 193
        },
        "outputId": "42034d2f-b9bd-488d-9f38-498bce61c605"
      },
      "execution_count": null,
      "outputs": [
        {
          "output_type": "error",
          "ename": "NameError",
          "evalue": "name 'layers' is not defined",
          "traceback": [
            "\u001b[0;31m---------------------------------------------------------------------------\u001b[0m",
            "\u001b[0;31mNameError\u001b[0m                                 Traceback (most recent call last)",
            "\u001b[0;32m<ipython-input-8-0d12ed69e9e0>\u001b[0m in \u001b[0;36m<cell line: 2>\u001b[0;34m()\u001b[0m\n\u001b[1;32m      1\u001b[0m \u001b[0mVOCAB_SIZE\u001b[0m \u001b[0;34m=\u001b[0m \u001b[0;36m35000\u001b[0m\u001b[0;34m\u001b[0m\u001b[0;34m\u001b[0m\u001b[0m\n\u001b[0;32m----> 2\u001b[0;31m \u001b[0mencoder\u001b[0m \u001b[0;34m=\u001b[0m \u001b[0mlayers\u001b[0m\u001b[0;34m.\u001b[0m\u001b[0mTextVectorization\u001b[0m\u001b[0;34m(\u001b[0m\u001b[0mmax_tokens\u001b[0m\u001b[0;34m=\u001b[0m\u001b[0mVOCAB_SIZE\u001b[0m\u001b[0;34m)\u001b[0m\u001b[0;34m\u001b[0m\u001b[0;34m\u001b[0m\u001b[0m\n\u001b[0m\u001b[1;32m      3\u001b[0m \u001b[0mencoder\u001b[0m\u001b[0;34m.\u001b[0m\u001b[0madapt\u001b[0m\u001b[0;34m(\u001b[0m\u001b[0mbatched_train\u001b[0m\u001b[0;34m.\u001b[0m\u001b[0mmap\u001b[0m\u001b[0;34m(\u001b[0m\u001b[0;32mlambda\u001b[0m \u001b[0mtext\u001b[0m\u001b[0;34m,\u001b[0m \u001b[0mlabel\u001b[0m\u001b[0;34m:\u001b[0m \u001b[0mtext\u001b[0m\u001b[0;34m)\u001b[0m\u001b[0;34m)\u001b[0m\u001b[0;34m\u001b[0m\u001b[0;34m\u001b[0m\u001b[0m\n\u001b[1;32m      4\u001b[0m \u001b[0mn_vocab\u001b[0m \u001b[0;34m=\u001b[0m \u001b[0;34m[\u001b[0m\u001b[0mword\u001b[0m \u001b[0;32mfor\u001b[0m \u001b[0mword\u001b[0m \u001b[0;32min\u001b[0m \u001b[0mencoder\u001b[0m\u001b[0;34m.\u001b[0m\u001b[0mget_vocabulary\u001b[0m\u001b[0;34m(\u001b[0m\u001b[0;34m)\u001b[0m \u001b[0;32mif\u001b[0m \u001b[0mre\u001b[0m\u001b[0;34m.\u001b[0m\u001b[0mmatch\u001b[0m\u001b[0;34m(\u001b[0m\u001b[0;34m'li'\u001b[0m\u001b[0;34m,\u001b[0m \u001b[0mword\u001b[0m\u001b[0;34m)\u001b[0m \u001b[0;34m!=\u001b[0m \u001b[0;32mNone\u001b[0m\u001b[0;34m]\u001b[0m\u001b[0;34m\u001b[0m\u001b[0;34m\u001b[0m\u001b[0m\n",
            "\u001b[0;31mNameError\u001b[0m: name 'layers' is not defined"
          ]
        }
      ]
    },
    {
      "cell_type": "code",
      "source": [
        "embedder = layers.Embedding(input_dim=VOCAB_SIZE, output_dim=64, mask_zero=True)"
      ],
      "metadata": {
        "id": "iUAR071fjvSG"
      },
      "execution_count": null,
      "outputs": []
    },
    {
      "cell_type": "code",
      "source": [
        "rnn_layer = layers.LSTM(64)\n",
        "\n",
        "model = Sequential()\n",
        "model.add(encoder)\n",
        "model.add(embedder)\n",
        "model.add(rnn_layer)\n",
        "model.add(Dense(64))\n",
        "model.add(Dense(6, activation='softmax'))"
      ],
      "metadata": {
        "id": "4ZhGaToJrl0g"
      },
      "execution_count": null,
      "outputs": []
    },
    {
      "cell_type": "code",
      "source": [
        "model.compile(loss=tf.keras.losses.CategoricalCrossentropy(),\n",
        "              optimizer=tf.keras.optimizers.Adam(1e-4),\n",
        "              metrics=['accuracy'])"
      ],
      "metadata": {
        "id": "SB_Y6bU2XgAt"
      },
      "execution_count": null,
      "outputs": []
    },
    {
      "cell_type": "code",
      "source": [
        "history = model.fit(batched_train, epochs=10)"
      ],
      "metadata": {
        "id": "y8_HR6epXMge"
      },
      "execution_count": null,
      "outputs": []
    },
    {
      "cell_type": "code",
      "source": [
        "import numpy as np\n",
        "sample_text = ('fuck niggas')\n",
        "\n",
        "pred = model.predict(np.array([sample_text]))\n",
        "pred"
      ],
      "metadata": {
        "colab": {
          "base_uri": "https://localhost:8080/"
        },
        "id": "I_1jnJBXtKxb",
        "outputId": "ab1224b5-65fd-43e4-b3af-8d980e1f0185"
      },
      "execution_count": null,
      "outputs": [
        {
          "output_type": "stream",
          "name": "stdout",
          "text": [
            "1/1 [==============================] - 0s 53ms/step\n"
          ]
        }
      ]
    },
    {
      "cell_type": "code",
      "source": [
        "test_loss, test_acc = model.evaluate(batched_test)"
      ],
      "metadata": {
        "colab": {
          "base_uri": "https://localhost:8080/"
        },
        "id": "v0koFMfE8_iT",
        "outputId": "6633129f-5e4e-429e-9310-a7a5c3f23c11"
      },
      "execution_count": null,
      "outputs": [
        {
          "output_type": "stream",
          "name": "stdout",
          "text": [
            "133/133 [==============================] - 3s 13ms/step - loss: 0.5723 - accuracy: 0.7992\n"
          ]
        }
      ]
    }
  ]
}