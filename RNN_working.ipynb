{
  "nbformat": 4,
  "nbformat_minor": 0,
  "metadata": {
    "colab": {
      "provenance": [],
      "authorship_tag": "ABX9TyN+BtHmgHoklgq1rRZkSK6O",
      "include_colab_link": true
    },
    "kernelspec": {
      "name": "python3",
      "display_name": "Python 3"
    },
    "language_info": {
      "name": "python"
    }
  },
  "cells": [
    {
      "cell_type": "markdown",
      "metadata": {
        "id": "view-in-github",
        "colab_type": "text"
      },
      "source": [
        "<a href=\"https://colab.research.google.com/github/rootdrew27/cyberbullying-ml/blob/main/RNN_working.ipynb\" target=\"_parent\"><img src=\"https://colab.research.google.com/assets/colab-badge.svg\" alt=\"Open In Colab\"/></a>"
      ]
    },
    {
      "cell_type": "code",
      "execution_count": null,
      "metadata": {
        "id": "B6q9LSWBJyU4",
        "colab": {
          "base_uri": "https://localhost:8080/",
          "height": 667
        },
        "outputId": "873dcf8d-cb32-4d5d-fbf2-b996ece64b86"
      },
      "outputs": [
        {
          "output_type": "execute_result",
          "data": {
            "text/plain": [
              "                                                                                                                                                                                                                                                                                    tweet_text  \\\n",
              "39441                                                                                                                                                                                              wow i dont care at what age you were a bully if u were a bully in primary school u evil man   \n",
              "37690                                                                                                                                                                                   Seeing skinny popular girls who bullied me in High School listening to Lizzo, like NO THIS ISN’T FOR U   \n",
              "30339                                                                                                                                                        @KonyChimel You would figure at some point the smark audience would realize that each week JBL is going to call them idiot babies   \n",
              "19223           If you are a Muslim in Gujju-Land ( AKA: Modi Land) you stand no chance of any treatment under current BJP regime! I can write a book of the Psyche of these extremists who are out to destroy India’s secular foundation. Even SC now has half idiots RSS types. Not kidding!   \n",
              "14740  How because he used the word rape and didn’t want to cry every second how about we don’t joke about death or having 1 leg or being gay or religious because or atheist or ginger or too pale or too black or looking weird or how much you wear make up or poverty or hungry people 1/2   \n",
              "...                                                                                                                                                                                                                                                                                        ...   \n",
              "4324                                                                                                                                                                                                                                                                          bully é o kralho   \n",
              "19062                                                  Vatan pr mitne ka koi gam nhi lekin pakistan sponsored terrorism ko khtm kr denge. As Donald trump said we will demolish redical islamic terrorism. Why dont u tell about those 2 pakistani terrorist killed Including Lashkr Commender   \n",
              "31949                                                                                     In 4th grade I always got bullied by this one girl all the time cuz I wore a high bun, like would call me names, push me in the street, etc It’s crazy cuz I saw her again in HS, wearing high buns.   \n",
              "16962                                                  @BigOleFiggletin I can remember when My Muslim brother 'Khabib' embarrassed mcgregor in front of thousands of people, what is your achievement, who are you, I know you are a liar and a loser with pathetic mentality and a fat idiot.   \n",
              "10372                                                                                                                                             RT @AnnieKNK: Stay strong Missionary Man. Don't let these feminazi fascists tell you where you can and cant piss @dontdoxmebro_ @Ishfery @A…   \n",
              "\n",
              "        cyberbullying_type  \n",
              "39441                  age  \n",
              "37690                  age  \n",
              "30339  other_cyberbullying  \n",
              "19223             religion  \n",
              "14740               gender  \n",
              "...                    ...  \n",
              "4324     not_cyberbullying  \n",
              "19062             religion  \n",
              "31949                  age  \n",
              "16962             religion  \n",
              "10372               gender  \n",
              "\n",
              "[200 rows x 2 columns]"
            ],
            "text/html": [
              "\n",
              "  <div id=\"df-14eca61f-d42a-4b86-80c1-97d8edd21d1e\" class=\"colab-df-container\">\n",
              "    <div>\n",
              "<style scoped>\n",
              "    .dataframe tbody tr th:only-of-type {\n",
              "        vertical-align: middle;\n",
              "    }\n",
              "\n",
              "    .dataframe tbody tr th {\n",
              "        vertical-align: top;\n",
              "    }\n",
              "\n",
              "    .dataframe thead th {\n",
              "        text-align: right;\n",
              "    }\n",
              "</style>\n",
              "<table border=\"1\" class=\"dataframe\">\n",
              "  <thead>\n",
              "    <tr style=\"text-align: right;\">\n",
              "      <th></th>\n",
              "      <th>tweet_text</th>\n",
              "      <th>cyberbullying_type</th>\n",
              "    </tr>\n",
              "  </thead>\n",
              "  <tbody>\n",
              "    <tr>\n",
              "      <th>39441</th>\n",
              "      <td>wow i dont care at what age you were a bully if u were a bully in primary school u evil man</td>\n",
              "      <td>age</td>\n",
              "    </tr>\n",
              "    <tr>\n",
              "      <th>37690</th>\n",
              "      <td>Seeing skinny popular girls who bullied me in High School listening to Lizzo, like NO THIS ISN’T FOR U</td>\n",
              "      <td>age</td>\n",
              "    </tr>\n",
              "    <tr>\n",
              "      <th>30339</th>\n",
              "      <td>@KonyChimel You would figure at some point the smark audience would realize that each week JBL is going to call them idiot babies</td>\n",
              "      <td>other_cyberbullying</td>\n",
              "    </tr>\n",
              "    <tr>\n",
              "      <th>19223</th>\n",
              "      <td>If you are a Muslim in Gujju-Land ( AKA: Modi Land) you stand no chance of any treatment under current BJP regime! I can write a book of the Psyche of these extremists who are out to destroy India’s secular foundation. Even SC now has half idiots RSS types. Not kidding!</td>\n",
              "      <td>religion</td>\n",
              "    </tr>\n",
              "    <tr>\n",
              "      <th>14740</th>\n",
              "      <td>How because he used the word rape and didn’t want to cry every second how about we don’t joke about death or having 1 leg or being gay or religious because or atheist or ginger or too pale or too black or looking weird or how much you wear make up or poverty or hungry people 1/2</td>\n",
              "      <td>gender</td>\n",
              "    </tr>\n",
              "    <tr>\n",
              "      <th>...</th>\n",
              "      <td>...</td>\n",
              "      <td>...</td>\n",
              "    </tr>\n",
              "    <tr>\n",
              "      <th>4324</th>\n",
              "      <td>bully é o kralho</td>\n",
              "      <td>not_cyberbullying</td>\n",
              "    </tr>\n",
              "    <tr>\n",
              "      <th>19062</th>\n",
              "      <td>Vatan pr mitne ka koi gam nhi lekin pakistan sponsored terrorism ko khtm kr denge. As Donald trump said we will demolish redical islamic terrorism. Why dont u tell about those 2 pakistani terrorist killed Including Lashkr Commender</td>\n",
              "      <td>religion</td>\n",
              "    </tr>\n",
              "    <tr>\n",
              "      <th>31949</th>\n",
              "      <td>In 4th grade I always got bullied by this one girl all the time cuz I wore a high bun, like would call me names, push me in the street, etc It’s crazy cuz I saw her again in HS, wearing high buns.</td>\n",
              "      <td>age</td>\n",
              "    </tr>\n",
              "    <tr>\n",
              "      <th>16962</th>\n",
              "      <td>@BigOleFiggletin I can remember when My Muslim brother 'Khabib' embarrassed mcgregor in front of thousands of people, what is your achievement, who are you, I know you are a liar and a loser with pathetic mentality and a fat idiot.</td>\n",
              "      <td>religion</td>\n",
              "    </tr>\n",
              "    <tr>\n",
              "      <th>10372</th>\n",
              "      <td>RT @AnnieKNK: Stay strong Missionary Man. Don't let these feminazi fascists tell you where you can and cant piss @dontdoxmebro_ @Ishfery @A…</td>\n",
              "      <td>gender</td>\n",
              "    </tr>\n",
              "  </tbody>\n",
              "</table>\n",
              "<p>200 rows × 2 columns</p>\n",
              "</div>\n",
              "    <div class=\"colab-df-buttons\">\n",
              "\n",
              "  <div class=\"colab-df-container\">\n",
              "    <button class=\"colab-df-convert\" onclick=\"convertToInteractive('df-14eca61f-d42a-4b86-80c1-97d8edd21d1e')\"\n",
              "            title=\"Convert this dataframe to an interactive table.\"\n",
              "            style=\"display:none;\">\n",
              "\n",
              "  <svg xmlns=\"http://www.w3.org/2000/svg\" height=\"24px\" viewBox=\"0 -960 960 960\">\n",
              "    <path d=\"M120-120v-720h720v720H120Zm60-500h600v-160H180v160Zm220 220h160v-160H400v160Zm0 220h160v-160H400v160ZM180-400h160v-160H180v160Zm440 0h160v-160H620v160ZM180-180h160v-160H180v160Zm440 0h160v-160H620v160Z\"/>\n",
              "  </svg>\n",
              "    </button>\n",
              "\n",
              "  <style>\n",
              "    .colab-df-container {\n",
              "      display:flex;\n",
              "      gap: 12px;\n",
              "    }\n",
              "\n",
              "    .colab-df-convert {\n",
              "      background-color: #E8F0FE;\n",
              "      border: none;\n",
              "      border-radius: 50%;\n",
              "      cursor: pointer;\n",
              "      display: none;\n",
              "      fill: #1967D2;\n",
              "      height: 32px;\n",
              "      padding: 0 0 0 0;\n",
              "      width: 32px;\n",
              "    }\n",
              "\n",
              "    .colab-df-convert:hover {\n",
              "      background-color: #E2EBFA;\n",
              "      box-shadow: 0px 1px 2px rgba(60, 64, 67, 0.3), 0px 1px 3px 1px rgba(60, 64, 67, 0.15);\n",
              "      fill: #174EA6;\n",
              "    }\n",
              "\n",
              "    .colab-df-buttons div {\n",
              "      margin-bottom: 4px;\n",
              "    }\n",
              "\n",
              "    [theme=dark] .colab-df-convert {\n",
              "      background-color: #3B4455;\n",
              "      fill: #D2E3FC;\n",
              "    }\n",
              "\n",
              "    [theme=dark] .colab-df-convert:hover {\n",
              "      background-color: #434B5C;\n",
              "      box-shadow: 0px 1px 3px 1px rgba(0, 0, 0, 0.15);\n",
              "      filter: drop-shadow(0px 1px 2px rgba(0, 0, 0, 0.3));\n",
              "      fill: #FFFFFF;\n",
              "    }\n",
              "  </style>\n",
              "\n",
              "    <script>\n",
              "      const buttonEl =\n",
              "        document.querySelector('#df-14eca61f-d42a-4b86-80c1-97d8edd21d1e button.colab-df-convert');\n",
              "      buttonEl.style.display =\n",
              "        google.colab.kernel.accessAllowed ? 'block' : 'none';\n",
              "\n",
              "      async function convertToInteractive(key) {\n",
              "        const element = document.querySelector('#df-14eca61f-d42a-4b86-80c1-97d8edd21d1e');\n",
              "        const dataTable =\n",
              "          await google.colab.kernel.invokeFunction('convertToInteractive',\n",
              "                                                    [key], {});\n",
              "        if (!dataTable) return;\n",
              "\n",
              "        const docLinkHtml = 'Like what you see? Visit the ' +\n",
              "          '<a target=\"_blank\" href=https://colab.research.google.com/notebooks/data_table.ipynb>data table notebook</a>'\n",
              "          + ' to learn more about interactive tables.';\n",
              "        element.innerHTML = '';\n",
              "        dataTable['output_type'] = 'display_data';\n",
              "        await google.colab.output.renderOutput(dataTable, element);\n",
              "        const docLink = document.createElement('div');\n",
              "        docLink.innerHTML = docLinkHtml;\n",
              "        element.appendChild(docLink);\n",
              "      }\n",
              "    </script>\n",
              "  </div>\n",
              "\n",
              "\n",
              "<div id=\"df-40dc5673-6780-4b55-8340-a2e531ac1d3d\">\n",
              "  <button class=\"colab-df-quickchart\" onclick=\"quickchart('df-40dc5673-6780-4b55-8340-a2e531ac1d3d')\"\n",
              "            title=\"Suggest charts\"\n",
              "            style=\"display:none;\">\n",
              "\n",
              "<svg xmlns=\"http://www.w3.org/2000/svg\" height=\"24px\"viewBox=\"0 0 24 24\"\n",
              "     width=\"24px\">\n",
              "    <g>\n",
              "        <path d=\"M19 3H5c-1.1 0-2 .9-2 2v14c0 1.1.9 2 2 2h14c1.1 0 2-.9 2-2V5c0-1.1-.9-2-2-2zM9 17H7v-7h2v7zm4 0h-2V7h2v10zm4 0h-2v-4h2v4z\"/>\n",
              "    </g>\n",
              "</svg>\n",
              "  </button>\n",
              "\n",
              "<style>\n",
              "  .colab-df-quickchart {\n",
              "      --bg-color: #E8F0FE;\n",
              "      --fill-color: #1967D2;\n",
              "      --hover-bg-color: #E2EBFA;\n",
              "      --hover-fill-color: #174EA6;\n",
              "      --disabled-fill-color: #AAA;\n",
              "      --disabled-bg-color: #DDD;\n",
              "  }\n",
              "\n",
              "  [theme=dark] .colab-df-quickchart {\n",
              "      --bg-color: #3B4455;\n",
              "      --fill-color: #D2E3FC;\n",
              "      --hover-bg-color: #434B5C;\n",
              "      --hover-fill-color: #FFFFFF;\n",
              "      --disabled-bg-color: #3B4455;\n",
              "      --disabled-fill-color: #666;\n",
              "  }\n",
              "\n",
              "  .colab-df-quickchart {\n",
              "    background-color: var(--bg-color);\n",
              "    border: none;\n",
              "    border-radius: 50%;\n",
              "    cursor: pointer;\n",
              "    display: none;\n",
              "    fill: var(--fill-color);\n",
              "    height: 32px;\n",
              "    padding: 0;\n",
              "    width: 32px;\n",
              "  }\n",
              "\n",
              "  .colab-df-quickchart:hover {\n",
              "    background-color: var(--hover-bg-color);\n",
              "    box-shadow: 0 1px 2px rgba(60, 64, 67, 0.3), 0 1px 3px 1px rgba(60, 64, 67, 0.15);\n",
              "    fill: var(--button-hover-fill-color);\n",
              "  }\n",
              "\n",
              "  .colab-df-quickchart-complete:disabled,\n",
              "  .colab-df-quickchart-complete:disabled:hover {\n",
              "    background-color: var(--disabled-bg-color);\n",
              "    fill: var(--disabled-fill-color);\n",
              "    box-shadow: none;\n",
              "  }\n",
              "\n",
              "  .colab-df-spinner {\n",
              "    border: 2px solid var(--fill-color);\n",
              "    border-color: transparent;\n",
              "    border-bottom-color: var(--fill-color);\n",
              "    animation:\n",
              "      spin 1s steps(1) infinite;\n",
              "  }\n",
              "\n",
              "  @keyframes spin {\n",
              "    0% {\n",
              "      border-color: transparent;\n",
              "      border-bottom-color: var(--fill-color);\n",
              "      border-left-color: var(--fill-color);\n",
              "    }\n",
              "    20% {\n",
              "      border-color: transparent;\n",
              "      border-left-color: var(--fill-color);\n",
              "      border-top-color: var(--fill-color);\n",
              "    }\n",
              "    30% {\n",
              "      border-color: transparent;\n",
              "      border-left-color: var(--fill-color);\n",
              "      border-top-color: var(--fill-color);\n",
              "      border-right-color: var(--fill-color);\n",
              "    }\n",
              "    40% {\n",
              "      border-color: transparent;\n",
              "      border-right-color: var(--fill-color);\n",
              "      border-top-color: var(--fill-color);\n",
              "    }\n",
              "    60% {\n",
              "      border-color: transparent;\n",
              "      border-right-color: var(--fill-color);\n",
              "    }\n",
              "    80% {\n",
              "      border-color: transparent;\n",
              "      border-right-color: var(--fill-color);\n",
              "      border-bottom-color: var(--fill-color);\n",
              "    }\n",
              "    90% {\n",
              "      border-color: transparent;\n",
              "      border-bottom-color: var(--fill-color);\n",
              "    }\n",
              "  }\n",
              "</style>\n",
              "\n",
              "  <script>\n",
              "    async function quickchart(key) {\n",
              "      const quickchartButtonEl =\n",
              "        document.querySelector('#' + key + ' button');\n",
              "      quickchartButtonEl.disabled = true;  // To prevent multiple clicks.\n",
              "      quickchartButtonEl.classList.add('colab-df-spinner');\n",
              "      try {\n",
              "        const charts = await google.colab.kernel.invokeFunction(\n",
              "            'suggestCharts', [key], {});\n",
              "      } catch (error) {\n",
              "        console.error('Error during call to suggestCharts:', error);\n",
              "      }\n",
              "      quickchartButtonEl.classList.remove('colab-df-spinner');\n",
              "      quickchartButtonEl.classList.add('colab-df-quickchart-complete');\n",
              "    }\n",
              "    (() => {\n",
              "      let quickchartButtonEl =\n",
              "        document.querySelector('#df-40dc5673-6780-4b55-8340-a2e531ac1d3d button');\n",
              "      quickchartButtonEl.style.display =\n",
              "        google.colab.kernel.accessAllowed ? 'block' : 'none';\n",
              "    })();\n",
              "  </script>\n",
              "</div>\n",
              "\n",
              "    </div>\n",
              "  </div>\n"
            ],
            "application/vnd.google.colaboratory.intrinsic+json": {
              "type": "dataframe",
              "summary": "{\n  \"name\": \"df\",\n  \"rows\": 200,\n  \"fields\": [\n    {\n      \"column\": \"tweet_text\",\n      \"properties\": {\n        \"dtype\": \"string\",\n        \"num_unique_values\": 200,\n        \"samples\": [\n          \"Hoagie sandwich eatin hoes \\u00ab@bunannie Idk which one you are in your avi but either way you're ugly RT @tayyoung_: FUCK OBAMA dumb ass nigger\",\n          \"wait the girl that bullied me in high school has a boyfriend and i don\\u2019t... it\\u2019s a cruel world people !!!!\",\n          \"@Abdi_RahmanCALI @TvvitterGod fckin dumb ass nigger name. Fuck you doin wit yo life? How u contributing beside bein on welfare takin our tax\"\n        ],\n        \"semantic_type\": \"\",\n        \"description\": \"\"\n      }\n    },\n    {\n      \"column\": \"cyberbullying_type\",\n      \"properties\": {\n        \"dtype\": \"category\",\n        \"num_unique_values\": 6,\n        \"samples\": [\n          \"age\",\n          \"other_cyberbullying\",\n          \"ethnicity\"\n        ],\n        \"semantic_type\": \"\",\n        \"description\": \"\"\n      }\n    }\n  ]\n}"
            }
          },
          "metadata": {},
          "execution_count": 2
        }
      ],
      "source": [
        "import pandas as pd\n",
        "import numpy as np\n",
        "\n",
        "df = pd.read_csv('./cyberbullying_tweets (1).csv', header=0)\n",
        "pd.set_option('display.max_colwidth', None)\n",
        "df.sample(200, random_state=20)"
      ]
    },
    {
      "cell_type": "code",
      "source": [
        "new_df = df.sample(10)\n",
        "new_df.to_csv(\"./sample_df\")"
      ],
      "metadata": {
        "id": "dSwhL5dHXbuY"
      },
      "execution_count": null,
      "outputs": []
    },
    {
      "cell_type": "code",
      "source": [
        "class_labels = {\n",
        "    'not_cyberbullying':0,\n",
        "    'religion':1,\n",
        "    'age':2,\n",
        "    'gender':3,\n",
        "    'ethnicity':4,\n",
        "    'other_cyberbullying':5\n",
        "}\n",
        "df['cyberbullying_type'] = df['cyberbullying_type'].replace(class_labels).astype(int)\n",
        "len(class_labels)"
      ],
      "metadata": {
        "colab": {
          "base_uri": "https://localhost:8080/"
        },
        "id": "azlqtuZ8J4Cz",
        "outputId": "39ff07f0-8904-4eb0-ee84-20c096d0f638"
      },
      "execution_count": null,
      "outputs": [
        {
          "output_type": "execute_result",
          "data": {
            "text/plain": [
              "6"
            ]
          },
          "metadata": {},
          "execution_count": 3
        }
      ]
    },
    {
      "cell_type": "markdown",
      "source": [
        "# Preprocessing"
      ],
      "metadata": {
        "id": "kYOOA0f5Afes"
      }
    },
    {
      "cell_type": "code",
      "source": [
        "import nltk.corpus\n",
        "nltk.download('stopwords') #ignore the error thrown by this line\n",
        "from nltk.corpus import stopwords\n",
        "\n",
        "stopWords = stopwords.words('english')\n",
        "\n",
        "customStopWords = ['rt']\n",
        "\n",
        "stopWords = stopWords + customStopWords\n",
        "print(stopWords)"
      ],
      "metadata": {
        "id": "5Lh_g2psJ5h5",
        "colab": {
          "base_uri": "https://localhost:8080/"
        },
        "outputId": "5bfcac54-8cee-434a-c531-46853593d810"
      },
      "execution_count": null,
      "outputs": [
        {
          "output_type": "stream",
          "name": "stdout",
          "text": [
            "['i', 'me', 'my', 'myself', 'we', 'our', 'ours', 'ourselves', 'you', \"you're\", \"you've\", \"you'll\", \"you'd\", 'your', 'yours', 'yourself', 'yourselves', 'he', 'him', 'his', 'himself', 'she', \"she's\", 'her', 'hers', 'herself', 'it', \"it's\", 'its', 'itself', 'they', 'them', 'their', 'theirs', 'themselves', 'what', 'which', 'who', 'whom', 'this', 'that', \"that'll\", 'these', 'those', 'am', 'is', 'are', 'was', 'were', 'be', 'been', 'being', 'have', 'has', 'had', 'having', 'do', 'does', 'did', 'doing', 'a', 'an', 'the', 'and', 'but', 'if', 'or', 'because', 'as', 'until', 'while', 'of', 'at', 'by', 'for', 'with', 'about', 'against', 'between', 'into', 'through', 'during', 'before', 'after', 'above', 'below', 'to', 'from', 'up', 'down', 'in', 'out', 'on', 'off', 'over', 'under', 'again', 'further', 'then', 'once', 'here', 'there', 'when', 'where', 'why', 'how', 'all', 'any', 'both', 'each', 'few', 'more', 'most', 'other', 'some', 'such', 'no', 'nor', 'not', 'only', 'own', 'same', 'so', 'than', 'too', 'very', 's', 't', 'can', 'will', 'just', 'don', \"don't\", 'should', \"should've\", 'now', 'd', 'll', 'm', 'o', 're', 've', 'y', 'ain', 'aren', \"aren't\", 'couldn', \"couldn't\", 'didn', \"didn't\", 'doesn', \"doesn't\", 'hadn', \"hadn't\", 'hasn', \"hasn't\", 'haven', \"haven't\", 'isn', \"isn't\", 'ma', 'mightn', \"mightn't\", 'mustn', \"mustn't\", 'needn', \"needn't\", 'shan', \"shan't\", 'shouldn', \"shouldn't\", 'wasn', \"wasn't\", 'weren', \"weren't\", 'won', \"won't\", 'wouldn', \"wouldn't\"]\n"
          ]
        },
        {
          "output_type": "stream",
          "name": "stderr",
          "text": [
            "[nltk_data] Downloading package stopwords to /root/nltk_data...\n",
            "[nltk_data]   Unzipping corpora/stopwords.zip.\n"
          ]
        }
      ]
    },
    {
      "cell_type": "code",
      "source": [
        "import re\n",
        "# from langdetect import detect, DetectorFactory\n",
        "\n",
        "def to_lowercase(text):\n",
        "    return text.lower()\n",
        "\n",
        "def remove_stop_words(text):\n",
        "    return \" \".join([word for word in text.split() if word not in stopWords]) #stopWords is defined in\n",
        "\n",
        "def remove_specialchars(text):\n",
        "    text.encode(encoding='ascii', errors='replace') #convert all text to ascii encoding\n",
        "    cleaned_text = re.sub(r\"[#@]\\S*|http[s]?\\://\\S+|(\\(.*\\))|(\\[.*\\])|[0-9]|[^\\x00-\\x7F]+\", \" \", text)\n",
        "    cleaned_text = re.sub(r\"[!$%^&*+=\\-_()[\\]\\\\|;:`~'\\\",./?<>]\", \"\", cleaned_text)\n",
        "    cleaned_text = \" \".join([x for x in cleaned_text.split(' ') if len(x) > 1])\n",
        "\n",
        "    return re.sub(r\"\\s+\", \" \", cleaned_text)"
      ],
      "metadata": {
        "id": "dvoY6hotJ8Vj"
      },
      "execution_count": null,
      "outputs": []
    },
    {
      "cell_type": "code",
      "source": [
        "df['tweet_text'] = df['tweet_text'].apply(to_lowercase)\n",
        "df['tweet_text'] = df['tweet_text'].apply(remove_stop_words)\n",
        "df['tweet_text'] = df['tweet_text'].apply(remove_specialchars)\n",
        "#df['tweet_text'] = df['tweet_text'].apply(remove_non_english)\n",
        "\n",
        "#remove data that has become null from cleaning\n",
        "df = df.loc[df.tweet_text != \" \"]\n",
        "df = df.loc[df.tweet_text != \"\"]\n",
        "\n",
        "\n",
        "df.head(200)"
      ],
      "metadata": {
        "id": "UQ-n1kTnJ-rf"
      },
      "execution_count": null,
      "outputs": []
    },
    {
      "cell_type": "code",
      "source": [
        "#load in cleaned data\n",
        "import pandas as pd\n",
        "df = pd.read_csv(\"./cleaned_cyberbullying_tweet.csv\", header=0)\n"
      ],
      "metadata": {
        "id": "wVSoIxhmfyWf"
      },
      "execution_count": null,
      "outputs": []
    },
    {
      "cell_type": "code",
      "source": [
        "class_labels = {\n",
        "    'not_cyberbullying':0,\n",
        "    'religion':1,\n",
        "    'age':2,\n",
        "    'gender':3,\n",
        "    'ethnicity':4,\n",
        "    'other_cyberbullying':5\n",
        "}\n",
        "df['cyberbullying_type'] = df['cyberbullying_type'].replace(class_labels).astype(int)\n",
        "len(class_labels)"
      ],
      "metadata": {
        "colab": {
          "base_uri": "https://localhost:8080/"
        },
        "id": "XOWJj61sxQjY",
        "outputId": "43ce6cfb-ce84-43ee-bfb5-173e379c9287"
      },
      "execution_count": null,
      "outputs": [
        {
          "output_type": "execute_result",
          "data": {
            "text/plain": [
              "6"
            ]
          },
          "metadata": {},
          "execution_count": 6
        }
      ]
    },
    {
      "cell_type": "code",
      "source": [
        "\n",
        "import tensorflow as tf\n",
        "target_labels = tf.keras.utils.to_categorical(df['cyberbullying_type'], 6, 'int')"
      ],
      "metadata": {
        "id": "RhcRAl5a1jzY"
      },
      "execution_count": null,
      "outputs": []
    },
    {
      "cell_type": "code",
      "source": [
        "from sklearn.model_selection import train_test_split\n",
        "\n",
        "#Split 1\n",
        "x_Train_1, x_Test_1, y_Train_1, y_Test_1 = train_test_split(\n",
        "    df.tweet_text,\n",
        "    target_labels,\n",
        "    test_size=.2,\n",
        "    random_state=100,\n",
        "    shuffle=True\n",
        ")\n"
      ],
      "metadata": {
        "id": "7qdxrx9-KOco"
      },
      "execution_count": null,
      "outputs": []
    },
    {
      "cell_type": "code",
      "source": [
        "import tensorflow as tf\n",
        "import keras\n",
        "from keras import layers"
      ],
      "metadata": {
        "id": "T8oxLfRrKV2X"
      },
      "execution_count": null,
      "outputs": []
    },
    {
      "cell_type": "code",
      "source": [
        "tfds_train = tf.data.Dataset.from_tensor_slices((x_Train_1, y_Train_1))\n",
        "tfds_test = tf.data.Dataset.from_tensor_slices((x_Test_1, y_Test_1))"
      ],
      "metadata": {
        "id": "aSlVHrLliMQp"
      },
      "execution_count": null,
      "outputs": []
    },
    {
      "cell_type": "code",
      "source": [
        "len(tfds_train)"
      ],
      "metadata": {
        "colab": {
          "base_uri": "https://localhost:8080/"
        },
        "id": "oMo1Own1uB7P",
        "outputId": "6a75906c-87a7-4e59-a74a-59b9da934f8e"
      },
      "execution_count": null,
      "outputs": [
        {
          "output_type": "execute_result",
          "data": {
            "text/plain": [
              "34030"
            ]
          },
          "metadata": {},
          "execution_count": 30
        }
      ]
    },
    {
      "cell_type": "code",
      "source": [
        "BATCH_SIZE = 64\n",
        "\n",
        "batched_train = tfds_train.batch(BATCH_SIZE).prefetch(tf.data.AUTOTUNE)\n",
        "batched_test = tfds_test.batch(BATCH_SIZE).prefetch(tf.data.AUTOTUNE)"
      ],
      "metadata": {
        "id": "96F3kKABk8wX"
      },
      "execution_count": null,
      "outputs": []
    },
    {
      "cell_type": "code",
      "source": [
        "import re"
      ],
      "metadata": {
        "id": "dlU09lQLAHNj"
      },
      "execution_count": null,
      "outputs": []
    },
    {
      "cell_type": "code",
      "source": [
        "VOCAB_SIZE = 35000\n",
        "encoder = layers.TextVectorization(max_tokens=VOCAB_SIZE)\n",
        "encoder.adapt(batched_train.map(lambda text, label: text))\n",
        "n_vocab = [word for word in encoder.get_vocabulary() if re.match('nig[ae]', word) != None]"
      ],
      "metadata": {
        "id": "6M8Y3AMyMscq",
        "colab": {
          "base_uri": "https://localhost:8080/",
          "height": 193
        },
        "outputId": "42034d2f-b9bd-488d-9f38-498bce61c605"
      },
      "execution_count": null,
      "outputs": [
        {
          "output_type": "error",
          "ename": "NameError",
          "evalue": "name 'layers' is not defined",
          "traceback": [
            "\u001b[0;31m---------------------------------------------------------------------------\u001b[0m",
            "\u001b[0;31mNameError\u001b[0m                                 Traceback (most recent call last)",
            "\u001b[0;32m<ipython-input-8-0d12ed69e9e0>\u001b[0m in \u001b[0;36m<cell line: 2>\u001b[0;34m()\u001b[0m\n\u001b[1;32m      1\u001b[0m \u001b[0mVOCAB_SIZE\u001b[0m \u001b[0;34m=\u001b[0m \u001b[0;36m35000\u001b[0m\u001b[0;34m\u001b[0m\u001b[0;34m\u001b[0m\u001b[0m\n\u001b[0;32m----> 2\u001b[0;31m \u001b[0mencoder\u001b[0m \u001b[0;34m=\u001b[0m \u001b[0mlayers\u001b[0m\u001b[0;34m.\u001b[0m\u001b[0mTextVectorization\u001b[0m\u001b[0;34m(\u001b[0m\u001b[0mmax_tokens\u001b[0m\u001b[0;34m=\u001b[0m\u001b[0mVOCAB_SIZE\u001b[0m\u001b[0;34m)\u001b[0m\u001b[0;34m\u001b[0m\u001b[0;34m\u001b[0m\u001b[0m\n\u001b[0m\u001b[1;32m      3\u001b[0m \u001b[0mencoder\u001b[0m\u001b[0;34m.\u001b[0m\u001b[0madapt\u001b[0m\u001b[0;34m(\u001b[0m\u001b[0mbatched_train\u001b[0m\u001b[0;34m.\u001b[0m\u001b[0mmap\u001b[0m\u001b[0;34m(\u001b[0m\u001b[0;32mlambda\u001b[0m \u001b[0mtext\u001b[0m\u001b[0;34m,\u001b[0m \u001b[0mlabel\u001b[0m\u001b[0;34m:\u001b[0m \u001b[0mtext\u001b[0m\u001b[0;34m)\u001b[0m\u001b[0;34m)\u001b[0m\u001b[0;34m\u001b[0m\u001b[0;34m\u001b[0m\u001b[0m\n\u001b[1;32m      4\u001b[0m \u001b[0mn_vocab\u001b[0m \u001b[0;34m=\u001b[0m \u001b[0;34m[\u001b[0m\u001b[0mword\u001b[0m \u001b[0;32mfor\u001b[0m \u001b[0mword\u001b[0m \u001b[0;32min\u001b[0m \u001b[0mencoder\u001b[0m\u001b[0;34m.\u001b[0m\u001b[0mget_vocabulary\u001b[0m\u001b[0;34m(\u001b[0m\u001b[0;34m)\u001b[0m \u001b[0;32mif\u001b[0m \u001b[0mre\u001b[0m\u001b[0;34m.\u001b[0m\u001b[0mmatch\u001b[0m\u001b[0;34m(\u001b[0m\u001b[0;34m'li'\u001b[0m\u001b[0;34m,\u001b[0m \u001b[0mword\u001b[0m\u001b[0;34m)\u001b[0m \u001b[0;34m!=\u001b[0m \u001b[0;32mNone\u001b[0m\u001b[0;34m]\u001b[0m\u001b[0;34m\u001b[0m\u001b[0;34m\u001b[0m\u001b[0m\n",
            "\u001b[0;31mNameError\u001b[0m: name 'layers' is not defined"
          ]
        }
      ]
    },
    {
      "cell_type": "code",
      "source": [
        "print(n_vocab)"
      ],
      "metadata": {
        "colab": {
          "base_uri": "https://localhost:8080/"
        },
        "id": "Oe7-lIax_0RN",
        "outputId": "efebc94b-7100-4d13-b7bc-bf9339aa8fd7"
      },
      "execution_count": null,
      "outputs": [
        {
          "output_type": "stream",
          "name": "stdout",
          "text": [
            "['niger', 'nigeria', 'nigerian', 'nigel', 'nigerplease', 'nigeriaothers', 'nigeriadumb', 'nigerdelta', 'nigaz']\n"
          ]
        }
      ]
    },
    {
      "cell_type": "code",
      "source": [
        "embedder = layers.Embedding(input_dim=VOCAB_SIZE, output_dim=64, mask_zero=True)"
      ],
      "metadata": {
        "id": "iUAR071fjvSG"
      },
      "execution_count": null,
      "outputs": []
    },
    {
      "cell_type": "code",
      "source": [
        "from keras.layers import SimpleRNN, Dense, Input, InputLayer\n",
        "from keras.models import Sequential\n",
        "\n",
        "rnn_layer = layers.LSTM(64)\n",
        "\n",
        "#SimpleRNN(units=6, activation='tanh')\n",
        "\n",
        "model = Sequential()\n",
        "model.add(encoder)\n",
        "model.add(embedder)\n",
        "model.add(rnn_layer)\n",
        "model.add(Dense(64))\n",
        "model.add(Dense(6, activation='softmax'))"
      ],
      "metadata": {
        "id": "p2rYf3XqKcHI"
      },
      "execution_count": null,
      "outputs": []
    },
    {
      "cell_type": "code",
      "source": [
        "model.output_shape"
      ],
      "metadata": {
        "colab": {
          "base_uri": "https://localhost:8080/"
        },
        "id": "kQDa-s6qzOuT",
        "outputId": "2c44562d-8c63-48ac-b48d-459d577c9b81"
      },
      "execution_count": null,
      "outputs": [
        {
          "output_type": "execute_result",
          "data": {
            "text/plain": [
              "(None, 6)"
            ]
          },
          "metadata": {},
          "execution_count": 90
        }
      ]
    },
    {
      "cell_type": "code",
      "source": [
        "model.compile(loss=tf.keras.losses.CategoricalCrossentropy(),\n",
        "              optimizer=tf.keras.optimizers.Adam(1e-4),\n",
        "              metrics=['accuracy'])"
      ],
      "metadata": {
        "id": "SB_Y6bU2XgAt"
      },
      "execution_count": null,
      "outputs": []
    },
    {
      "cell_type": "code",
      "source": [
        "history = model.fit(batched_train, epochs=10)"
      ],
      "metadata": {
        "colab": {
          "base_uri": "https://localhost:8080/"
        },
        "id": "y8_HR6epXMge",
        "outputId": "1ffb6e82-9edc-427b-8267-f69ac34cb798"
      },
      "execution_count": null,
      "outputs": [
        {
          "output_type": "stream",
          "name": "stdout",
          "text": [
            "Epoch 1/10\n",
            "532/532 [==============================] - 48s 82ms/step - loss: 1.3686 - accuracy: 0.4979\n",
            "Epoch 2/10\n",
            "532/532 [==============================] - 42s 79ms/step - loss: 0.7052 - accuracy: 0.7612\n",
            "Epoch 3/10\n",
            "532/532 [==============================] - 39s 73ms/step - loss: 0.5163 - accuracy: 0.7940\n",
            "Epoch 4/10\n",
            "532/532 [==============================] - 39s 74ms/step - loss: 0.4351 - accuracy: 0.8113\n",
            "Epoch 5/10\n",
            "532/532 [==============================] - 39s 73ms/step - loss: 0.3872 - accuracy: 0.8325\n",
            "Epoch 6/10\n",
            "532/532 [==============================] - 37s 70ms/step - loss: 0.3527 - accuracy: 0.8532\n",
            "Epoch 7/10\n",
            "532/532 [==============================] - 39s 73ms/step - loss: 0.3193 - accuracy: 0.8716\n",
            "Epoch 8/10\n",
            "532/532 [==============================] - 39s 73ms/step - loss: 0.2858 - accuracy: 0.8866\n",
            "Epoch 9/10\n",
            "532/532 [==============================] - 39s 73ms/step - loss: 0.2560 - accuracy: 0.8982\n",
            "Epoch 10/10\n",
            "532/532 [==============================] - 39s 73ms/step - loss: 0.2298 - accuracy: 0.9087\n"
          ]
        }
      ]
    },
    {
      "cell_type": "code",
      "source": [
        "import numpy as np\n",
        "sample_text = ('fuck niggas')\n",
        "\n",
        "pred = model.predict(np.array([sample_text]))"
      ],
      "metadata": {
        "colab": {
          "base_uri": "https://localhost:8080/"
        },
        "id": "I_1jnJBXtKxb",
        "outputId": "ab1224b5-65fd-43e4-b3af-8d980e1f0185"
      },
      "execution_count": null,
      "outputs": [
        {
          "output_type": "stream",
          "name": "stdout",
          "text": [
            "1/1 [==============================] - 0s 53ms/step\n"
          ]
        }
      ]
    },
    {
      "cell_type": "code",
      "source": [
        "pred"
      ],
      "metadata": {
        "colab": {
          "base_uri": "https://localhost:8080/"
        },
        "id": "LT_VV4frtlBV",
        "outputId": "511d2628-ce3b-42a4-e12d-6d1cf905b4e1"
      },
      "execution_count": null,
      "outputs": [
        {
          "output_type": "execute_result",
          "data": {
            "text/plain": [
              "array([[0.01299503, 0.08560225, 0.0083235 , 0.03824622, 0.736651  ,\n",
              "        0.118182  ]], dtype=float32)"
            ]
          },
          "metadata": {},
          "execution_count": 135
        }
      ]
    },
    {
      "cell_type": "code",
      "source": [
        "test_loss, test_acc = model.evaluate(batched_test)"
      ],
      "metadata": {
        "colab": {
          "base_uri": "https://localhost:8080/"
        },
        "id": "v0koFMfE8_iT",
        "outputId": "6633129f-5e4e-429e-9310-a7a5c3f23c11"
      },
      "execution_count": null,
      "outputs": [
        {
          "output_type": "stream",
          "name": "stdout",
          "text": [
            "133/133 [==============================] - 3s 13ms/step - loss: 0.5723 - accuracy: 0.7992\n"
          ]
        }
      ]
    }
  ]
}