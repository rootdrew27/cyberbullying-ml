{
  "nbformat": 4,
  "nbformat_minor": 0,
  "metadata": {
    "colab": {
      "provenance": [],
      "include_colab_link": true
    },
    "kernelspec": {
      "name": "python3",
      "display_name": "Python 3"
    },
    "language_info": {
      "name": "python"
    }
  },
  "cells": [
    {
      "cell_type": "markdown",
      "metadata": {
        "id": "view-in-github",
        "colab_type": "text"
      },
      "source": [
        "<a href=\"https://colab.research.google.com/github/rootdrew27/cyberbullying-ml/blob/main/Liams_XGBoost.ipynb\" target=\"_parent\"><img src=\"https://colab.research.google.com/assets/colab-badge.svg\" alt=\"Open In Colab\"/></a>"
      ]
    },
    {
      "cell_type": "code",
      "execution_count": 1,
      "metadata": {
        "id": "iNVzTPP_yKMs"
      },
      "outputs": [],
      "source": [
        "import pandas as pd\n",
        "import xgboost as xgb\n",
        "from sklearn.model_selection import train_test_split\n",
        "from sklearn.metrics import accuracy_score"
      ]
    },
    {
      "cell_type": "code",
      "source": [],
      "metadata": {
        "id": "RI3vCZt5G2Bj"
      },
      "execution_count": 1,
      "outputs": []
    },
    {
      "cell_type": "code",
      "source": [
        "# Load the dataset into a Pandas DataFrame\n",
        "\n",
        "data = pd.read_csv(\"./clean_data (1).csv\")\n"
      ],
      "metadata": {
        "id": "lkWDK7bv5MSf"
      },
      "execution_count": 8,
      "outputs": []
    },
    {
      "cell_type": "code",
      "source": [
        "class_labels = {\n",
        "    'not_cyberbullying': 0,\n",
        "    'religion': 1,\n",
        "    'age': 2,\n",
        "    'gender': 3,\n",
        "    'ethnicity': 4,\n",
        "    'other_cyberbullying': 5\n",
        "}\n",
        "\n",
        "data['cyberbullying_type'] = data['cyberbullying_type'].replace(class_labels).astype(int)"
      ],
      "metadata": {
        "id": "n1_k5FIeG5s9"
      },
      "execution_count": 9,
      "outputs": []
    },
    {
      "cell_type": "code",
      "source": [
        "print(data.columns)"
      ],
      "metadata": {
        "colab": {
          "base_uri": "https://localhost:8080/"
        },
        "id": "pfXxxK2M6m6S",
        "outputId": "a2026360-3f45-4b1c-c4f3-6228a62de233"
      },
      "execution_count": 10,
      "outputs": [
        {
          "output_type": "stream",
          "name": "stdout",
          "text": [
            "Index(['Unnamed: 0', 'tweet_text', 'cyberbullying_type'], dtype='object')\n"
          ]
        }
      ]
    },
    {
      "cell_type": "code",
      "source": [
        "# remove the extra index column\n",
        "data = data.drop(columns='Unnamed: 0')"
      ],
      "metadata": {
        "id": "IDmNQSYKQEoa"
      },
      "execution_count": 25,
      "outputs": []
    },
    {
      "cell_type": "code",
      "source": [
        "# Separate features and labels\n",
        "#X = data.drop('cyberbullying_type', axis=1)\n",
        "X = data.tweet_text\n",
        "y = data.cyberbullying_type"
      ],
      "metadata": {
        "id": "6q9-dtK-5PS_"
      },
      "execution_count": 35,
      "outputs": []
    },
    {
      "cell_type": "code",
      "source": [
        "# Split the dataset into training and testing sets\n",
        "X_train, X_test, y_train, y_test = train_test_split(X, y, test_size=0.2, random_state=42, shuffle=True)\n"
      ],
      "metadata": {
        "id": "zOe0kv2K5Rl5"
      },
      "execution_count": 36,
      "outputs": []
    },
    {
      "cell_type": "code",
      "source": [
        "print(y_train.isnull().sum())"
      ],
      "metadata": {
        "colab": {
          "base_uri": "https://localhost:8080/"
        },
        "id": "g9pmphbN9M-1",
        "outputId": "c744e0bf-eb72-40da-a2ca-0cd6272278ac"
      },
      "execution_count": 37,
      "outputs": [
        {
          "output_type": "stream",
          "name": "stdout",
          "text": [
            "0\n"
          ]
        }
      ]
    },
    {
      "cell_type": "code",
      "source": [
        "y_train"
      ],
      "metadata": {
        "colab": {
          "base_uri": "https://localhost:8080/"
        },
        "id": "K6vYmBleUVUS",
        "outputId": "147a40bd-6b9e-4aa6-b24d-53ef5d5d771f"
      },
      "execution_count": 44,
      "outputs": [
        {
          "output_type": "execute_result",
          "data": {
            "text/plain": [
              "6315     0\n",
              "4045     0\n",
              "15572    1\n",
              "6039     0\n",
              "21840    5\n",
              "        ..\n",
              "6265     0\n",
              "11284    3\n",
              "38158    4\n",
              "860      0\n",
              "15795    1\n",
              "Name: cyberbullying_type, Length: 34804, dtype: int64"
            ]
          },
          "metadata": {},
          "execution_count": 44
        }
      ]
    },
    {
      "cell_type": "markdown",
      "source": [
        "# Vectorization\n"
      ],
      "metadata": {
        "id": "2Tecz4tTTH1y"
      }
    },
    {
      "cell_type": "code",
      "source": [
        "from sklearn.feature_extraction.text import CountVectorizer\n",
        "\n",
        "cv = CountVectorizer()\n",
        "X = cv.fit_transform(X_train)\n",
        "X_test = cv.transform(X_test)"
      ],
      "metadata": {
        "id": "pxFul3xWTHA0"
      },
      "execution_count": 45,
      "outputs": []
    },
    {
      "cell_type": "code",
      "source": [
        "cv.get_feature_names_out()"
      ],
      "metadata": {
        "colab": {
          "base_uri": "https://localhost:8080/"
        },
        "id": "cGMTRs2lT5XB",
        "outputId": "a5e68348-e9cb-47f2-8a74-b68f83771844"
      },
      "execution_count": 40,
      "outputs": [
        {
          "output_type": "execute_result",
          "data": {
            "text/plain": [
              "array(['aa', 'aaa', 'aaaaaaaa', ..., 'zython', 'zz', 'zzz'], dtype=object)"
            ]
          },
          "metadata": {},
          "execution_count": 40
        }
      ]
    },
    {
      "cell_type": "code",
      "source": [
        "model = xgb.XGBClassifier(objective='multi:softmax', num_class=len(class_labels))"
      ],
      "metadata": {
        "id": "hxUUGTc75SMM"
      },
      "execution_count": 41,
      "outputs": []
    },
    {
      "cell_type": "code",
      "source": [
        "# Train the model\n",
        "model.fit(X, y_train)\n",
        "\n",
        "\n"
      ],
      "metadata": {
        "id": "SQJ635o9IXp_"
      },
      "execution_count": null,
      "outputs": []
    },
    {
      "cell_type": "code",
      "source": [
        "# Make predictions\n",
        "y_pred = model.predict(X_test)"
      ],
      "metadata": {
        "id": "bhnDs_HEVddE"
      },
      "execution_count": 46,
      "outputs": []
    },
    {
      "cell_type": "code",
      "source": [
        "\n",
        "\n",
        "# Evaluate the model\n",
        "accuracy = accuracy_score(y_test, y_pred)\n",
        "print(\"Accuracy:\", accuracy)"
      ],
      "metadata": {
        "id": "m-XLPWjp5WpJ",
        "colab": {
          "base_uri": "https://localhost:8080/"
        },
        "outputId": "1071d966-dec9-403d-bbc6-b13094e9052b"
      },
      "execution_count": 47,
      "outputs": [
        {
          "output_type": "stream",
          "name": "stdout",
          "text": [
            "Accuracy: 0.8280657395701644\n"
          ]
        }
      ]
    }
  ]
}