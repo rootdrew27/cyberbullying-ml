{
  "nbformat": 4,
  "nbformat_minor": 0,
  "metadata": {
    "colab": {
      "provenance": [],
      "authorship_tag": "ABX9TyMSR8NzoI+nLEd8iKQ52wy6",
      "include_colab_link": true
    },
    "kernelspec": {
      "name": "python3",
      "display_name": "Python 3"
    },
    "language_info": {
      "name": "python"
    }
  },
  "cells": [
    {
      "cell_type": "markdown",
      "metadata": {
        "id": "view-in-github",
        "colab_type": "text"
      },
      "source": [
        "<a href=\"https://colab.research.google.com/github/rootdrew27/cyberbullying-ml/blob/main/light_data_cleaning.ipynb\" target=\"_parent\"><img src=\"https://colab.research.google.com/assets/colab-badge.svg\" alt=\"Open In Colab\"/></a>"
      ]
    },
    {
      "cell_type": "code",
      "execution_count": null,
      "metadata": {
        "id": "ND_bYv-iHe3s"
      },
      "outputs": [],
      "source": []
    },
    {
      "cell_type": "code",
      "source": [
        "import pandas as pd\n",
        "import numpy as np\n",
        "import re\n",
        "import nltk"
      ],
      "metadata": {
        "id": "nbQiHKDzHgz1"
      },
      "execution_count": 11,
      "outputs": []
    },
    {
      "cell_type": "code",
      "source": [
        "from google.colab import drive\n",
        "drive.mount('/content/drive')"
      ],
      "metadata": {
        "colab": {
          "base_uri": "https://localhost:8080/"
        },
        "id": "RxZybHwJNI5T",
        "outputId": "61c6463f-ee01-453a-94b4-0203c6b697cc"
      },
      "execution_count": 2,
      "outputs": [
        {
          "output_type": "stream",
          "name": "stdout",
          "text": [
            "Mounted at /content/drive\n"
          ]
        }
      ]
    },
    {
      "cell_type": "code",
      "source": [
        "dataPath = '/content/drive/MyDrive/UWEC/ML Research w Dr. Vanamala/Data/cyberbullying_tweets.csv'"
      ],
      "metadata": {
        "id": "UBQz0JfoNVKR"
      },
      "execution_count": 3,
      "outputs": []
    },
    {
      "cell_type": "code",
      "source": [
        "dataPath2 = './cyberbullying_tweets_n.csv'"
      ],
      "metadata": {
        "id": "tfUbQPCxPFUU"
      },
      "execution_count": 8,
      "outputs": []
    },
    {
      "cell_type": "code",
      "source": [
        "df = pd.read_csv(dataPath)"
      ],
      "metadata": {
        "id": "iLN99p_pNEzc"
      },
      "execution_count": 9,
      "outputs": []
    },
    {
      "cell_type": "code",
      "source": [],
      "metadata": {
        "id": "DcsR9zQjOsW2"
      },
      "execution_count": null,
      "outputs": []
    },
    {
      "cell_type": "code",
      "source": [
        "\n",
        "max([(len(tweet), i) for i, tweet in enumerate(df.tweet_text)])"
      ],
      "metadata": {
        "colab": {
          "base_uri": "https://localhost:8080/"
        },
        "id": "AOLrBO0VONm7",
        "outputId": "cc93b48c-ea79-40d9-c4db-c35fa213340f"
      },
      "execution_count": 14,
      "outputs": [
        {
          "output_type": "execute_result",
          "data": {
            "text/plain": [
              "(5018, 29205)"
            ]
          },
          "metadata": {},
          "execution_count": 14
        }
      ]
    },
    {
      "cell_type": "code",
      "source": [
        "df.iloc[29205][0]"
      ],
      "metadata": {
        "colab": {
          "base_uri": "https://localhost:8080/",
          "height": 774
        },
        "id": "pwkDITBhPsAA",
        "outputId": "769b5231-ee98-4bc6-8826-f7950516f4f5"
      },
      "execution_count": 15,
      "outputs": [
        {
          "output_type": "execute_result",
          "data": {
            "text/plain": [
              "'is feminazi an actual word with a denot…\\r\\n@Nasharchy my job means protecting people. even the people i don\\'t agree with/like.\\r\\nThey barely cooked anything on that entrée #MKR\\r\\nRT @kf: Like, no. If a community fostering jerks prevents users from adopting that community\\'s code, it is very much a technical problem.\\r\\nIt\\'s almost time. :)\\r\\n@JamesGweenwood shock youre bullying me again.\\r\\n@LionLionEatEat yeah, someone DMed me a screenshot. meh. let her. i have no idea who she even is.\\r\\nFor more egregious cases for harassment, we definitely need to be able to respond to those appropriately. But most toxicity isn\\'t this.\\r\\nSo, this happened. http://t.co/ZPTRtsYFiV\\r\\n@Nibelsnarfabarf @srhbutts @GRIMACHU it is really funny all the assumptions they make about how it works - and how much they are wrong.\\r\\nThe lack of self-awareness from @wadhwa right now is staggering and hilarious. #stopwadhwa2015\\r\\nHahahaha http://t.co/JRPkJCNVH9\\r\\nThis is going to be a better finale than how I met your mother, one way or another.\\r\\nTrump and his evil cabal of criminals will be caught and his lying ass will be impeached and it won\\'t b a moment too soon.\\r\\n@saintneko i love rock band. :P\\r\\nI dedicate this thread to @SwiftOnSecurity\\r\\nRT @srhbutts: women at GDC share heartbreaking stories. this is how #gamergate chooses to respond. http://t.co/Q7aBw89VqN\\r\\n@slainv_fr I try. I still make mistakes. It\\'s hard.\\r\\nIf you think our president needs congressional approval to do what he did... You are an idiot ð\\x9f\\x98\\x84\\r\\nRT @EmpressSudol: @freebsdgirl That\\'s just it though.... it\\'s not even a book, it\\'s the rejected first draft of To Kill A Mockingbird befor…\\r\\nAin\\'t gonna lie, think I might try pomegranate in a cous cous salad.. Sounds yum  #MKR\\r\\n&gt;\\'feminazi\\'\\r\\n@Brittany_Blade @Feminazi_Front well they aren\\'t.  ISIS claims to be Muslim, but they\\'re beliefs are nothing like it.  So I don\\'t (1/2)\\r\\n@HARPcast @Zajice I don\\'t fucking ever know when anything is going on!\\r\\nLarge spiders.\\r\\n@conlan_webster it\\'s pretty rad having a non-standard name. although there\\'s getting to be more randi harpers in the world. poor things.\\r\\npeople who take advantage of generosity are the worst never again will I offer up my cheetohs you greedy bastards\\r\\nI hate a person that assumes shyt like come fucking ask me to clarify I ain\\'t gone lie to you dumbass ð\\x9f\\x96\\x95ð\\x9f\\x8f¾\\r\\nRT @missclarolyn: You didn\\'t give me a deconstructed lemon tart, but have a 7 anyway, for the item that wasn\\'t on the menu #MKR\\r\\nSo the selena hate accounts think nolan is cyber bullying??? ya tht makes a lot of sense. NOT!!\\r\\nTitanfall 2 - SALTBALL. GRAPPLE. RONIN. | Music by Iniquity https://t.co/XbLxu9nQjx via @YouTube shits sick dude! @iNiQu1TY\\r\\n@Charlottesph even though that girl was being a bully, zachs mom was kind of rude to you. she should know better than to say that.\\r\\n@KatelinReed is a big ole mean bully of a sister \\ue411\\r\\n@DiceTechJobs @Itshella_dom @Maira_Benjamin @jenrpetersen that isn\\'t me.\\r\\nRT @SQUlDZ: This bitch wanna be a penguin so bad https://t.co/pK6YnmXcBS\\r\\nI was getting really into reading these blue apron recipes until I realized they don\\'t use the Oxford comma. https://t.co/vnBWqNVinD\\r\\n@sayyMiaa Lmao naw.. Nobody likes me, but thank you! You\\'re nice too, when you\\'re not trying to bully ppl\\r\\n@mcmahoniel there\\'s a lot of sarcasm and doublespeak in this group, especially. appropriation of terms. text filters just don\\'t work.\\r\\nRT @atonal440: @freebsdgirl this comment on this article reminded me of you. Do you stilget DOS mansplainers? http://t.co/phZ5ePVnCx http:/…\\r\\nNintendo 3DS http://t.co/HbxvCUvVNk\\r\\n@mcmahoniel unfortunately, no. text filters are too high-risk.\\r\\n@Cath_Mayoevans @julesrisk63 u virtual bully making her hit me lol\\r\\n@tthacker15 @Frazer_Cobb will you two stop bullying me. Thankyou.\\r\\n.@Wavinator @CHOBITCOIN I love HTs like this...I just spin the gallery on my tablet like the Price Is Right wheel and use whatever comes up.\\r\\n@Matt_Cooke86 Nutrition is key to closing the .#Aboriginal life expectancy gap http://t.co/IHtNiRJMa9 @croakeyblog http://t.co/ktnqAD0TM3\\r\\nCheck out my guest post on @Zusterschap blog http://t.co/WKgrwsBO0v My response to the #BlameOneNotAll thread!\\r\\n@darxtorm sigh\\r\\nFinally a meal without dracko piping up 🙉 #MKR\\r\\n@PlumsOfDoom he was just unfairly antagonized by that bully Barton that I wanted on our team! Bastad that one! Lol\\r\\nhttps://t.co/Lku6rHKV8F\\r\\nRT @a_man_in_black: @freebsdgirl You might want to take this to whoever your person at Twitter is. https://t.co/QsUdICRIEP\\r\\nHow should I even classify this? Wielding a mob? Indirect bullying? I\\'m not sure.\\r\\nWhy did Kelly attack Brie? First she attacks from behind, now she attacks unprovoked! She\\'s a bigger bully than the Divas of Destruction!\\r\\n@leyna76 In this case, evidently, yes.\\r\\n@stibbons then use that. :P\\r\\nRT @SlavenOUT: BILIC I FUCKING HATE YOU, WATCH US LOSE TO SWANSEA AND RELEGATION WILL BE IMMINENT\\r\\n@m_d3mps3y Debts because you\\'re so fucking in the hole because all you and your pathetic ass boyfriend\" do are putâ\\x80¦ https://t.co/9gDwpQGcUI'"
            ],
            "application/vnd.google.colaboratory.intrinsic+json": {
              "type": "string"
            }
          },
          "metadata": {},
          "execution_count": 15
        }
      ]
    },
    {
      "cell_type": "code",
      "source": [
        "# cleaning functions\n",
        "\n",
        "# remove links, mentions, RT flags, and punctuation.\n",
        "\n",
        "def remove_bad_data(text):\n",
        "  return text if len(text) < 280 else \"\"\n",
        "\n",
        "def standardize_text(text):\n",
        "  return text.lower()\n",
        "\n",
        "\n",
        "# word segment\n",
        "\n"
      ],
      "metadata": {
        "id": "ifS9wfCRHoyj"
      },
      "execution_count": null,
      "outputs": []
    }
  ]
}